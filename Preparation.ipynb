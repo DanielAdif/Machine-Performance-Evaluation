{
  "nbformat": 4,
  "nbformat_minor": 0,
  "metadata": {
    "colab": {
      "name": "Preparation.ipynb",
      "provenance": [],
      "collapsed_sections": [],
      "authorship_tag": "ABX9TyOL9kkCTkAcBxzakpGVHyUN",
      "include_colab_link": true
    },
    "kernelspec": {
      "name": "python3",
      "display_name": "Python 3"
    },
    "language_info": {
      "name": "python"
    }
  },
  "cells": [
    {
      "cell_type": "markdown",
      "metadata": {
        "id": "view-in-github",
        "colab_type": "text"
      },
      "source": [
        "<a href=\"https://colab.research.google.com/github/DanielAdif/Machine-Performance-Evaluation/blob/main/Preparation.ipynb\" target=\"_parent\"><img src=\"https://colab.research.google.com/assets/colab-badge.svg\" alt=\"Open In Colab\"/></a>"
      ]
    },
    {
      "cell_type": "code",
      "metadata": {
        "id": "ysXVeI2k2rXN"
      },
      "source": [
        "#Important Library\n",
        "import pandas as pd\n",
        "import numpy as np\n",
        "import matplotlib.pyplot as plt\n",
        "import seaborn as sns\n",
        "import plotly.express as px\n",
        "pd. set_option('display.max_rows', 500)\n",
        "\n",
        "#Sci-kit Learn Library\n",
        "from sklearn import preprocessing\n",
        "from sklearn.model_selection import cross_val_score\n",
        "from sklearn.model_selection import KFold\n",
        "from sklearn.preprocessing import LabelEncoder\n",
        "from sklearn.pipeline import Pipeline\n",
        "from sklearn.cluster import KMeans\n",
        "from sklearn.feature_selection import mutual_info_classif\n",
        "from sklearn.decomposition import PCA\n",
        "from sklearn.model_selection import train_test_split\n",
        "from sklearn.metrics import mean_squared_error\n",
        "from math import sqrt\n",
        "from sklearn.linear_model import LogisticRegression\n",
        "from sklearn.ensemble import GradientBoostingClassifier\n",
        "from sklearn.linear_model import Perceptron\n",
        "\n",
        "#Deep Learning Library\n",
        "from tensorflow.keras.models import Sequential\n",
        "from tensorflow.keras.layers import LSTM\n",
        "from tensorflow.keras.layers import Dense\n",
        "from tensorflow.keras.layers import Flatten\n",
        "from keras.wrappers.scikit_learn import KerasClassifier\n",
        "from keras.utils import np_utils"
      ],
      "execution_count": 1,
      "outputs": []
    },
    {
      "cell_type": "code",
      "metadata": {
        "colab": {
          "base_uri": "https://localhost:8080/",
          "height": 237
        },
        "id": "_C14fYdc4KyL",
        "outputId": "47db5088-83dc-42ec-c253-0d6533b888b8"
      },
      "source": [
        "df = pd.read_excel('Book1.xlsx', sheet_name='Obs (2)')\n",
        "cluster_df = df.set_index('Obs')\n",
        "cluster_df.head()"
      ],
      "execution_count": 2,
      "outputs": [
        {
          "output_type": "execute_result",
          "data": {
            "text/html": [
              "<div>\n",
              "<style scoped>\n",
              "    .dataframe tbody tr th:only-of-type {\n",
              "        vertical-align: middle;\n",
              "    }\n",
              "\n",
              "    .dataframe tbody tr th {\n",
              "        vertical-align: top;\n",
              "    }\n",
              "\n",
              "    .dataframe thead th {\n",
              "        text-align: right;\n",
              "    }\n",
              "</style>\n",
              "<table border=\"1\" class=\"dataframe\">\n",
              "  <thead>\n",
              "    <tr style=\"text-align: right;\">\n",
              "      <th></th>\n",
              "      <th>Number of Defect</th>\n",
              "      <th>Std. Dev Processing</th>\n",
              "      <th>%Completion</th>\n",
              "      <th>Perfectly Cut</th>\n",
              "      <th>Defect Type</th>\n",
              "    </tr>\n",
              "    <tr>\n",
              "      <th>Obs</th>\n",
              "      <th></th>\n",
              "      <th></th>\n",
              "      <th></th>\n",
              "      <th></th>\n",
              "      <th></th>\n",
              "    </tr>\n",
              "  </thead>\n",
              "  <tbody>\n",
              "    <tr>\n",
              "      <th>1</th>\n",
              "      <td>3</td>\n",
              "      <td>2.645751</td>\n",
              "      <td>108</td>\n",
              "      <td>0</td>\n",
              "      <td>1</td>\n",
              "    </tr>\n",
              "    <tr>\n",
              "      <th>2</th>\n",
              "      <td>5</td>\n",
              "      <td>1.414214</td>\n",
              "      <td>99</td>\n",
              "      <td>0</td>\n",
              "      <td>1</td>\n",
              "    </tr>\n",
              "    <tr>\n",
              "      <th>3</th>\n",
              "      <td>3</td>\n",
              "      <td>1.527525</td>\n",
              "      <td>109</td>\n",
              "      <td>0</td>\n",
              "      <td>1</td>\n",
              "    </tr>\n",
              "    <tr>\n",
              "      <th>4</th>\n",
              "      <td>3</td>\n",
              "      <td>1.732051</td>\n",
              "      <td>101</td>\n",
              "      <td>0</td>\n",
              "      <td>1</td>\n",
              "    </tr>\n",
              "    <tr>\n",
              "      <th>5</th>\n",
              "      <td>9</td>\n",
              "      <td>3.055050</td>\n",
              "      <td>75</td>\n",
              "      <td>1</td>\n",
              "      <td>1</td>\n",
              "    </tr>\n",
              "  </tbody>\n",
              "</table>\n",
              "</div>"
            ],
            "text/plain": [
              "     Number of Defect  Std. Dev Processing  ...  Perfectly Cut  Defect Type\n",
              "Obs                                         ...                            \n",
              "1                   3             2.645751  ...              0            1\n",
              "2                   5             1.414214  ...              0            1\n",
              "3                   3             1.527525  ...              0            1\n",
              "4                   3             1.732051  ...              0            1\n",
              "5                   9             3.055050  ...              1            1\n",
              "\n",
              "[5 rows x 5 columns]"
            ]
          },
          "metadata": {},
          "execution_count": 2
        }
      ]
    },
    {
      "cell_type": "code",
      "metadata": {
        "colab": {
          "base_uri": "https://localhost:8080/",
          "height": 376
        },
        "id": "oiDjahkj4QJu",
        "outputId": "9c79772e-c023-4e88-d7f1-32dacf096fbf"
      },
      "source": [
        "df_corr = cluster_df[['Number of Defect', 'Std. Dev Processing', '%Completion']]\n",
        "sns.heatmap(df_corr.corr(), annot=True)"
      ],
      "execution_count": 3,
      "outputs": [
        {
          "output_type": "execute_result",
          "data": {
            "text/plain": [
              "<matplotlib.axes._subplots.AxesSubplot at 0x7f1c1854b410>"
            ]
          },
          "metadata": {},
          "execution_count": 3
        },
        {
          "output_type": "display_data",
          "data": {
            "image/png": "[encoded data removed]",
            "text/plain": [
              "<Figure size 432x288 with 2 Axes>"
            ]
          },
          "metadata": {
            "needs_background": "light"
          }
        }
      ]
    },
    {
      "cell_type": "code",
      "metadata": {
        "colab": {
          "base_uri": "https://localhost:8080/",
          "height": 296
        },
        "id": "zSPXS_pM4gHI",
        "outputId": "9d976a51-8a7e-40cd-b222-1e5bb7449e15"
      },
      "source": [
        "sns.kdeplot(cluster_df['%Completion'])\n",
        "sns.kdeplot(cluster_df['Std. Dev Processing'])\n",
        "sns.kdeplot(cluster_df['Number of Defect'])\n",
        "sns.kdeplot(cluster_df['Defect Type'])\n",
        "sns.kdeplot(cluster_df['Perfectly Cut'])"
      ],
      "execution_count": 4,
      "outputs": [
        {
          "output_type": "execute_result",
          "data": {
            "text/plain": [
              "<matplotlib.axes._subplots.AxesSubplot at 0x7f1c1855de90>"
            ]
          },
          "metadata": {},
          "execution_count": 4
        },
        {
          "output_type": "display_data",
          "data": {
            "image/png": "[encoded data removed]",
            "text/plain": [
              "<Figure size 432x288 with 1 Axes>"
            ]
          },
          "metadata": {
            "needs_background": "light"
          }
        }
      ]
    },
    {
      "cell_type": "code",
      "metadata": {
        "colab": {
          "base_uri": "https://localhost:8080/",
          "height": 206
        },
        "id": "ExkqRDNoaOqk",
        "outputId": "4b360db2-66e3-40ac-c8bb-afc448f369e5"
      },
      "source": [
        "scaler = preprocessing.RobustScaler()\n",
        "robust_df = scaler.fit_transform(cluster_df)\n",
        "robust_df = pd.DataFrame(robust_df)\n",
        "robust_df.columns = ['Number of Defect',\t'Std. Dev Processing',\t'%Completion',\t'Perfectly Cut',\t'Defect Type']\n",
        "robust_df.head()"
      ],
      "execution_count": 5,
      "outputs": [
        {
          "output_type": "execute_result",
          "data": {
            "text/html": [
              "<div>\n",
              "<style scoped>\n",
              "    .dataframe tbody tr th:only-of-type {\n",
              "        vertical-align: middle;\n",
              "    }\n",
              "\n",
              "    .dataframe tbody tr th {\n",
              "        vertical-align: top;\n",
              "    }\n",
              "\n",
              "    .dataframe thead th {\n",
              "        text-align: right;\n",
              "    }\n",
              "</style>\n",
              "<table border=\"1\" class=\"dataframe\">\n",
              "  <thead>\n",
              "    <tr style=\"text-align: right;\">\n",
              "      <th></th>\n",
              "      <th>Number of Defect</th>\n",
              "      <th>Std. Dev Processing</th>\n",
              "      <th>%Completion</th>\n",
              "      <th>Perfectly Cut</th>\n",
              "      <th>Defect Type</th>\n",
              "    </tr>\n",
              "  </thead>\n",
              "  <tbody>\n",
              "    <tr>\n",
              "      <th>0</th>\n",
              "      <td>-0.333333</td>\n",
              "      <td>-0.079321</td>\n",
              "      <td>0.962963</td>\n",
              "      <td>0.0</td>\n",
              "      <td>-0.5</td>\n",
              "    </tr>\n",
              "    <tr>\n",
              "      <th>1</th>\n",
              "      <td>0.000000</td>\n",
              "      <td>-0.510549</td>\n",
              "      <td>0.629630</td>\n",
              "      <td>0.0</td>\n",
              "      <td>-0.5</td>\n",
              "    </tr>\n",
              "    <tr>\n",
              "      <th>2</th>\n",
              "      <td>-0.333333</td>\n",
              "      <td>-0.470873</td>\n",
              "      <td>1.000000</td>\n",
              "      <td>0.0</td>\n",
              "      <td>-0.5</td>\n",
              "    </tr>\n",
              "    <tr>\n",
              "      <th>3</th>\n",
              "      <td>-0.333333</td>\n",
              "      <td>-0.399257</td>\n",
              "      <td>0.703704</td>\n",
              "      <td>0.0</td>\n",
              "      <td>-0.5</td>\n",
              "    </tr>\n",
              "    <tr>\n",
              "      <th>4</th>\n",
              "      <td>0.666667</td>\n",
              "      <td>0.063997</td>\n",
              "      <td>-0.259259</td>\n",
              "      <td>1.0</td>\n",
              "      <td>-0.5</td>\n",
              "    </tr>\n",
              "  </tbody>\n",
              "</table>\n",
              "</div>"
            ],
            "text/plain": [
              "   Number of Defect  Std. Dev Processing  ...  Perfectly Cut  Defect Type\n",
              "0         -0.333333            -0.079321  ...            0.0         -0.5\n",
              "1          0.000000            -0.510549  ...            0.0         -0.5\n",
              "2         -0.333333            -0.470873  ...            0.0         -0.5\n",
              "3         -0.333333            -0.399257  ...            0.0         -0.5\n",
              "4          0.666667             0.063997  ...            1.0         -0.5\n",
              "\n",
              "[5 rows x 5 columns]"
            ]
          },
          "metadata": {},
          "execution_count": 5
        }
      ]
    },
    {
      "cell_type": "code",
      "metadata": {
        "colab": {
          "base_uri": "https://localhost:8080/",
          "height": 296
        },
        "id": "4J5CNYdxbCRF",
        "outputId": "9705760d-7e49-4d6f-c5bc-b96ce5e3a197"
      },
      "source": [
        "sns.kdeplot(robust_df['%Completion'])\n",
        "sns.kdeplot(robust_df['Std. Dev Processing'])\n",
        "sns.kdeplot(robust_df['Number of Defect'])\n",
        "sns.kdeplot(robust_df['Defect Type'])\n",
        "sns.kdeplot(robust_df['Perfectly Cut'])"
      ],
      "execution_count": 6,
      "outputs": [
        {
          "output_type": "execute_result",
          "data": {
            "text/plain": [
              "<matplotlib.axes._subplots.AxesSubplot at 0x7f1c0d3f90d0>"
            ]
          },
          "metadata": {},
          "execution_count": 6
        },
        {
          "output_type": "display_data",
          "data": {
            "image/png": "[encoded data removed]",
            "text/plain": [
              "<Figure size 432x288 with 1 Axes>"
            ]
          },
          "metadata": {
            "needs_background": "light"
          }
        }
      ]
    },
    {
      "cell_type": "code",
      "metadata": {
        "colab": {
          "base_uri": "https://localhost:8080/",
          "height": 312
        },
        "id": "RN1EAL_2ZyKE",
        "outputId": "83dbfa09-32bc-42c5-af6b-f54c698e2d0f"
      },
      "source": [
        "wcss = []\n",
        "\n",
        "for i in range(1,10):\n",
        "  kmeans = KMeans(i)\n",
        "  kmeans.fit(cluster_df)\n",
        "  wcss_iter = kmeans.inertia_\n",
        "  wcss.append(wcss_iter)\n",
        "\n",
        "plt.plot(range(1,10), wcss)\n",
        "plt.title('Elbow Method')\n",
        "plt.xlabel('Number of Cluster')\n",
        "plt.ylabel('Within-Cluster Sum of Squares')"
      ],
      "execution_count": 7,
      "outputs": [
        {
          "output_type": "execute_result",
          "data": {
            "text/plain": [
              "Text(0, 0.5, 'Within-Cluster Sum of Squares')"
            ]
          },
          "metadata": {},
          "execution_count": 7
        },
        {
          "output_type": "display_data",
          "data": {
            "image/png": "[encoded data removed]",
            "text/plain": [
              "<Figure size 432x288 with 1 Axes>"
            ]
          },
          "metadata": {
            "needs_background": "light"
          }
        }
      ]
    },
    {
      "cell_type": "code",
      "metadata": {
        "colab": {
          "base_uri": "https://localhost:8080/",
          "height": 237
        },
        "id": "LLtK-A24aAhz",
        "outputId": "557d27c4-e25b-4151-fa8f-888d7dcc0c05"
      },
      "source": [
        "kmeans = KMeans(n_clusters=3)\n",
        "cluster_df[\"Cluster\"] = kmeans.fit_predict(robust_df)\n",
        "cluster_df[\"Cluster\"] =cluster_df[\"Cluster\"].astype(\"category\")\n",
        "\n",
        "cluster_df.head()"
      ],
      "execution_count": 8,
      "outputs": [
        {
          "output_type": "execute_result",
          "data": {
            "text/html": [
              "<div>\n",
              "<style scoped>\n",
              "    .dataframe tbody tr th:only-of-type {\n",
              "        vertical-align: middle;\n",
              "    }\n",
              "\n",
              "    .dataframe tbody tr th {\n",
              "        vertical-align: top;\n",
              "    }\n",
              "\n",
              "    .dataframe thead th {\n",
              "        text-align: right;\n",
              "    }\n",
              "</style>\n",
              "<table border=\"1\" class=\"dataframe\">\n",
              "  <thead>\n",
              "    <tr style=\"text-align: right;\">\n",
              "      <th></th>\n",
              "      <th>Number of Defect</th>\n",
              "      <th>Std. Dev Processing</th>\n",
              "      <th>%Completion</th>\n",
              "      <th>Perfectly Cut</th>\n",
              "      <th>Defect Type</th>\n",
              "      <th>Cluster</th>\n",
              "    </tr>\n",
              "    <tr>\n",
              "      <th>Obs</th>\n",
              "      <th></th>\n",
              "      <th></th>\n",
              "      <th></th>\n",
              "      <th></th>\n",
              "      <th></th>\n",
              "      <th></th>\n",
              "    </tr>\n",
              "  </thead>\n",
              "  <tbody>\n",
              "    <tr>\n",
              "      <th>1</th>\n",
              "      <td>3</td>\n",
              "      <td>2.645751</td>\n",
              "      <td>108</td>\n",
              "      <td>0</td>\n",
              "      <td>1</td>\n",
              "      <td>1</td>\n",
              "    </tr>\n",
              "    <tr>\n",
              "      <th>2</th>\n",
              "      <td>5</td>\n",
              "      <td>1.414214</td>\n",
              "      <td>99</td>\n",
              "      <td>0</td>\n",
              "      <td>1</td>\n",
              "      <td>1</td>\n",
              "    </tr>\n",
              "    <tr>\n",
              "      <th>3</th>\n",
              "      <td>3</td>\n",
              "      <td>1.527525</td>\n",
              "      <td>109</td>\n",
              "      <td>0</td>\n",
              "      <td>1</td>\n",
              "      <td>1</td>\n",
              "    </tr>\n",
              "    <tr>\n",
              "      <th>4</th>\n",
              "      <td>3</td>\n",
              "      <td>1.732051</td>\n",
              "      <td>101</td>\n",
              "      <td>0</td>\n",
              "      <td>1</td>\n",
              "      <td>1</td>\n",
              "    </tr>\n",
              "    <tr>\n",
              "      <th>5</th>\n",
              "      <td>9</td>\n",
              "      <td>3.055050</td>\n",
              "      <td>75</td>\n",
              "      <td>1</td>\n",
              "      <td>1</td>\n",
              "      <td>0</td>\n",
              "    </tr>\n",
              "  </tbody>\n",
              "</table>\n",
              "</div>"
            ],
            "text/plain": [
              "     Number of Defect  Std. Dev Processing  ...  Defect Type  Cluster\n",
              "Obs                                         ...                      \n",
              "1                   3             2.645751  ...            1        1\n",
              "2                   5             1.414214  ...            1        1\n",
              "3                   3             1.527525  ...            1        1\n",
              "4                   3             1.732051  ...            1        1\n",
              "5                   9             3.055050  ...            1        0\n",
              "\n",
              "[5 rows x 6 columns]"
            ]
          },
          "metadata": {},
          "execution_count": 8
        }
      ]
    },
    {
      "cell_type": "code",
      "metadata": {
        "colab": {
          "base_uri": "https://localhost:8080/"
        },
        "id": "l30y2DbTcsXM",
        "outputId": "2257120a-8322-453a-ec7a-0384a5730bbf"
      },
      "source": [
        "cluster_df['Cluster'].value_counts()"
      ],
      "execution_count": 9,
      "outputs": [
        {
          "output_type": "execute_result",
          "data": {
            "text/plain": [
              "1    186\n",
              "0    103\n",
              "2     78\n",
              "Name: Cluster, dtype: int64"
            ]
          },
          "metadata": {},
          "execution_count": 9
        }
      ]
    },
    {
      "cell_type": "code",
      "metadata": {
        "id": "ztjbSrSyYmyo"
      },
      "source": [
        "cluster_df.to_excel('Clustered.xlsx')"
      ],
      "execution_count": 10,
      "outputs": []
    },
    {
      "cell_type": "code",
      "metadata": {
        "id": "WuJeFITWcuYg"
      },
      "source": [
        "df_1 = cluster_df.loc[cluster_df['Cluster'] == 1]\n",
        "df_0 = cluster_df.loc[cluster_df['Cluster'] == 0]\n",
        "df_2 = cluster_df.loc[cluster_df['Cluster'] == 2]"
      ],
      "execution_count": 11,
      "outputs": []
    },
    {
      "cell_type": "code",
      "metadata": {
        "colab": {
          "base_uri": "https://localhost:8080/",
          "height": 300
        },
        "id": "x-Co0DIid-au",
        "outputId": "baaed2c0-4bf4-47e5-d9fc-e72892b7b833"
      },
      "source": [
        "df_1.describe()"
      ],
      "execution_count": 12,
      "outputs": [
        {
          "output_type": "execute_result",
          "data": {
            "text/html": [
              "<div>\n",
              "<style scoped>\n",
              "    .dataframe tbody tr th:only-of-type {\n",
              "        vertical-align: middle;\n",
              "    }\n",
              "\n",
              "    .dataframe tbody tr th {\n",
              "        vertical-align: top;\n",
              "    }\n",
              "\n",
              "    .dataframe thead th {\n",
              "        text-align: right;\n",
              "    }\n",
              "</style>\n",
              "<table border=\"1\" class=\"dataframe\">\n",
              "  <thead>\n",
              "    <tr style=\"text-align: right;\">\n",
              "      <th></th>\n",
              "      <th>Number of Defect</th>\n",
              "      <th>Std. Dev Processing</th>\n",
              "      <th>%Completion</th>\n",
              "      <th>Perfectly Cut</th>\n",
              "      <th>Defect Type</th>\n",
              "    </tr>\n",
              "  </thead>\n",
              "  <tbody>\n",
              "    <tr>\n",
              "      <th>count</th>\n",
              "      <td>186.000000</td>\n",
              "      <td>186.000000</td>\n",
              "      <td>186.000000</td>\n",
              "      <td>186.0</td>\n",
              "      <td>186.000000</td>\n",
              "    </tr>\n",
              "    <tr>\n",
              "      <th>mean</th>\n",
              "      <td>3.053763</td>\n",
              "      <td>1.575069</td>\n",
              "      <td>98.435484</td>\n",
              "      <td>0.0</td>\n",
              "      <td>2.043011</td>\n",
              "    </tr>\n",
              "    <tr>\n",
              "      <th>std</th>\n",
              "      <td>1.439712</td>\n",
              "      <td>0.810742</td>\n",
              "      <td>8.649239</td>\n",
              "      <td>0.0</td>\n",
              "      <td>1.007153</td>\n",
              "    </tr>\n",
              "    <tr>\n",
              "      <th>min</th>\n",
              "      <td>1.000000</td>\n",
              "      <td>0.006136</td>\n",
              "      <td>80.000000</td>\n",
              "      <td>0.0</td>\n",
              "      <td>0.000000</td>\n",
              "    </tr>\n",
              "    <tr>\n",
              "      <th>25%</th>\n",
              "      <td>2.000000</td>\n",
              "      <td>0.923203</td>\n",
              "      <td>91.250000</td>\n",
              "      <td>0.0</td>\n",
              "      <td>1.000000</td>\n",
              "    </tr>\n",
              "    <tr>\n",
              "      <th>50%</th>\n",
              "      <td>3.000000</td>\n",
              "      <td>1.553238</td>\n",
              "      <td>101.000000</td>\n",
              "      <td>0.0</td>\n",
              "      <td>2.000000</td>\n",
              "    </tr>\n",
              "    <tr>\n",
              "      <th>75%</th>\n",
              "      <td>4.000000</td>\n",
              "      <td>2.247191</td>\n",
              "      <td>105.000000</td>\n",
              "      <td>0.0</td>\n",
              "      <td>3.000000</td>\n",
              "    </tr>\n",
              "    <tr>\n",
              "      <th>max</th>\n",
              "      <td>5.000000</td>\n",
              "      <td>2.939854</td>\n",
              "      <td>110.000000</td>\n",
              "      <td>0.0</td>\n",
              "      <td>4.000000</td>\n",
              "    </tr>\n",
              "  </tbody>\n",
              "</table>\n",
              "</div>"
            ],
            "text/plain": [
              "       Number of Defect  Std. Dev Processing  ...  Perfectly Cut  Defect Type\n",
              "count        186.000000           186.000000  ...          186.0   186.000000\n",
              "mean           3.053763             1.575069  ...            0.0     2.043011\n",
              "std            1.439712             0.810742  ...            0.0     1.007153\n",
              "min            1.000000             0.006136  ...            0.0     0.000000\n",
              "25%            2.000000             0.923203  ...            0.0     1.000000\n",
              "50%            3.000000             1.553238  ...            0.0     2.000000\n",
              "75%            4.000000             2.247191  ...            0.0     3.000000\n",
              "max            5.000000             2.939854  ...            0.0     4.000000\n",
              "\n",
              "[8 rows x 5 columns]"
            ]
          },
          "metadata": {},
          "execution_count": 12
        }
      ]
    },
    {
      "cell_type": "code",
      "metadata": {
        "colab": {
          "base_uri": "https://localhost:8080/",
          "height": 300
        },
        "id": "czG0MAlTefCB",
        "outputId": "8ecdf829-31db-45c7-bd28-982683c7b98c"
      },
      "source": [
        "df_2.describe()"
      ],
      "execution_count": 13,
      "outputs": [
        {
          "output_type": "execute_result",
          "data": {
            "text/html": [
              "<div>\n",
              "<style scoped>\n",
              "    .dataframe tbody tr th:only-of-type {\n",
              "        vertical-align: middle;\n",
              "    }\n",
              "\n",
              "    .dataframe tbody tr th {\n",
              "        vertical-align: top;\n",
              "    }\n",
              "\n",
              "    .dataframe thead th {\n",
              "        text-align: right;\n",
              "    }\n",
              "</style>\n",
              "<table border=\"1\" class=\"dataframe\">\n",
              "  <thead>\n",
              "    <tr style=\"text-align: right;\">\n",
              "      <th></th>\n",
              "      <th>Number of Defect</th>\n",
              "      <th>Std. Dev Processing</th>\n",
              "      <th>%Completion</th>\n",
              "      <th>Perfectly Cut</th>\n",
              "      <th>Defect Type</th>\n",
              "    </tr>\n",
              "  </thead>\n",
              "  <tbody>\n",
              "    <tr>\n",
              "      <th>count</th>\n",
              "      <td>78.000000</td>\n",
              "      <td>78.000000</td>\n",
              "      <td>78.000000</td>\n",
              "      <td>78.0</td>\n",
              "      <td>78.000000</td>\n",
              "    </tr>\n",
              "    <tr>\n",
              "      <th>mean</th>\n",
              "      <td>10.589744</td>\n",
              "      <td>5.780769</td>\n",
              "      <td>74.153846</td>\n",
              "      <td>1.0</td>\n",
              "      <td>2.961538</td>\n",
              "    </tr>\n",
              "    <tr>\n",
              "      <th>std</th>\n",
              "      <td>1.037428</td>\n",
              "      <td>1.232982</td>\n",
              "      <td>2.910246</td>\n",
              "      <td>0.0</td>\n",
              "      <td>0.874491</td>\n",
              "    </tr>\n",
              "    <tr>\n",
              "      <th>min</th>\n",
              "      <td>9.000000</td>\n",
              "      <td>3.340421</td>\n",
              "      <td>70.000000</td>\n",
              "      <td>1.0</td>\n",
              "      <td>1.000000</td>\n",
              "    </tr>\n",
              "    <tr>\n",
              "      <th>25%</th>\n",
              "      <td>10.000000</td>\n",
              "      <td>4.770300</td>\n",
              "      <td>72.000000</td>\n",
              "      <td>1.0</td>\n",
              "      <td>2.000000</td>\n",
              "    </tr>\n",
              "    <tr>\n",
              "      <th>50%</th>\n",
              "      <td>10.000000</td>\n",
              "      <td>5.714286</td>\n",
              "      <td>74.000000</td>\n",
              "      <td>1.0</td>\n",
              "      <td>3.000000</td>\n",
              "    </tr>\n",
              "    <tr>\n",
              "      <th>75%</th>\n",
              "      <td>11.750000</td>\n",
              "      <td>6.528921</td>\n",
              "      <td>77.000000</td>\n",
              "      <td>1.0</td>\n",
              "      <td>4.000000</td>\n",
              "    </tr>\n",
              "    <tr>\n",
              "      <th>max</th>\n",
              "      <td>12.000000</td>\n",
              "      <td>8.698897</td>\n",
              "      <td>79.000000</td>\n",
              "      <td>1.0</td>\n",
              "      <td>4.000000</td>\n",
              "    </tr>\n",
              "  </tbody>\n",
              "</table>\n",
              "</div>"
            ],
            "text/plain": [
              "       Number of Defect  Std. Dev Processing  ...  Perfectly Cut  Defect Type\n",
              "count         78.000000            78.000000  ...           78.0    78.000000\n",
              "mean          10.589744             5.780769  ...            1.0     2.961538\n",
              "std            1.037428             1.232982  ...            0.0     0.874491\n",
              "min            9.000000             3.340421  ...            1.0     1.000000\n",
              "25%           10.000000             4.770300  ...            1.0     2.000000\n",
              "50%           10.000000             5.714286  ...            1.0     3.000000\n",
              "75%           11.750000             6.528921  ...            1.0     4.000000\n",
              "max           12.000000             8.698897  ...            1.0     4.000000\n",
              "\n",
              "[8 rows x 5 columns]"
            ]
          },
          "metadata": {},
          "execution_count": 13
        }
      ]
    },
    {
      "cell_type": "code",
      "metadata": {
        "colab": {
          "base_uri": "https://localhost:8080/",
          "height": 300
        },
        "id": "ug021610e2p8",
        "outputId": "aa675c00-0a38-45ec-81fd-71ea6ef0bb96"
      },
      "source": [
        "df_0.describe()"
      ],
      "execution_count": 14,
      "outputs": [
        {
          "output_type": "execute_result",
          "data": {
            "text/html": [
              "<div>\n",
              "<style scoped>\n",
              "    .dataframe tbody tr th:only-of-type {\n",
              "        vertical-align: middle;\n",
              "    }\n",
              "\n",
              "    .dataframe tbody tr th {\n",
              "        vertical-align: top;\n",
              "    }\n",
              "\n",
              "    .dataframe thead th {\n",
              "        text-align: right;\n",
              "    }\n",
              "</style>\n",
              "<table border=\"1\" class=\"dataframe\">\n",
              "  <thead>\n",
              "    <tr style=\"text-align: right;\">\n",
              "      <th></th>\n",
              "      <th>Number of Defect</th>\n",
              "      <th>Std. Dev Processing</th>\n",
              "      <th>%Completion</th>\n",
              "      <th>Perfectly Cut</th>\n",
              "      <th>Defect Type</th>\n",
              "    </tr>\n",
              "  </thead>\n",
              "  <tbody>\n",
              "    <tr>\n",
              "      <th>count</th>\n",
              "      <td>103.000000</td>\n",
              "      <td>103.000000</td>\n",
              "      <td>103.000000</td>\n",
              "      <td>103.0</td>\n",
              "      <td>103.000000</td>\n",
              "    </tr>\n",
              "    <tr>\n",
              "      <th>mean</th>\n",
              "      <td>8.271845</td>\n",
              "      <td>3.815331</td>\n",
              "      <td>75.242718</td>\n",
              "      <td>1.0</td>\n",
              "      <td>1.834951</td>\n",
              "    </tr>\n",
              "    <tr>\n",
              "      <th>std</th>\n",
              "      <td>1.931139</td>\n",
              "      <td>0.651920</td>\n",
              "      <td>5.057446</td>\n",
              "      <td>0.0</td>\n",
              "      <td>0.960975</td>\n",
              "    </tr>\n",
              "    <tr>\n",
              "      <th>min</th>\n",
              "      <td>5.000000</td>\n",
              "      <td>3.017660</td>\n",
              "      <td>70.000000</td>\n",
              "      <td>1.0</td>\n",
              "      <td>0.000000</td>\n",
              "    </tr>\n",
              "    <tr>\n",
              "      <th>25%</th>\n",
              "      <td>6.500000</td>\n",
              "      <td>3.300026</td>\n",
              "      <td>72.000000</td>\n",
              "      <td>1.0</td>\n",
              "      <td>1.000000</td>\n",
              "    </tr>\n",
              "    <tr>\n",
              "      <th>50%</th>\n",
              "      <td>9.000000</td>\n",
              "      <td>3.613426</td>\n",
              "      <td>74.000000</td>\n",
              "      <td>1.0</td>\n",
              "      <td>2.000000</td>\n",
              "    </tr>\n",
              "    <tr>\n",
              "      <th>75%</th>\n",
              "      <td>9.000000</td>\n",
              "      <td>4.322054</td>\n",
              "      <td>77.500000</td>\n",
              "      <td>1.0</td>\n",
              "      <td>2.000000</td>\n",
              "    </tr>\n",
              "    <tr>\n",
              "      <th>max</th>\n",
              "      <td>12.000000</td>\n",
              "      <td>5.701877</td>\n",
              "      <td>99.000000</td>\n",
              "      <td>1.0</td>\n",
              "      <td>4.000000</td>\n",
              "    </tr>\n",
              "  </tbody>\n",
              "</table>\n",
              "</div>"
            ],
            "text/plain": [
              "       Number of Defect  Std. Dev Processing  ...  Perfectly Cut  Defect Type\n",
              "count        103.000000           103.000000  ...          103.0   103.000000\n",
              "mean           8.271845             3.815331  ...            1.0     1.834951\n",
              "std            1.931139             0.651920  ...            0.0     0.960975\n",
              "min            5.000000             3.017660  ...            1.0     0.000000\n",
              "25%            6.500000             3.300026  ...            1.0     1.000000\n",
              "50%            9.000000             3.613426  ...            1.0     2.000000\n",
              "75%            9.000000             4.322054  ...            1.0     2.000000\n",
              "max           12.000000             5.701877  ...            1.0     4.000000\n",
              "\n",
              "[8 rows x 5 columns]"
            ]
          },
          "metadata": {},
          "execution_count": 14
        }
      ]
    },
    {
      "cell_type": "code",
      "metadata": {
        "id": "PnXyCZKxe5d0"
      },
      "source": [
        "X = cluster_df.copy()\n",
        "y = X.pop('Cluster')\n",
        "\n",
        "# All discrete features should now have integer dtypes (double-check this before using MI!)\n",
        "discrete_features = X.dtypes == int"
      ],
      "execution_count": 15,
      "outputs": []
    },
    {
      "cell_type": "code",
      "metadata": {
        "colab": {
          "base_uri": "https://localhost:8080/"
        },
        "id": "nfzaH9TsuogS",
        "outputId": "0a26ec44-f38a-4cdf-e55e-e8926dd42d20"
      },
      "source": [
        "def make_mi_scores(X, y, discrete_features):\n",
        "    mi_scores = mutual_info_classif(X, y, discrete_features=discrete_features)\n",
        "    mi_scores = pd.Series(mi_scores, name=\"MI Scores\", index=X.columns)\n",
        "    mi_scores = mi_scores.sort_values(ascending=False)\n",
        "    return mi_scores\n",
        "\n",
        "mi_scores = make_mi_scores(X, y, discrete_features)\n",
        "mi_scores[::3]"
      ],
      "execution_count": 16,
      "outputs": [
        {
          "output_type": "execute_result",
          "data": {
            "text/plain": [
              "Std. Dev Processing    0.884555\n",
              "%Completion            0.673709\n",
              "Name: MI Scores, dtype: float64"
            ]
          },
          "metadata": {},
          "execution_count": 16
        }
      ]
    },
    {
      "cell_type": "code",
      "metadata": {
        "colab": {
          "base_uri": "https://localhost:8080/",
          "height": 460
        },
        "id": "0wEkgG2Mutng",
        "outputId": "ec260566-ceb3-452a-9005-63efbd9f6608"
      },
      "source": [
        "def plot_mi_scores(scores):\n",
        "    scores = scores.sort_values(ascending=True)\n",
        "    width = np.arange(len(scores))\n",
        "    ticks = list(scores.index)\n",
        "    plt.barh(width, scores)\n",
        "    plt.yticks(width, ticks)\n",
        "    plt.title(\"Mutual Information Scores\")\n",
        "\n",
        "\n",
        "plt.figure(dpi=100, figsize=(8, 5))\n",
        "plot_mi_scores(mi_scores)"
      ],
      "execution_count": 17,
      "outputs": [
        {
          "output_type": "display_data",
          "data": {
            "image/png": "[encoded data removed]",
            "text/plain": [
              "<Figure size 800x500 with 1 Axes>"
            ]
          },
          "metadata": {
            "needs_background": "light"
          }
        }
      ]
    },
    {
      "cell_type": "code",
      "metadata": {
        "id": "te31L6v8uyrx"
      },
      "source": [
        "X = robust_df[['Std. Dev Processing', 'Number of Defect', '%Completion']]\n",
        "y = cluster_df['Cluster']"
      ],
      "execution_count": 18,
      "outputs": []
    },
    {
      "cell_type": "code",
      "metadata": {
        "colab": {
          "base_uri": "https://localhost:8080/",
          "height": 206
        },
        "id": "6GG3pjfky_uR",
        "outputId": "ff10d0ea-4e0e-4d36-894c-3d2a1c80780f"
      },
      "source": [
        "# Create principal components\n",
        "pca = PCA()\n",
        "X_pca = pca.fit_transform(X)\n",
        "\n",
        "# Convert to dataframe\n",
        "component_names = [f\"PC{i+1}\" for i in range(X_pca.shape[1])]\n",
        "X_pca = pd.DataFrame(X_pca, columns=component_names)\n",
        "\n",
        "X_pca.head()"
      ],
      "execution_count": 19,
      "outputs": [
        {
          "output_type": "execute_result",
          "data": {
            "text/html": [
              "<div>\n",
              "<style scoped>\n",
              "    .dataframe tbody tr th:only-of-type {\n",
              "        vertical-align: middle;\n",
              "    }\n",
              "\n",
              "    .dataframe tbody tr th {\n",
              "        vertical-align: top;\n",
              "    }\n",
              "\n",
              "    .dataframe thead th {\n",
              "        text-align: right;\n",
              "    }\n",
              "</style>\n",
              "<table border=\"1\" class=\"dataframe\">\n",
              "  <thead>\n",
              "    <tr style=\"text-align: right;\">\n",
              "      <th></th>\n",
              "      <th>PC1</th>\n",
              "      <th>PC2</th>\n",
              "      <th>PC3</th>\n",
              "    </tr>\n",
              "  </thead>\n",
              "  <tbody>\n",
              "    <tr>\n",
              "      <th>0</th>\n",
              "      <td>-0.784431</td>\n",
              "      <td>0.523715</td>\n",
              "      <td>-0.155965</td>\n",
              "    </tr>\n",
              "    <tr>\n",
              "      <th>1</th>\n",
              "      <td>-0.709213</td>\n",
              "      <td>-0.099789</td>\n",
              "      <td>-0.273292</td>\n",
              "    </tr>\n",
              "    <tr>\n",
              "      <th>2</th>\n",
              "      <td>-1.056769</td>\n",
              "      <td>0.259165</td>\n",
              "      <td>-0.258583</td>\n",
              "    </tr>\n",
              "    <tr>\n",
              "      <th>3</th>\n",
              "      <td>-0.869570</td>\n",
              "      <td>0.134193</td>\n",
              "      <td>-0.053014</td>\n",
              "    </tr>\n",
              "    <tr>\n",
              "      <th>4</th>\n",
              "      <td>0.481658</td>\n",
              "      <td>-0.427566</td>\n",
              "      <td>-0.075658</td>\n",
              "    </tr>\n",
              "  </tbody>\n",
              "</table>\n",
              "</div>"
            ],
            "text/plain": [
              "        PC1       PC2       PC3\n",
              "0 -0.784431  0.523715 -0.155965\n",
              "1 -0.709213 -0.099789 -0.273292\n",
              "2 -1.056769  0.259165 -0.258583\n",
              "3 -0.869570  0.134193 -0.053014\n",
              "4  0.481658 -0.427566 -0.075658"
            ]
          },
          "metadata": {},
          "execution_count": 19
        }
      ]
    },
    {
      "cell_type": "code",
      "metadata": {
        "colab": {
          "base_uri": "https://localhost:8080/",
          "height": 143
        },
        "id": "MswcGu81zhGB",
        "outputId": "cac270b3-14a4-42be-c6a7-8b72f5e35ff9"
      },
      "source": [
        "loadings = pd.DataFrame(\n",
        "    pca.components_.T,  # transpose the matrix of loadings\n",
        "    columns=component_names,  # so the columns are the principal components\n",
        "    index=X.columns,  # and the rows are the original features\n",
        ")\n",
        "loadings"
      ],
      "execution_count": 20,
      "outputs": [
        {
          "output_type": "execute_result",
          "data": {
            "text/html": [
              "<div>\n",
              "<style scoped>\n",
              "    .dataframe tbody tr th:only-of-type {\n",
              "        vertical-align: middle;\n",
              "    }\n",
              "\n",
              "    .dataframe tbody tr th {\n",
              "        vertical-align: top;\n",
              "    }\n",
              "\n",
              "    .dataframe thead th {\n",
              "        text-align: right;\n",
              "    }\n",
              "</style>\n",
              "<table border=\"1\" class=\"dataframe\">\n",
              "  <thead>\n",
              "    <tr style=\"text-align: right;\">\n",
              "      <th></th>\n",
              "      <th>PC1</th>\n",
              "      <th>PC2</th>\n",
              "      <th>PC3</th>\n",
              "    </tr>\n",
              "  </thead>\n",
              "  <tbody>\n",
              "    <tr>\n",
              "      <th>Std. Dev Processing</th>\n",
              "      <td>0.650648</td>\n",
              "      <td>0.732282</td>\n",
              "      <td>0.201049</td>\n",
              "    </tr>\n",
              "    <tr>\n",
              "      <th>Number of Defect</th>\n",
              "      <td>0.592852</td>\n",
              "      <td>-0.324393</td>\n",
              "      <td>-0.737086</td>\n",
              "    </tr>\n",
              "    <tr>\n",
              "      <th>%Completion</th>\n",
              "      <td>-0.474535</td>\n",
              "      <td>0.598776</td>\n",
              "      <td>-0.645201</td>\n",
              "    </tr>\n",
              "  </tbody>\n",
              "</table>\n",
              "</div>"
            ],
            "text/plain": [
              "                          PC1       PC2       PC3\n",
              "Std. Dev Processing  0.650648  0.732282  0.201049\n",
              "Number of Defect     0.592852 -0.324393 -0.737086\n",
              "%Completion         -0.474535  0.598776 -0.645201"
            ]
          },
          "metadata": {},
          "execution_count": 20
        }
      ]
    },
    {
      "cell_type": "code",
      "metadata": {
        "colab": {
          "base_uri": "https://localhost:8080/",
          "height": 404
        },
        "id": "MfswQILSznga",
        "outputId": "fcd4d853-b306-4831-e610-be732a596e9b"
      },
      "source": [
        "def plot_variance(pca, width=8, dpi=100):\n",
        "    # Create figure\n",
        "    fig, axs = plt.subplots(1, 2)\n",
        "    n = pca.n_components_\n",
        "    grid = np.arange(1, n + 1)\n",
        "    # Explained variance\n",
        "    evr = pca.explained_variance_ratio_\n",
        "    axs[0].bar(grid, evr)\n",
        "    axs[0].set(\n",
        "        xlabel=\"Component\", title=\"% Explained Variance\", ylim=(0.0, 1.0)\n",
        "    )\n",
        "    # Cumulative Variance\n",
        "    cv = np.cumsum(evr)\n",
        "    axs[1].plot(np.r_[0, grid], np.r_[0, cv], \"o-\")\n",
        "    axs[1].set(\n",
        "        xlabel=\"Component\", title=\"% Cumulative Variance\", ylim=(0.0, 1.0)\n",
        "    )\n",
        "    # Set up figure\n",
        "    fig.set(figwidth=8, dpi=100)\n",
        "    return axs\n",
        "\n",
        "# Look at explained variance\n",
        "plot_variance(pca);"
      ],
      "execution_count": 21,
      "outputs": [
        {
          "output_type": "display_data",
          "data": {
            "image/png": "[encoded data removed]",
            "text/plain": [
              "<Figure size 800x400 with 2 Axes>"
            ]
          },
          "metadata": {
            "needs_background": "light"
          }
        }
      ]
    },
    {
      "cell_type": "code",
      "metadata": {
        "colab": {
          "base_uri": "https://localhost:8080/"
        },
        "id": "xRML60PO0QDz",
        "outputId": "f0fef910-542d-4d6d-e1b5-0cd9c766fbc5"
      },
      "source": [
        "mi_scores = make_mi_scores(X_pca, y, discrete_features=False)\n",
        "mi_scores"
      ],
      "execution_count": 22,
      "outputs": [
        {
          "output_type": "execute_result",
          "data": {
            "text/plain": [
              "PC1    0.846919\n",
              "PC2    0.192433\n",
              "PC3    0.060699\n",
              "Name: MI Scores, dtype: float64"
            ]
          },
          "metadata": {},
          "execution_count": 22
        }
      ]
    },
    {
      "cell_type": "code",
      "metadata": {
        "colab": {
          "base_uri": "https://localhost:8080/"
        },
        "id": "0nhPUGsS0XZF",
        "outputId": "d4002c26-0f86-4bbd-d201-42b3709b950f"
      },
      "source": [
        "idx = X_pca[\"PC3\"].sort_values(ascending=False).index\n",
        "cols = ['Std. Dev Processing', 'Number of Defect', '%Completion']\n",
        "print(df.loc[idx, cols].head())\n",
        "print(df.loc[idx, cols].tail())"
      ],
      "execution_count": 23,
      "outputs": [
        {
          "output_type": "stream",
          "name": "stdout",
          "text": [
            "     Std. Dev Processing  Number of Defect  %Completion\n",
            "291             3.948955                 6           70\n",
            "222             3.613426                 6           70\n",
            "103             3.773340                 6           71\n",
            "239             3.752194                 6           71\n",
            "15              3.271085                 6           70\n",
            "     Std. Dev Processing  Number of Defect  %Completion\n",
            "72              4.760400                12           76\n",
            "80              4.956477                12           77\n",
            "44              4.295434                12           76\n",
            "263             4.719053                12           79\n",
            "175             4.295130                12           78\n"
          ]
        }
      ]
    },
    {
      "cell_type": "code",
      "metadata": {
        "colab": {
          "base_uri": "https://localhost:8080/"
        },
        "id": "GahZW8Zi2ZXT",
        "outputId": "f25635f9-009f-4f91-97b4-7cf488c256f1"
      },
      "source": [
        "idx = X_pca[\"PC1\"].sort_values(ascending=False).index\n",
        "cols = ['Std. Dev Processing', 'Number of Defect', '%Completion']\n",
        "print(df.loc[idx, cols].head())\n",
        "print(df.loc[idx, cols].tail())"
      ],
      "execution_count": 24,
      "outputs": [
        {
          "output_type": "stream",
          "name": "stdout",
          "text": [
            "     Std. Dev Processing  Number of Defect  %Completion\n",
            "312             8.427101                12           73\n",
            "161             8.264568                12           72\n",
            "166             8.463795                12           78\n",
            "354             8.698897                10           72\n",
            "188             8.249237                10           71\n",
            "     Std. Dev Processing  Number of Defect  %Completion\n",
            "34              0.203706                 1          103\n",
            "259             0.208181                 2          110\n",
            "275             0.364754                 1          109\n",
            "290             0.313548                 1          110\n",
            "144             0.278878                 1          110\n"
          ]
        }
      ]
    },
    {
      "cell_type": "code",
      "metadata": {
        "colab": {
          "base_uri": "https://localhost:8080/"
        },
        "id": "8kz8_MPh2zCR",
        "outputId": "5dd31f94-2282-4cd6-e56c-9e4c77023f91"
      },
      "source": [
        "idx = X_pca[\"PC2\"].sort_values(ascending=False).index\n",
        "cols = ['Std. Dev Processing', 'Number of Defect', '%Completion']\n",
        "print(df.loc[idx, cols].head())\n",
        "print(df.loc[idx, cols].tail())"
      ],
      "execution_count": 25,
      "outputs": [
        {
          "output_type": "stream",
          "name": "stdout",
          "text": [
            "     Std. Dev Processing  Number of Defect  %Completion\n",
            "354             8.698897                10           72\n",
            "190             8.349007                10           75\n",
            "166             8.463795                12           78\n",
            "347             8.322150                10           74\n",
            "313             8.099230                10           73\n",
            "     Std. Dev Processing  Number of Defect  %Completion\n",
            "292             0.457803                 4           84\n",
            "224             0.013191                 4           88\n",
            "225             0.358373                 4           84\n",
            "42              0.485782                 5           83\n",
            "361             0.317486                 5           81\n"
          ]
        }
      ]
    },
    {
      "cell_type": "code",
      "metadata": {
        "colab": {
          "base_uri": "https://localhost:8080/",
          "height": 542
        },
        "id": "o1bwd8L623cI",
        "outputId": "556f9015-7420-4471-8ec6-3426cc9844fd"
      },
      "source": [
        "fig = px.scatter_matrix(\n",
        "    X_pca,\n",
        "    labels=component_names,\n",
        "    dimensions=['PC1', 'PC2', 'PC3'],\n",
        "    color=cluster_df['Cluster']\n",
        ")\n",
        "fig.update_traces(diagonal_visible=False)\n",
        "fig.show()"
      ],
      "execution_count": 26,
      "outputs": [
        {
          "output_type": "display_data",
          "data": {
            "text/html": [
              "<html>\n",
              "<head><meta charset=\"utf-8\" /></head>\n",
              "<body>\n",
              "    <div>\n",
              "            <script src=\"https://cdnjs.cloudflare.com/ajax/libs/mathjax/2.7.5/MathJax.js?config=TeX-AMS-MML_SVG\"></script><script type=\"text/javascript\">if (window.MathJax) {MathJax.Hub.Config({SVG: {font: \"STIX-Web\"}});}</script>\n",
              "                <script type=\"text/javascript\">window.PlotlyConfig = {MathJaxConfig: 'local'};</script>\n",
              "        <script src=\"https://cdn.plot.ly/plotly-latest.min.js\"></script>    \n",
              "            <div id=\"a3bb3bca-68de-4dab-9188-dae80edfa1ba\" class=\"plotly-graph-div\" style=\"height:525px; width:100%;\"></div>\n",
              "            <script type=\"text/javascript\">\n",
              "                \n",
              "                    window.PLOTLYENV=window.PLOTLYENV || {};\n",
              "                    \n",
              "                if (document.getElementById(\"a3bb3bca-68de-4dab-9188-dae80edfa1ba\")) {\n",
              "                    Plotly.newPlot(\n",
              "                        'a3bb3bca-68de-4dab-9188-dae80edfa1ba',\n",
              "                        [{\"diagonal\": {\"visible\": false}, \"dimensions\": [{\"axis\": {\"matches\": true}, \"label\": \"PC1\", \"values\": [-0.7844314937631702, -0.7092134992436966, -1.0567692673994185, -0.8695696943395805, -1.1989688479209806, -0.576622468674105, -0.41976725452080366, -0.30860710737584707, -0.18601242030544338, -1.0874417903144877, -0.7119051852634712, -1.076442515671474, -0.5399518855091499, -1.1542951268229542, -1.1100506022084489, -0.9526927127444204, -0.7143999263634765, -0.4180025881843954, -1.136682678890998, -0.9894635861976869, -1.051272076196286, -1.2690247805072274, -0.864723007297906, -1.4005609135492183, -0.193512038458581, -1.020603921090918, -0.6875180471502821, -1.0395658118161941, -0.9815933409307771, -0.7816429007491276, -0.7697929274176405, -1.450536442874463, -0.7117131345947064, -0.880056610353542, -0.8137501793695007, -0.8515778064330921, -0.6395292817889466, -0.3039604957358915, -1.427176676835144, -1.2761032660705607, -1.3631902076318563, -0.9118155295347585, -1.0954081687552626, -0.3341151088406606, -0.8078838208632708, -1.082213363959081, -0.7851977392669075, -0.4240671400586793, -0.22209415533632162, -0.5084939175048109, -0.962051037645604, -0.4525723424692468, -0.8810472668654822, -0.9471482754398481, -1.0888458883172125, -0.8238275086928272, -0.6562987067956481, -0.8074115118883404, -1.2581999443123175, -0.373695672600832, -0.8598993539853886, -0.9411044010698953, -0.6467417204385987, -1.3463263139830552, -0.7918376632280391, -0.7768460883091063, -0.7768460883091063, -0.3678970552785713, -0.27879699990118467, -1.2053668391354393, -0.6629922928484703, -0.21528547618074736, -0.9140313160499548, -0.5248469617465243, -0.44436170721275126, -0.8472263049154989, -0.5303354630988613, -1.2581233193146246, -0.305600849112824, -0.4371219969361343, -0.47597359465056305, -0.43995770040440746, -0.9860818012401978, -0.845179656679859, -0.5376943844642965, -1.107480011895756, -0.7686423515461921, -1.5564379087745213, -1.2987375212815957, -1.1638891379301841, -1.334675886853381, -1.1660474742911946, -0.2650749054129856, -0.8552037541081636, -0.5613835792819312, -0.6796817241743786, -0.9595605050004935, -1.2721232097139767, -0.5452573627420146, -0.8248797429951331, -0.7134439518318874, -1.169202876221142, -0.5900934393057243, -1.014986105327808, -1.2333424017929742, -0.705827424353481, -0.9380467236214853, -1.2482374217875747, -0.9338840948498045, -0.7849406825559598, -0.45591006373601917, -1.0416362840133468, -0.908395792124483, -0.9981741008954207, -0.8415915320862991, -0.7425219832419209, -1.4086936057673283, -0.9218796768862739, -0.20378072729217098, -0.5795307576728609, -1.3939402767703861, -1.201247875570484, -0.4315841908257813, -0.9785690451129616, -0.5385989888247602, -0.7696126632419588, -0.9829292914440462, -0.976170462889597, -1.3716597836270297, -1.1319284125691842, -1.4737358759940427, -0.6246985997848985, -0.43353905491000044, -1.4188509360263462, -0.6368589235072475, -0.6641169311763981, -1.203759525474926, -1.5192977331144648, -0.9306768047921099, -1.2131079727466394, -0.5576523873102107, -0.9998798187425503, -0.8402135517123784, -0.9504082742734817, -0.8430101763247367, -1.1742559439027698, -1.5485392115700112, -0.762287936865345, -1.0181382669821986, -0.8748181659859872, -1.3624723288354053, -0.7293619910568722, -0.9041263857305298, -0.45867267049616345, -1.357233412821333, -0.5533480659755594, -0.9501619158878459, -0.7670505205871219, -1.1952342971742433, -0.8238157550134142, -0.3916342634815197, -0.978895223810361, -0.5195717521126487, -0.7071639507883685, -1.3440134007748408, -1.1407803302486843, -0.7916652073488757, -0.4845037526255606, -1.3525376146921675, -0.9213277877782285, -0.7917944737701612, -0.933261362336205, -0.9825631357541923, -1.0129451429680758, -0.4692259610956047, -0.44887537239855024, -1.3740255797052932, -0.4617080513287734, -1.1307376478567621, -0.7100388074440376, -0.5658577960012829, -0.24953507394910768, -0.6427210285551471, -1.0313003795194362, -0.2583606646576272, -1.3493039379826073]}, {\"axis\": {\"matches\": true}, \"label\": \"PC2\", \"values\": [0.5237145376278469, -0.09978930271054277, 0.2591649969122756, 0.13419276211018308, 0.3063529565597132, 0.046879284527100544, -0.40338800313958645, 0.1412927132891512, -0.05894824135285071, 0.3034426338004847, -0.10537681863106318, 0.3997366930524274, -0.5386517237028814, 0.2701588485745149, 0.15468317476965518, 0.4996136336784838, -0.10818456501472158, -0.5272740548928099, 0.12470967692068397, 0.1670857569436803, 0.09496428582249783, 0.18299189430427706, -0.3587247219260893, 0.03495244369021753, -0.15130355607796597, 0.42062376031236937, 0.005984826288675776, 0.026782654351892865, 0.2153427105853697, -0.01603475065422605, 0.2464881247422568, -0.10520806652626107, 0.26989758451021706, -0.5438116697972306, 0.23897310510627862, -0.38588761937440413, -0.6926800760429783, -0.021307181494135033, -0.11831670305139742, 0.17502529919659748, -0.13021685421004608, 0.20996051838371876, 0.2944767454131509, 0.02611146001487539, 0.5341608851044073, 0.6030286722640951, 0.4783366650229659, -0.07512649624223272, 0.02887322975166914, 0.20747040433068176, 0.6963099150784294, -0.14660739336123693, 0.6222055244449214, 0.25410946199970946, 0.22050573471163704, 0.516216805918986, 0.5000941394372415, 0.5346924528155128, -0.014611993157206767, 0.19135175268062407, 0.1870337763573684, 0.30542712665891125, -0.0714368118767643, 0.2638211420094988, -0.48903973014167207, -0.46960910698411523, -0.46960910698411523, 0.032606515887425275, -0.37060289286864806, 0.17328011094662107, -0.5538155144970899, -0.005421207684524335, 0.6664397317372652, -0.35638026132794765, 0.19573427981790378, 0.285211611883375, -0.3599992684857734, 0.23721849324475525, -0.10706809270128456, -0.42547829105833834, -0.0915880734851101, -0.13496815684376773, 0.003062342684307878, -0.5071169576187872, 0.009334886789219999, 0.3648050451225634, 0.6253994301646394, 0.06930505230813402, 0.3593380866174537, 0.18056259514395587, 0.1091038037019242, 0.2569319806228134, -0.0614575193767278, 0.15036113995609737, 0.02207276241215813, -0.5725989026613125, -0.5938913432980979, -0.23495279905414942, 0.08473776077523183, -0.6101422179606905, -0.10710864814545885, -0.16107683360071068, -0.052196584618259975, 0.05444627924828466, -0.023476818402213228, -0.2663660035144695, 0.3457095839433026, -0.2500275305278544, -0.6489081648649334, -0.6491069110045319, -0.4021081328633104, 0.10836715739949275, 0.04853793303919308, 0.4458677611988296, -0.290733657553154, -0.5148932416085161, 0.23558624776915413, -0.21582385418250663, -0.20225987649993626, -0.41536690179765423, 0.12631849472981282, 0.46905937200011705, -0.5845170620130782, 0.2607038274145003, 0.13163079436948716, 0.6243073773040019, 0.04856775999175528, 0.3447599847198024, 0.07003779861878194, 0.3398473151797501, -0.0028880021189846257, -0.1725001519764845, 0.12400005824462995, -0.02503161533345182, -0.3120583071314903, -0.04903464688429038, -0.07665515968410481, 0.06914768409376719, 0.5243917903921929, 0.2878817370319101, -0.34878616437527743, 0.36259139921847566, 0.5842477348980629, 0.4602273170003684, 0.6230576034684657, 0.16633699237281807, 0.07819476776258824, -0.6236120150441339, 0.38144139568027596, -0.3281291055909492, 0.03586247765674507, -0.3742099935486809, -0.5315021246688724, -0.3658180930736742, 0.16763082349538552, -0.304542537016295, 0.16936107755069724, 0.00038847764339456584, 0.061369933744158923, 0.350958650624586, -0.03862439511399348, 0.4256081080294071, -0.22457106825279366, -0.01612597105756075, -0.2764635077393728, 0.3718421570480936, 0.4316584894629342, -0.39489009875580744, 0.0496017757483088, 0.3670842931579387, 0.22172613152137385, 0.43501009474306024, 0.6732242452726451, 0.3898441951116031, 0.2097077810874986, -0.019132570033680626, -0.01653957371181191, 0.2601263078077319, 0.21787347135726362, -0.3130631467541638, 0.18486668182384586, 0.07934604225108954, -0.7801870278225703, -0.29701576434305826, -0.22173036780979058, 0.17655517813190408]}, {\"axis\": {\"matches\": true}, \"label\": \"PC3\", \"values\": [-0.15596504057433222, -0.27329164402603945, -0.25858267448352923, -0.05301384136526085, -0.16760834691968945, -0.005079578509375706, 0.09313011903380077, -0.05717696060068301, 0.3556706048057413, 0.14949160771257558, -0.046881797306995696, 0.11595928223343552, 0.05599319299220057, 0.1103684512715888, -0.02933943169667957, -0.054578187248102907, -0.047652669713574965, 0.14907203396222327, -0.037568715707128136, -0.1639231091376723, 0.04421970660475464, 0.0564515625914562, -0.28441283045031684, 0.015807034215343137, 0.3902843205023055, 0.15167889486869418, -0.07627728689074438, -0.14247355486183225, 0.04728481841470775, -0.1422928587184477, -0.022182924105887066, 0.037295737514098516, 0.014229216456505803, -0.21528871803516159, -0.05423121421971961, -0.26188543209277376, 0.0436894260089569, 0.01812101738566535, -0.1642621490087406, 0.05426431791058232, -0.10755930662994378, 0.1057771795108678, 0.1470300050555508, 0.19911375827367317, 0.2728058195780452, 0.021848371336667595, 0.08950531021759495, 0.17131867413384494, 0.06188317642275138, -0.02095901692866916, 0.0774439502118763, -0.046265433725565394, -0.050905363903026586, 0.057928307845221856, -0.04125274210187526, 0.2678792366124245, -0.04250996277757466, 0.27295176256032616, 0.15212415049788147, 0.09455568044160942, -0.06849126120324207, -0.18591126111322567, -0.23552238436069575, -0.04129671071625211, 0.057677964777708486, -0.1649312290574215, -0.1649312290574215, -0.05703194791484226, 0.1920864160353549, -0.11418868468927497, 0.18981877506300707, 0.08245259615905251, 0.12921308417759583, 0.21403999381432492, 0.03578885929505797, -0.10150639212439203, -0.01489752229926877, 0.04135455781277473, 0.054545239807279836, 0.3150090965690934, 0.1368140886675653, 0.18487405246045713, -0.08901596128139899, 0.02272979929597363, -0.18336132594608634, 0.10636872816409403, -0.18801730195226263, -0.12468652004749159, -0.04505736819575028, -0.3101481480797162, 0.0361654389758439, 0.10673698812065106, 0.06706771428317922, -0.04857478076737201, 0.018094767426699673, 0.18466175813222568, -0.031079308889383272, -0.21433354906520422, -0.22262936828198107, 0.08439908638734747, -0.0473572745770644, -0.16406572804825362, 0.027688995478651793, -0.13487845110790922, -0.27621249955069654, 0.02885840431609144, 0.2510511628870816, -0.1884873204706384, 0.013785765066064324, 0.1336713044556894, 0.06349648360235637, -0.180044418528378, -0.04654552026550456, 0.1586096859929549, -0.2957307736104165, -0.11739402636219026, -0.07903368400077657, -0.16716033181155268, 0.17833527638104088, -0.030098817183358585, -0.019078285812166623, -0.014933169013024309, 0.16334087781927967, 0.029753777723653285, -0.01179590771688538, -0.18831712725760041, -0.10650738398642812, 0.2208054221284999, -0.20250412158298042, -0.1284273771306059, -0.2525110729696539, -0.1733144481279997, 0.07606413751620572, -0.19862059366347315, -0.12167534065248878, -0.25935685137183007, -0.0028987567092630465, -0.09474469942136926, -0.04777529457671867, 0.05526425310812719, -0.041803968439163806, -0.03222786403987851, -0.0013566984580874976, -0.035406753180335426, -0.020686397511128135, -0.08610990544768422, -0.1222458308221168, 0.14067097932620684, 0.17090632438015946, -0.30599776894581576, 0.0460419122531902, -0.16872423732189795, -0.01395022365959616, 0.2714188709313921, -0.007735903009266908, 0.16830209232498186, -0.1333133889116739, -0.13778382841739478, -0.2829026797924347, 0.11450347340586801, 0.18134039928170612, 0.18303238392650176, 0.16027339324265927, -0.08234785069268975, -0.027771513425888513, -0.14962815544682176, -0.12126916064284679, 0.2634370934052212, -0.17812984630494397, 0.028975721781948988, -0.028981379057865294, 0.21559874463986187, 0.07110573321896843, -0.054730580598914495, 0.00964028573707919, 0.12672186621945564, -0.16630406020196814, -0.006502232914911294, -0.2999043721085199, 0.0460226362738647, -0.057149940708389295, 0.24371444608785414, 0.07963426948598519, -0.2194367601356294, 0.14300458751685433, -0.005285703526913329]}], \"hoverlabel\": {\"namelength\": 0}, \"hovertemplate\": \"color=1<br>%{xaxis.title.text}=%{x}<br>%{yaxis.title.text}=%{y}\", \"legendgroup\": \"color=1\", \"marker\": {\"color\": \"#636efa\", \"symbol\": \"circle\"}, \"name\": \"color=1\", \"showlegend\": true, \"type\": \"splom\"}, {\"diagonal\": {\"visible\": false}, \"dimensions\": [{\"axis\": {\"matches\": true}, \"label\": \"PC1\", \"values\": [0.4816579319764821, 0.42826317721617546, 0.3223273835876532, 1.0549138542321328, 1.1573200372058012, 0.3939570329504288, 1.043101920996546, 1.038027302638449, 0.667933385724614, -0.06066499463151569, 0.7961958494182565, 0.9633122801523895, 1.0274900814914496, 0.3373171554601574, 0.2549318633261175, 0.32361787193173297, 0.3190487873972667, 0.28480461264234475, 0.687452026965008, 0.7010616699024351, 0.774730807561421, 0.3315227663983145, 0.8096480435351505, 0.8177397757769925, -0.08247684662354737, 0.298493934984159, 0.3094671862430368, 0.5304636883656146, 0.41917929578558955, 0.3853568640420579, 0.3393832187036827, 0.4608143968656982, 1.1089310607485705, 0.0937358497495127, 0.6460451184126412, 0.44167258816835936, 1.1549787373442313, 0.42690443612068835, 0.28901722189126255, 0.7199258565896468, 0.24247573608244685, 0.23062330269923936, 0.9794359377489759, 0.4066051809459449, 1.0196120904228685, 0.8092778821166291, 0.42540735859863593, 0.35726865920622036, -0.22409876836582865, 0.29761294584107545, 0.8814506290233419, 0.2709044898454667, 0.9188791961443189, 0.3959811680611786, 1.007782843595986, 1.0963966064596617, 0.4731393646778575, 0.348004157298392, 1.0872346010105125, 0.4033992991704051, 0.9250600028688235, 0.5886195449180673, 0.7519698065015581, 1.1434460931956556, 0.9423050496810079, 0.9687128915849637, 0.40032192465968713, 0.8210993961004668, 1.0758450336891203, 0.2668968440933064, 0.8972796512816323, 0.6921623279278791, 0.414361594623209, 0.5929967641072217, 0.9835190212018416, 0.22071951981997623, 0.31504599694174584, 0.3116233325621411, -0.06464664941745672, 0.939102298389841, 0.4830611987452414, 0.5073890904647037, 0.9084377315347242, 1.328174759071752, 0.9336092375767225, 0.38045936493441945, 0.4231464454235411, 0.9089971087538679, 0.4767646408921279, 0.659037766895016, 0.5127971385448516, 0.6291966692742011, 0.2120167483413633, 0.252357432524338, 0.5766207279370521, 0.31600758235309, 0.5509077559462696, 0.44901544565920676, 0.36945499932862985, 0.5068388538667506, 0.5547452457634542, 0.8763121835588632, -0.3251453850098275]}, {\"axis\": {\"matches\": true}, \"label\": \"PC2\", \"values\": [-0.427566475216069, -0.23847432549774952, -0.3208603183615581, -0.3201579287545209, -0.1629458730594575, -0.1118133421296679, -0.24953710927398842, -0.3391631690856845, -0.343791901944842, 0.46230051536652145, -0.24139422959950363, -0.048194132846191666, -0.020479686307154445, -0.26203246459478086, -0.2263240744855833, -0.1515784191772701, -0.3245502670287826, -0.23721879895756925, -0.40573908329500313, -0.012805521014709028, -0.1790795413229038, -0.14012361419667474, -0.18173875266053616, -0.21714727214030194, 0.06013564535211827, -0.012025058593202465, -0.16494642062750794, -0.28872250471229394, -0.16989940579488974, -0.24736466394866524, -0.2965483257387728, -0.32515304232715897, -0.2619215120274805, 0.048670177751222475, -0.3684264034526802, -0.38865387253214145, 0.16240372606436854, -0.11668953338972336, -0.14600478640524556, 0.008425480451362573, -0.24290113739147345, -0.2981980232363219, 0.1352238798614435, -0.3442062992400192, -0.278532230560014, -0.18471347148410316, -0.3675605761494355, -0.19762035011067333, 0.3203187280302442, -0.2647608295236311, -0.10092738119542281, -0.25030480038248193, -0.10331828933278965, -0.31932211977901903, -0.24988827153338347, -0.15015649085989138, -0.4371538334099175, -0.33136124144086854, -0.11851064224533583, -0.3109732651442064, -0.09636200127196293, -0.516971685369311, 0.04448985782628055, -0.22307601518014808, -0.28162393028545735, -0.047232157526358155, -0.2330801111730614, 0.08033548860126029, -0.13132921346220808, -0.21541600969534358, -0.1670271034060596, -0.23260830114919986, -0.17532156483824424, -0.30225840085308087, -0.10936688122995188, -0.18347227073793046, -0.32649715702876425, -0.2070352404837046, 0.12216030136759902, 0.08982973854146258, -0.38402977152956236, -0.23077743181899532, 0.22058919361287538, -0.054569435220202196, -0.12358127310907424, -0.37619064193589463, -0.3255896678316481, 0.011431880701454847, -0.147046430139696, -0.27244698436004744, -0.2272489720867287, -0.09368713860024737, -0.3191390682652288, -0.35765174742504513, -0.23677432422301609, -0.11818616704858981, -0.35218626486322546, -0.46686259970635724, -0.43309117101680394, -0.35982694292611145, -0.3478673003997369, -0.27454002543748485, 0.332466316446279]}, {\"axis\": {\"matches\": true}, \"label\": \"PC3\", \"values\": [-0.07565811111457721, 0.024291270340531846, 0.42757482507848044, -0.3401952673349289, -0.3270174082038469, 0.16707010250546525, -0.38077623233595, -0.34541319422354344, 0.03729744532222618, 0.0009713495426646385, 0.0953959582276867, -0.3074483881978116, -0.04191039444180639, 0.4137411040500256, 0.10564592465542874, 0.3541114048154909, 0.42656174226380283, 0.36058369299701526, 0.08025977508548955, -0.0817247639888932, -0.17540938220384775, 0.12931243408729912, -0.1461544476300199, 0.1020530090772887, 0.16042141454549885, 0.27248595459558755, 0.1224972827464379, -0.097508273034594, 0.4390364203136124, 0.21980929411765895, -0.021638089402681894, -0.13749537666150005, -0.09626243177197405, 0.30719867932371203, 0.030533993476021898, -0.1249446306958122, 0.20625949763640428, 0.1957163607906928, 0.09771272006483978, -0.07589574991216104, 0.3290385691865774, 0.34384172454691253, -0.14908679967998292, -0.17271151298433507, -0.16079299066406663, 0.08097274777755001, 0.07880546022125062, 0.40144055301270287, -0.06799506160423763, 0.3830069995959178, -0.12396752335407646, 0.12904699460107003, 0.13330498483478737, 0.2600232829253512, -0.18291376059184358, -0.1555321999823566, -0.07829033955466862, 0.22673289151754436, -0.176828795097053, 0.2623154777268391, 0.1352148476876143, 0.04972064087089174, -0.06599420269956627, -0.08559732262473935, -0.22161187580134048, 0.14870354492304283, 0.4516750571931968, -0.026167686419833438, -0.1803481595597303, 0.3365846661758103, -0.08214528202086663, 0.007853073366758098, 0.4375477556625122, -0.04125452772463147, -0.2642734363088397, 0.2853848310674865, 0.19808330927290563, 0.36887064957375465, 0.14746538199245593, -0.16154985231450833, -0.0936900480967051, -0.1415693897094847, -0.017645776515166824, -0.23729238684350293, -0.29816105252195974, 0.046451031948191446, -0.16760027945566036, 0.0748547952388515, 0.47529577704562503, 0.22485919334220567, 0.08734326642663504, -0.1039309744782283, 0.3380923185921324, 0.3874886379798147, -0.08324579578798245, 0.3332942882917481, 0.1729815874069192, 0.14149696944686282, 0.28875781427127345, 0.14089879751970222, 0.1741673677712988, -0.051693117841278745, -0.1546149959725696]}], \"hoverlabel\": {\"namelength\": 0}, \"hovertemplate\": \"color=0<br>%{xaxis.title.text}=%{x}<br>%{yaxis.title.text}=%{y}\", \"legendgroup\": \"color=0\", \"marker\": {\"color\": \"#EF553B\", \"symbol\": \"circle\"}, \"name\": \"color=0\", \"showlegend\": true, \"type\": \"splom\"}, {\"diagonal\": {\"visible\": false}, \"dimensions\": [{\"axis\": {\"matches\": true}, \"label\": \"PC1\", \"values\": [1.7854727807593105, 1.1760564795031507, 1.1490339028476988, 1.1761301551177696, 1.020889659458707, 0.9187623291535097, 0.9594999590283132, 1.0713089576977772, 1.1686588157785742, 1.6244155716645086, 1.0303331854783657, 1.3074365251106714, 1.0338844487319063, 1.4166842759012752, 1.3409954322724533, 1.3264510561830176, 0.9670819322762184, 1.628031683913931, 0.9230707232086299, 0.959434511853171, 1.0946070094650227, 1.2661432957214134, 1.175191201622378, 1.1830478164906528, 1.2545623727307138, 1.5061189631076315, 1.362440717615316, 1.473394237610154, 2.0176803071199183, 0.8885121020181368, 0.7724891968634678, 1.1576453711745092, 1.95761748118795, 1.4989320998411713, 1.4135188983657503, 0.7893872629670576, 0.801875930616169, 1.0078817804549685, 1.0119820161998943, 0.8864109715412514, 0.8000909302230522, 1.303009302405487, 1.2577622463550087, 1.8341454398920072, 1.7865742997016225, 1.3381971309131524, 1.2745965368589458, 1.6232466663012979, 1.4448035953279672, 1.4190689061919972, 1.4315461814351729, 1.0868875693673987, 1.2820499167720927, 0.9946776756031656, 0.9340866938151864, 0.9811236432284667, 1.3598680010492623, 1.5233043506387811, 1.4489919530141426, 1.4021061111887203, 2.037134425623934, 1.764819014626308, 1.2676543700892668, 1.042363783476038, 1.0162684783621723, 1.5358511545535842, 1.549045743949273, 1.0642119978977573, 1.437819981707667, 0.5115224180608688, 1.7980308642274774, 0.9610428605323952, 1.2172347255879763, 1.3793778608599063, 1.1546898137230122, 1.919014892348701, 1.3785209749683012, 1.3552127837370407]}, {\"axis\": {\"matches\": true}, \"label\": \"PC2\", \"values\": [0.3761892086105579, -0.2257733927556019, -0.13031426127756057, -0.0578609749739038, -0.06986561174165386, -0.2661630881052663, -0.13639951999012387, 0.07079434531641118, 0.47150181191458945, 0.2788395386599566, 0.3158210127158685, 0.627691410710555, 0.19650382983605175, 0.45950253659477014, -0.1660123267229062, 0.3159907376352525, -0.09102512143390769, 0.15703722640450862, -0.17995750244282155, -0.09707391868633933, -0.06825587231072086, 0.04344575782137752, 0.14575290829317183, 0.19399452138410236, 0.23252435111737405, 0.18509998310051845, 0.3539377646071282, 0.48392841268311404, 0.6794882680784559, -0.13493730775075513, -0.09768764884588604, 0.12856378671966953, 0.8636338448669042, 0.05369740350208516, 0.29322674273528754, -0.1231849386379056, -0.1510867419238388, -0.2052614321455776, -0.28711961997150753, -0.13474394402743428, -0.10858020993250364, 0.04042170701750207, 0.0314550566718223, 0.7615114008053986, 0.8758011964736043, 0.20589653676672443, -0.11486990474008554, 0.40083798443761115, 0.40723512645395005, 0.3363142332174076, 0.350356982760383, -0.07438572526101404, -0.23235350255821927, -0.14132368397557268, -0.04168727785603733, -0.11462091250722548, 0.06245686675664117, 0.3722710515100303, 0.08140621346527335, 0.5689674310874003, 0.7433405923644377, 0.7674016127671108, 0.2943325535556888, 0.16408965852731347, -0.15642322859658775, 0.05329117117067788, 0.3986840007542788, 0.31199309093393723, 0.3154605573064105, -0.31004026117204825, 0.846737796173905, 0.07000760679208923, -0.13747130065482382, 0.0424571768004134, 0.12523740718228274, 0.8989864618719909, 0.24872153908658326, 0.3483610852145719]}, {\"axis\": {\"matches\": true}, \"label\": \"PC3\", \"values\": [-0.05905668360056076, -0.28429677710087625, -0.34804336006189146, -0.35813619123237334, -0.025484373033725412, -0.24735209692626905, -0.27169530155227023, -0.04683595219941341, 0.08122781296726352, -0.14575428369928703, 0.0384853369961495, 0.1241099808892879, -0.13226226638633398, 0.05988466210243666, -0.17793417728690558, 0.050468235963291426, 0.16666512514700504, -0.08924027390834999, -0.05571032265068908, -0.06293949471520822, -0.19301627350329983, -0.3303222243559112, 0.0037290981410321093, 0.21493281391440291, 0.2554962824070418, 0.026468217173955536, 0.28883057883516156, -0.13136804862655707, -0.00577034429343564, -0.10331999058423935, -0.21303312748923964, -0.22893412012929937, -0.13512296479991037, -0.1475974561407582, -0.32171440624796266, 0.037895477227027664, 0.060220007503395026, -0.4285903090613258, -0.1631506756673845, -0.3312108126185434, -0.18603867561860352, -0.07322354675726014, -0.1056703849967942, 0.26274190763800814, 0.17418029495029427, -0.11774717919155878, -0.25384800181186234, 0.025729465794810277, 0.10550459248472704, 0.11601814524827982, 0.11987361032809897, -0.4226431473700917, -0.19614828030173395, -0.015118303842364695, -0.10770303404940694, -0.03777203071147545, -0.03718872302688089, -0.042083695763224925, -0.1999599995066621, -1.6610504383611177e-05, -0.018224586853511374, 0.20438902438689407, -0.21340699877566652, -0.1111766158098412, -0.2172227981799554, -0.11772396165759888, 0.19311194291224146, 0.06741939977114439, 0.14027775304554313, -0.10336110586901455, 0.19618590643446288, 0.09093687843604557, -0.29003828682105115, -0.01269465167123863, -0.22984738430946366, 0.2705009352690501, 0.12195442160532188, 0.05935557987922009]}], \"hoverlabel\": {\"namelength\": 0}, \"hovertemplate\": \"color=2<br>%{xaxis.title.text}=%{x}<br>%{yaxis.title.text}=%{y}\", \"legendgroup\": \"color=2\", \"marker\": {\"color\": \"#00cc96\", \"symbol\": \"circle\"}, \"name\": \"color=2\", \"showlegend\": true, \"type\": \"splom\"}],\n",
              "                        {\"dragmode\": \"select\", \"legend\": {\"tracegroupgap\": 0}, \"margin\": {\"t\": 60}, \"template\": {\"data\": {\"bar\": [{\"error_x\": {\"color\": \"#2a3f5f\"}, \"error_y\": {\"color\": \"#2a3f5f\"}, \"marker\": {\"line\": {\"color\": \"#E5ECF6\", \"width\": 0.5}}, \"type\": \"bar\"}], \"barpolar\": [{\"marker\": {\"line\": {\"color\": \"#E5ECF6\", \"width\": 0.5}}, \"type\": \"barpolar\"}], \"carpet\": [{\"aaxis\": {\"endlinecolor\": \"#2a3f5f\", \"gridcolor\": \"white\", \"linecolor\": \"white\", \"minorgridcolor\": \"white\", \"startlinecolor\": \"#2a3f5f\"}, \"baxis\": {\"endlinecolor\": \"#2a3f5f\", \"gridcolor\": \"white\", \"linecolor\": \"white\", \"minorgridcolor\": \"white\", \"startlinecolor\": \"#2a3f5f\"}, \"type\": \"carpet\"}], \"choropleth\": [{\"colorbar\": {\"outlinewidth\": 0, \"ticks\": \"\"}, \"type\": \"choropleth\"}], \"contour\": [{\"colorbar\": {\"outlinewidth\": 0, \"ticks\": \"\"}, \"colorscale\": [[0.0, \"#0d0887\"], [0.1111111111111111, \"#46039f\"], [0.2222222222222222, \"#7201a8\"], [0.3333333333333333, \"#9c179e\"], [0.4444444444444444, \"#bd3786\"], [0.5555555555555556, \"#d8576b\"], [0.6666666666666666, \"#ed7953\"], [0.7777777777777778, \"#fb9f3a\"], [0.8888888888888888, \"#fdca26\"], [1.0, \"#f0f921\"]], \"type\": \"contour\"}], \"contourcarpet\": [{\"colorbar\": {\"outlinewidth\": 0, \"ticks\": \"\"}, \"type\": \"contourcarpet\"}], \"heatmap\": [{\"colorbar\": {\"outlinewidth\": 0, \"ticks\": \"\"}, \"colorscale\": [[0.0, \"#0d0887\"], [0.1111111111111111, \"#46039f\"], [0.2222222222222222, \"#7201a8\"], [0.3333333333333333, \"#9c179e\"], [0.4444444444444444, \"#bd3786\"], [0.5555555555555556, \"#d8576b\"], [0.6666666666666666, \"#ed7953\"], [0.7777777777777778, \"#fb9f3a\"], [0.8888888888888888, \"#fdca26\"], [1.0, \"#f0f921\"]], \"type\": \"heatmap\"}], \"heatmapgl\": [{\"colorbar\": {\"outlinewidth\": 0, \"ticks\": \"\"}, \"colorscale\": [[0.0, \"#0d0887\"], [0.1111111111111111, \"#46039f\"], [0.2222222222222222, \"#7201a8\"], [0.3333333333333333, \"#9c179e\"], [0.4444444444444444, \"#bd3786\"], [0.5555555555555556, \"#d8576b\"], [0.6666666666666666, \"#ed7953\"], [0.7777777777777778, \"#fb9f3a\"], [0.8888888888888888, \"#fdca26\"], [1.0, \"#f0f921\"]], \"type\": \"heatmapgl\"}], \"histogram\": [{\"marker\": {\"colorbar\": {\"outlinewidth\": 0, \"ticks\": \"\"}}, \"type\": \"histogram\"}], \"histogram2d\": [{\"colorbar\": {\"outlinewidth\": 0, \"ticks\": \"\"}, \"colorscale\": [[0.0, \"#0d0887\"], [0.1111111111111111, \"#46039f\"], [0.2222222222222222, \"#7201a8\"], [0.3333333333333333, \"#9c179e\"], [0.4444444444444444, \"#bd3786\"], [0.5555555555555556, \"#d8576b\"], [0.6666666666666666, \"#ed7953\"], [0.7777777777777778, \"#fb9f3a\"], [0.8888888888888888, \"#fdca26\"], [1.0, \"#f0f921\"]], \"type\": \"histogram2d\"}], \"histogram2dcontour\": [{\"colorbar\": {\"outlinewidth\": 0, \"ticks\": \"\"}, \"colorscale\": [[0.0, \"#0d0887\"], [0.1111111111111111, \"#46039f\"], [0.2222222222222222, \"#7201a8\"], [0.3333333333333333, \"#9c179e\"], [0.4444444444444444, \"#bd3786\"], [0.5555555555555556, \"#d8576b\"], [0.6666666666666666, \"#ed7953\"], [0.7777777777777778, \"#fb9f3a\"], [0.8888888888888888, \"#fdca26\"], [1.0, \"#f0f921\"]], \"type\": \"histogram2dcontour\"}], \"mesh3d\": [{\"colorbar\": {\"outlinewidth\": 0, \"ticks\": \"\"}, \"type\": \"mesh3d\"}], \"parcoords\": [{\"line\": {\"colorbar\": {\"outlinewidth\": 0, \"ticks\": \"\"}}, \"type\": \"parcoords\"}], \"pie\": [{\"automargin\": true, \"type\": \"pie\"}], \"scatter\": [{\"marker\": {\"colorbar\": {\"outlinewidth\": 0, \"ticks\": \"\"}}, \"type\": \"scatter\"}], \"scatter3d\": [{\"line\": {\"colorbar\": {\"outlinewidth\": 0, \"ticks\": \"\"}}, \"marker\": {\"colorbar\": {\"outlinewidth\": 0, \"ticks\": \"\"}}, \"type\": \"scatter3d\"}], \"scattercarpet\": [{\"marker\": {\"colorbar\": {\"outlinewidth\": 0, \"ticks\": \"\"}}, \"type\": \"scattercarpet\"}], \"scattergeo\": [{\"marker\": {\"colorbar\": {\"outlinewidth\": 0, \"ticks\": \"\"}}, \"type\": \"scattergeo\"}], \"scattergl\": [{\"marker\": {\"colorbar\": {\"outlinewidth\": 0, \"ticks\": \"\"}}, \"type\": \"scattergl\"}], \"scattermapbox\": [{\"marker\": {\"colorbar\": {\"outlinewidth\": 0, \"ticks\": \"\"}}, \"type\": \"scattermapbox\"}], \"scatterpolar\": [{\"marker\": {\"colorbar\": {\"outlinewidth\": 0, \"ticks\": \"\"}}, \"type\": \"scatterpolar\"}], \"scatterpolargl\": [{\"marker\": {\"colorbar\": {\"outlinewidth\": 0, \"ticks\": \"\"}}, \"type\": \"scatterpolargl\"}], \"scatterternary\": [{\"marker\": {\"colorbar\": {\"outlinewidth\": 0, \"ticks\": \"\"}}, \"type\": \"scatterternary\"}], \"surface\": [{\"colorbar\": {\"outlinewidth\": 0, \"ticks\": \"\"}, \"colorscale\": [[0.0, \"#0d0887\"], [0.1111111111111111, \"#46039f\"], [0.2222222222222222, \"#7201a8\"], [0.3333333333333333, \"#9c179e\"], [0.4444444444444444, \"#bd3786\"], [0.5555555555555556, \"#d8576b\"], [0.6666666666666666, \"#ed7953\"], [0.7777777777777778, \"#fb9f3a\"], [0.8888888888888888, \"#fdca26\"], [1.0, \"#f0f921\"]], \"type\": \"surface\"}], \"table\": [{\"cells\": {\"fill\": {\"color\": \"#EBF0F8\"}, \"line\": {\"color\": \"white\"}}, \"header\": {\"fill\": {\"color\": \"#C8D4E3\"}, \"line\": {\"color\": \"white\"}}, \"type\": \"table\"}]}, \"layout\": {\"annotationdefaults\": {\"arrowcolor\": \"#2a3f5f\", \"arrowhead\": 0, \"arrowwidth\": 1}, \"coloraxis\": {\"colorbar\": {\"outlinewidth\": 0, \"ticks\": \"\"}}, \"colorscale\": {\"diverging\": [[0, \"#8e0152\"], [0.1, \"#c51b7d\"], [0.2, \"#de77ae\"], [0.3, \"#f1b6da\"], [0.4, \"#fde0ef\"], [0.5, \"#f7f7f7\"], [0.6, \"#e6f5d0\"], [0.7, \"#b8e186\"], [0.8, \"#7fbc41\"], [0.9, \"#4d9221\"], [1, \"#276419\"]], \"sequential\": [[0.0, \"#0d0887\"], [0.1111111111111111, \"#46039f\"], [0.2222222222222222, \"#7201a8\"], [0.3333333333333333, \"#9c179e\"], [0.4444444444444444, \"#bd3786\"], [0.5555555555555556, \"#d8576b\"], [0.6666666666666666, \"#ed7953\"], [0.7777777777777778, \"#fb9f3a\"], [0.8888888888888888, \"#fdca26\"], [1.0, \"#f0f921\"]], \"sequentialminus\": [[0.0, \"#0d0887\"], [0.1111111111111111, \"#46039f\"], [0.2222222222222222, \"#7201a8\"], [0.3333333333333333, \"#9c179e\"], [0.4444444444444444, \"#bd3786\"], [0.5555555555555556, \"#d8576b\"], [0.6666666666666666, \"#ed7953\"], [0.7777777777777778, \"#fb9f3a\"], [0.8888888888888888, \"#fdca26\"], [1.0, \"#f0f921\"]]}, \"colorway\": [\"#636efa\", \"#EF553B\", \"#00cc96\", \"#ab63fa\", \"#FFA15A\", \"#19d3f3\", \"#FF6692\", \"#B6E880\", \"#FF97FF\", \"#FECB52\"], \"font\": {\"color\": \"#2a3f5f\"}, \"geo\": {\"bgcolor\": \"white\", \"lakecolor\": \"white\", \"landcolor\": \"#E5ECF6\", \"showlakes\": true, \"showland\": true, \"subunitcolor\": \"white\"}, \"hoverlabel\": {\"align\": \"left\"}, \"hovermode\": \"closest\", \"mapbox\": {\"style\": \"light\"}, \"paper_bgcolor\": \"white\", \"plot_bgcolor\": \"#E5ECF6\", \"polar\": {\"angularaxis\": {\"gridcolor\": \"white\", \"linecolor\": \"white\", \"ticks\": \"\"}, \"bgcolor\": \"#E5ECF6\", \"radialaxis\": {\"gridcolor\": \"white\", \"linecolor\": \"white\", \"ticks\": \"\"}}, \"scene\": {\"xaxis\": {\"backgroundcolor\": \"#E5ECF6\", \"gridcolor\": \"white\", \"gridwidth\": 2, \"linecolor\": \"white\", \"showbackground\": true, \"ticks\": \"\", \"zerolinecolor\": \"white\"}, \"yaxis\": {\"backgroundcolor\": \"#E5ECF6\", \"gridcolor\": \"white\", \"gridwidth\": 2, \"linecolor\": \"white\", \"showbackground\": true, \"ticks\": \"\", \"zerolinecolor\": \"white\"}, \"zaxis\": {\"backgroundcolor\": \"#E5ECF6\", \"gridcolor\": \"white\", \"gridwidth\": 2, \"linecolor\": \"white\", \"showbackground\": true, \"ticks\": \"\", \"zerolinecolor\": \"white\"}}, \"shapedefaults\": {\"line\": {\"color\": \"#2a3f5f\"}}, \"ternary\": {\"aaxis\": {\"gridcolor\": \"white\", \"linecolor\": \"white\", \"ticks\": \"\"}, \"baxis\": {\"gridcolor\": \"white\", \"linecolor\": \"white\", \"ticks\": \"\"}, \"bgcolor\": \"#E5ECF6\", \"caxis\": {\"gridcolor\": \"white\", \"linecolor\": \"white\", \"ticks\": \"\"}}, \"title\": {\"x\": 0.05}, \"xaxis\": {\"automargin\": true, \"gridcolor\": \"white\", \"linecolor\": \"white\", \"ticks\": \"\", \"title\": {\"standoff\": 15}, \"zerolinecolor\": \"white\", \"zerolinewidth\": 2}, \"yaxis\": {\"automargin\": true, \"gridcolor\": \"white\", \"linecolor\": \"white\", \"ticks\": \"\", \"title\": {\"standoff\": 15}, \"zerolinecolor\": \"white\", \"zerolinewidth\": 2}}}},\n",
              "                        {\"responsive\": true}\n",
              "                    ).then(function(){\n",
              "                            \n",
              "var gd = document.getElementById('a3bb3bca-68de-4dab-9188-dae80edfa1ba');\n",
              "var x = new MutationObserver(function (mutations, observer) {{\n",
              "        var display = window.getComputedStyle(gd).display;\n",
              "        if (!display || display === 'none') {{\n",
              "            console.log([gd, 'removed!']);\n",
              "            Plotly.purge(gd);\n",
              "            observer.disconnect();\n",
              "        }}\n",
              "}});\n",
              "\n",
              "// Listen for the removal of the full notebook cells\n",
              "var notebookContainer = gd.closest('#notebook-container');\n",
              "if (notebookContainer) {{\n",
              "    x.observe(notebookContainer, {childList: true});\n",
              "}}\n",
              "\n",
              "// Listen for the clearing of the current output cell\n",
              "var outputEl = gd.closest('.output');\n",
              "if (outputEl) {{\n",
              "    x.observe(outputEl, {childList: true});\n",
              "}}\n",
              "\n",
              "                        })\n",
              "                };\n",
              "                \n",
              "            </script>\n",
              "        </div>\n",
              "</body>\n",
              "</html>"
            ]
          },
          "metadata": {}
        }
      ]
    },
    {
      "cell_type": "code",
      "metadata": {
        "colab": {
          "base_uri": "https://localhost:8080/",
          "height": 206
        },
        "id": "5M5NsWROhcD-",
        "outputId": "0d52284c-e713-46e9-cfd8-f8d1fffc7c83"
      },
      "source": [
        "scaler = preprocessing.RobustScaler()\n",
        "robust_df = scaler.fit_transform(cluster_df)\n",
        "robust_df = pd.DataFrame(robust_df)\n",
        "robust_df.columns = ['Number of Defect',\t'Std. Dev Processing',\t'%Completion',\t'Perfectly Cut',\t'Defect Type', 'Cluster']\n",
        "robust_df.head()"
      ],
      "execution_count": 27,
      "outputs": [
        {
          "output_type": "execute_result",
          "data": {
            "text/html": [
              "<div>\n",
              "<style scoped>\n",
              "    .dataframe tbody tr th:only-of-type {\n",
              "        vertical-align: middle;\n",
              "    }\n",
              "\n",
              "    .dataframe tbody tr th {\n",
              "        vertical-align: top;\n",
              "    }\n",
              "\n",
              "    .dataframe thead th {\n",
              "        text-align: right;\n",
              "    }\n",
              "</style>\n",
              "<table border=\"1\" class=\"dataframe\">\n",
              "  <thead>\n",
              "    <tr style=\"text-align: right;\">\n",
              "      <th></th>\n",
              "      <th>Number of Defect</th>\n",
              "      <th>Std. Dev Processing</th>\n",
              "      <th>%Completion</th>\n",
              "      <th>Perfectly Cut</th>\n",
              "      <th>Defect Type</th>\n",
              "      <th>Cluster</th>\n",
              "    </tr>\n",
              "  </thead>\n",
              "  <tbody>\n",
              "    <tr>\n",
              "      <th>0</th>\n",
              "      <td>-0.333333</td>\n",
              "      <td>-0.079321</td>\n",
              "      <td>0.962963</td>\n",
              "      <td>0.0</td>\n",
              "      <td>-0.5</td>\n",
              "      <td>0.0</td>\n",
              "    </tr>\n",
              "    <tr>\n",
              "      <th>1</th>\n",
              "      <td>0.000000</td>\n",
              "      <td>-0.510549</td>\n",
              "      <td>0.629630</td>\n",
              "      <td>0.0</td>\n",
              "      <td>-0.5</td>\n",
              "      <td>0.0</td>\n",
              "    </tr>\n",
              "    <tr>\n",
              "      <th>2</th>\n",
              "      <td>-0.333333</td>\n",
              "      <td>-0.470873</td>\n",
              "      <td>1.000000</td>\n",
              "      <td>0.0</td>\n",
              "      <td>-0.5</td>\n",
              "      <td>0.0</td>\n",
              "    </tr>\n",
              "    <tr>\n",
              "      <th>3</th>\n",
              "      <td>-0.333333</td>\n",
              "      <td>-0.399257</td>\n",
              "      <td>0.703704</td>\n",
              "      <td>0.0</td>\n",
              "      <td>-0.5</td>\n",
              "      <td>0.0</td>\n",
              "    </tr>\n",
              "    <tr>\n",
              "      <th>4</th>\n",
              "      <td>0.666667</td>\n",
              "      <td>0.063997</td>\n",
              "      <td>-0.259259</td>\n",
              "      <td>1.0</td>\n",
              "      <td>-0.5</td>\n",
              "      <td>-1.0</td>\n",
              "    </tr>\n",
              "  </tbody>\n",
              "</table>\n",
              "</div>"
            ],
            "text/plain": [
              "   Number of Defect  Std. Dev Processing  ...  Defect Type  Cluster\n",
              "0         -0.333333            -0.079321  ...         -0.5      0.0\n",
              "1          0.000000            -0.510549  ...         -0.5      0.0\n",
              "2         -0.333333            -0.470873  ...         -0.5      0.0\n",
              "3         -0.333333            -0.399257  ...         -0.5      0.0\n",
              "4          0.666667             0.063997  ...         -0.5     -1.0\n",
              "\n",
              "[5 rows x 6 columns]"
            ]
          },
          "metadata": {},
          "execution_count": 27
        }
      ]
    },
    {
      "cell_type": "code",
      "metadata": {
        "id": "48qq1XVKfJtD"
      },
      "source": [
        "pca = PCA(n_components=2)\n",
        "pca.fit(robust_df)\n",
        "pca_scaled = pca.fit_transform(robust_df)"
      ],
      "execution_count": 28,
      "outputs": []
    },
    {
      "cell_type": "code",
      "metadata": {
        "colab": {
          "base_uri": "https://localhost:8080/",
          "height": 281
        },
        "id": "DJt_CmHqiIvX",
        "outputId": "598b4030-b777-4f85-bd77-9993cdb6a9c0"
      },
      "source": [
        "scaled_pca =  pd.DataFrame(pca_scaled)\n",
        "scaled_pca.columns = ['PC1', 'PC2']\n",
        "\n",
        "fig, ax = plt.subplots()\n",
        "scatter = ax.scatter(scaled_pca['PC1'],scaled_pca['PC2'], c=cluster_df['Cluster'])\n",
        "legend1 = ax.legend(*scatter.legend_elements(),\n",
        "                    loc=\"best\", title=\"Classes\")\n",
        "ax.add_artist(legend1)\n",
        "plt.title('PCA With Cluster')\n",
        "plt.show()"
      ],
      "execution_count": 29,
      "outputs": [
        {
          "output_type": "display_data",
          "data": {
            "image/png": "[encoded data removed]",
            "text/plain": [
              "<Figure size 432x288 with 1 Axes>"
            ]
          },
          "metadata": {
            "needs_background": "light"
          }
        }
      ]
    },
    {
      "cell_type": "code",
      "metadata": {
        "colab": {
          "base_uri": "https://localhost:8080/",
          "height": 237
        },
        "id": "JQamoJq6Qx7r",
        "outputId": "2942fa76-b561-4628-da51-025c501d7812"
      },
      "source": [
        "df = df.set_index('Obs')\n",
        "df.head()"
      ],
      "execution_count": 30,
      "outputs": [
        {
          "output_type": "execute_result",
          "data": {
            "text/html": [
              "<div>\n",
              "<style scoped>\n",
              "    .dataframe tbody tr th:only-of-type {\n",
              "        vertical-align: middle;\n",
              "    }\n",
              "\n",
              "    .dataframe tbody tr th {\n",
              "        vertical-align: top;\n",
              "    }\n",
              "\n",
              "    .dataframe thead th {\n",
              "        text-align: right;\n",
              "    }\n",
              "</style>\n",
              "<table border=\"1\" class=\"dataframe\">\n",
              "  <thead>\n",
              "    <tr style=\"text-align: right;\">\n",
              "      <th></th>\n",
              "      <th>Number of Defect</th>\n",
              "      <th>Std. Dev Processing</th>\n",
              "      <th>%Completion</th>\n",
              "      <th>Perfectly Cut</th>\n",
              "      <th>Defect Type</th>\n",
              "    </tr>\n",
              "    <tr>\n",
              "      <th>Obs</th>\n",
              "      <th></th>\n",
              "      <th></th>\n",
              "      <th></th>\n",
              "      <th></th>\n",
              "      <th></th>\n",
              "    </tr>\n",
              "  </thead>\n",
              "  <tbody>\n",
              "    <tr>\n",
              "      <th>1</th>\n",
              "      <td>3</td>\n",
              "      <td>2.645751</td>\n",
              "      <td>108</td>\n",
              "      <td>0</td>\n",
              "      <td>1</td>\n",
              "    </tr>\n",
              "    <tr>\n",
              "      <th>2</th>\n",
              "      <td>5</td>\n",
              "      <td>1.414214</td>\n",
              "      <td>99</td>\n",
              "      <td>0</td>\n",
              "      <td>1</td>\n",
              "    </tr>\n",
              "    <tr>\n",
              "      <th>3</th>\n",
              "      <td>3</td>\n",
              "      <td>1.527525</td>\n",
              "      <td>109</td>\n",
              "      <td>0</td>\n",
              "      <td>1</td>\n",
              "    </tr>\n",
              "    <tr>\n",
              "      <th>4</th>\n",
              "      <td>3</td>\n",
              "      <td>1.732051</td>\n",
              "      <td>101</td>\n",
              "      <td>0</td>\n",
              "      <td>1</td>\n",
              "    </tr>\n",
              "    <tr>\n",
              "      <th>5</th>\n",
              "      <td>9</td>\n",
              "      <td>3.055050</td>\n",
              "      <td>75</td>\n",
              "      <td>1</td>\n",
              "      <td>1</td>\n",
              "    </tr>\n",
              "  </tbody>\n",
              "</table>\n",
              "</div>"
            ],
            "text/plain": [
              "     Number of Defect  Std. Dev Processing  ...  Perfectly Cut  Defect Type\n",
              "Obs                                         ...                            \n",
              "1                   3             2.645751  ...              0            1\n",
              "2                   5             1.414214  ...              0            1\n",
              "3                   3             1.527525  ...              0            1\n",
              "4                   3             1.732051  ...              0            1\n",
              "5                   9             3.055050  ...              1            1\n",
              "\n",
              "[5 rows x 5 columns]"
            ]
          },
          "metadata": {},
          "execution_count": 30
        }
      ]
    },
    {
      "cell_type": "code",
      "metadata": {
        "colab": {
          "base_uri": "https://localhost:8080/",
          "height": 206
        },
        "id": "j9KvBxlljKKb",
        "outputId": "688e81f8-d5a8-49e6-9473-0bd0b2866bdb"
      },
      "source": [
        "scaler = preprocessing.RobustScaler()\n",
        "df_new = scaler.fit_transform(df)\n",
        "df_new = pd.DataFrame(df_new)\n",
        "df_new.columns = ['Number of Defect',\t'Std. Dev Processing',\t'%Completion',\t'Perfectly Cut',\t'Defect Type']\n",
        "df_new.head()"
      ],
      "execution_count": 31,
      "outputs": [
        {
          "output_type": "execute_result",
          "data": {
            "text/html": [
              "<div>\n",
              "<style scoped>\n",
              "    .dataframe tbody tr th:only-of-type {\n",
              "        vertical-align: middle;\n",
              "    }\n",
              "\n",
              "    .dataframe tbody tr th {\n",
              "        vertical-align: top;\n",
              "    }\n",
              "\n",
              "    .dataframe thead th {\n",
              "        text-align: right;\n",
              "    }\n",
              "</style>\n",
              "<table border=\"1\" class=\"dataframe\">\n",
              "  <thead>\n",
              "    <tr style=\"text-align: right;\">\n",
              "      <th></th>\n",
              "      <th>Number of Defect</th>\n",
              "      <th>Std. Dev Processing</th>\n",
              "      <th>%Completion</th>\n",
              "      <th>Perfectly Cut</th>\n",
              "      <th>Defect Type</th>\n",
              "    </tr>\n",
              "  </thead>\n",
              "  <tbody>\n",
              "    <tr>\n",
              "      <th>0</th>\n",
              "      <td>-0.333333</td>\n",
              "      <td>-0.079321</td>\n",
              "      <td>0.962963</td>\n",
              "      <td>0.0</td>\n",
              "      <td>-0.5</td>\n",
              "    </tr>\n",
              "    <tr>\n",
              "      <th>1</th>\n",
              "      <td>0.000000</td>\n",
              "      <td>-0.510549</td>\n",
              "      <td>0.629630</td>\n",
              "      <td>0.0</td>\n",
              "      <td>-0.5</td>\n",
              "    </tr>\n",
              "    <tr>\n",
              "      <th>2</th>\n",
              "      <td>-0.333333</td>\n",
              "      <td>-0.470873</td>\n",
              "      <td>1.000000</td>\n",
              "      <td>0.0</td>\n",
              "      <td>-0.5</td>\n",
              "    </tr>\n",
              "    <tr>\n",
              "      <th>3</th>\n",
              "      <td>-0.333333</td>\n",
              "      <td>-0.399257</td>\n",
              "      <td>0.703704</td>\n",
              "      <td>0.0</td>\n",
              "      <td>-0.5</td>\n",
              "    </tr>\n",
              "    <tr>\n",
              "      <th>4</th>\n",
              "      <td>0.666667</td>\n",
              "      <td>0.063997</td>\n",
              "      <td>-0.259259</td>\n",
              "      <td>1.0</td>\n",
              "      <td>-0.5</td>\n",
              "    </tr>\n",
              "  </tbody>\n",
              "</table>\n",
              "</div>"
            ],
            "text/plain": [
              "   Number of Defect  Std. Dev Processing  ...  Perfectly Cut  Defect Type\n",
              "0         -0.333333            -0.079321  ...            0.0         -0.5\n",
              "1          0.000000            -0.510549  ...            0.0         -0.5\n",
              "2         -0.333333            -0.470873  ...            0.0         -0.5\n",
              "3         -0.333333            -0.399257  ...            0.0         -0.5\n",
              "4          0.666667             0.063997  ...            1.0         -0.5\n",
              "\n",
              "[5 rows x 5 columns]"
            ]
          },
          "metadata": {},
          "execution_count": 31
        }
      ]
    },
    {
      "cell_type": "code",
      "metadata": {
        "id": "QwNxGRSXkAqX"
      },
      "source": [
        "pca = PCA(n_components=2)\n",
        "pca.fit(df_new)\n",
        "pca_scaled_1 = pca.fit_transform(df_new)"
      ],
      "execution_count": 32,
      "outputs": []
    },
    {
      "cell_type": "code",
      "metadata": {
        "colab": {
          "base_uri": "https://localhost:8080/",
          "height": 281
        },
        "id": "4zCnRdjllRuM",
        "outputId": "cc8e4f8b-8ed4-49af-c618-f25453113729"
      },
      "source": [
        "scaled_pca1 =  pd.DataFrame(pca_scaled_1)\n",
        "scaled_pca1.columns = ['PC1', 'PC2']\n",
        "\n",
        "fig, ax = plt.subplots()\n",
        "scatter = ax.scatter(scaled_pca1['PC1'],scaled_pca1['PC2'], c=cluster_df['Cluster'])\n",
        "legend1 = ax.legend(*scatter.legend_elements(),\n",
        "                    loc=\"best\", title=\"Classes\")\n",
        "ax.add_artist(legend1)\n",
        "plt.title('PCA Without Cluster')\n",
        "plt.show()"
      ],
      "execution_count": 33,
      "outputs": [
        {
          "output_type": "display_data",
          "data": {
            "image/png": "[encoded data removed]",
            "text/plain": [
              "<Figure size 432x288 with 1 Axes>"
            ]
          },
          "metadata": {
            "needs_background": "light"
          }
        }
      ]
    },
    {
      "cell_type": "code",
      "metadata": {
        "colab": {
          "base_uri": "https://localhost:8080/",
          "height": 206
        },
        "id": "SiVWh3BaS42Z",
        "outputId": "3f7d9425-50d3-4f13-9582-427395f4c118"
      },
      "source": [
        "pca = PCA(n_components=1)\n",
        "pca.fit(robust_df)\n",
        "pca_scaled = pca.fit_transform(robust_df)\n",
        "scaled_pca =  pd.DataFrame(pca_scaled)\n",
        "scaled_pca.columns = ['PC1']\n",
        "scaled_pca.head()"
      ],
      "execution_count": 34,
      "outputs": [
        {
          "output_type": "execute_result",
          "data": {
            "text/html": [
              "<div>\n",
              "<style scoped>\n",
              "    .dataframe tbody tr th:only-of-type {\n",
              "        vertical-align: middle;\n",
              "    }\n",
              "\n",
              "    .dataframe tbody tr th {\n",
              "        vertical-align: top;\n",
              "    }\n",
              "\n",
              "    .dataframe thead th {\n",
              "        text-align: right;\n",
              "    }\n",
              "</style>\n",
              "<table border=\"1\" class=\"dataframe\">\n",
              "  <thead>\n",
              "    <tr style=\"text-align: right;\">\n",
              "      <th></th>\n",
              "      <th>PC1</th>\n",
              "    </tr>\n",
              "  </thead>\n",
              "  <tbody>\n",
              "    <tr>\n",
              "      <th>0</th>\n",
              "      <td>-0.963700</td>\n",
              "    </tr>\n",
              "    <tr>\n",
              "      <th>1</th>\n",
              "      <td>-0.901835</td>\n",
              "    </tr>\n",
              "    <tr>\n",
              "      <th>2</th>\n",
              "      <td>-1.206520</td>\n",
              "    </tr>\n",
              "    <tr>\n",
              "      <th>3</th>\n",
              "      <td>-1.042328</td>\n",
              "    </tr>\n",
              "    <tr>\n",
              "      <th>4</th>\n",
              "      <td>0.422698</td>\n",
              "    </tr>\n",
              "  </tbody>\n",
              "</table>\n",
              "</div>"
            ],
            "text/plain": [
              "        PC1\n",
              "0 -0.963700\n",
              "1 -0.901835\n",
              "2 -1.206520\n",
              "3 -1.042328\n",
              "4  0.422698"
            ]
          },
          "metadata": {},
          "execution_count": 34
        }
      ]
    },
    {
      "cell_type": "code",
      "metadata": {
        "id": "qI-PUzb499pC"
      },
      "source": [
        "def prepare_data(timeseries_data, n_features):\n",
        "\tX, y =[],[]\n",
        "\tfor i in range(len(timeseries_data)):\n",
        "\t\t# find the end of this pattern\n",
        "\t\tend_ix = i + n_features\n",
        "\t\t# check if we are beyond the sequence\n",
        "\t\tif end_ix > len(timeseries_data)-1:\n",
        "\t\t\tbreak\n",
        "\t\t# gather input and output parts of the pattern\n",
        "\t\tseq_x, seq_y = timeseries_data[i:end_ix], timeseries_data[end_ix]\n",
        "\t\tX.append(seq_x)\n",
        "\t\ty.append(seq_y)\n",
        "\treturn np.array(X), np.array(y)"
      ],
      "execution_count": 35,
      "outputs": []
    },
    {
      "cell_type": "code",
      "metadata": {
        "id": "KtanmKJn_BX_"
      },
      "source": [
        "pc1 = scaled_pca['PC1'].values.tolist()\n",
        "n_steps = 30\n",
        "X, y = prepare_data(pc1, n_steps)"
      ],
      "execution_count": 36,
      "outputs": []
    },
    {
      "cell_type": "code",
      "metadata": {
        "id": "ZxAkwl1K_VKD"
      },
      "source": [
        "n_features = 1\n",
        "X = X.reshape((X.shape[0], X.shape[1], n_features))"
      ],
      "execution_count": 37,
      "outputs": []
    },
    {
      "cell_type": "code",
      "metadata": {
        "colab": {
          "base_uri": "https://localhost:8080/"
        },
        "id": "G9jgHGUUANQs",
        "outputId": "2a240082-69b7-4e95-de64-4167505863ea"
      },
      "source": [
        "# define model\n",
        "model = Sequential()\n",
        "model.add(LSTM(50, activation='relu', return_sequences=True, input_shape=(n_steps, n_features)))\n",
        "model.add(LSTM(50, activation='relu'))\n",
        "model.add(Dense(1))\n",
        "model.compile(optimizer='adam', loss='mse')\n",
        "# fit model\n",
        "model.fit(X, y, epochs=300, verbose=1)"
      ],
      "execution_count": 38,
      "outputs": [
        {
          "output_type": "stream",
          "name": "stdout",
          "text": [
            "Epoch 1/300\n",
            "11/11 [==============================] - 3s 30ms/step - loss: 1.1520\n",
            "Epoch 2/300\n",
            "11/11 [==============================] - 0s 30ms/step - loss: 1.1365\n",
            "Epoch 3/300\n",
            "11/11 [==============================] - 0s 30ms/step - loss: 1.1193\n",
            "Epoch 4/300\n",
            "11/11 [==============================] - 0s 29ms/step - loss: 1.1056\n",
            "Epoch 5/300\n",
            "11/11 [==============================] - 0s 29ms/step - loss: 1.1087\n",
            "Epoch 6/300\n",
            "11/11 [==============================] - 0s 29ms/step - loss: 1.1137\n",
            "Epoch 7/300\n",
            "11/11 [==============================] - 0s 30ms/step - loss: 1.1004\n",
            "Epoch 8/300\n",
            "11/11 [==============================] - 0s 29ms/step - loss: 1.1051\n",
            "Epoch 9/300\n",
            "11/11 [==============================] - 0s 31ms/step - loss: 1.1006\n",
            "Epoch 10/300\n",
            "11/11 [==============================] - 0s 30ms/step - loss: 1.1027\n",
            "Epoch 11/300\n",
            "11/11 [==============================] - 0s 31ms/step - loss: 1.0982\n",
            "Epoch 12/300\n",
            "11/11 [==============================] - 0s 30ms/step - loss: 1.1152\n",
            "Epoch 13/300\n",
            "11/11 [==============================] - 0s 29ms/step - loss: 1.1042\n",
            "Epoch 14/300\n",
            "11/11 [==============================] - 0s 29ms/step - loss: 1.1247\n",
            "Epoch 15/300\n",
            "11/11 [==============================] - 0s 30ms/step - loss: 1.1099\n",
            "Epoch 16/300\n",
            "11/11 [==============================] - 0s 32ms/step - loss: 1.1107\n",
            "Epoch 17/300\n",
            "11/11 [==============================] - 0s 30ms/step - loss: 1.1152\n",
            "Epoch 18/300\n",
            "11/11 [==============================] - 0s 30ms/step - loss: 1.1078\n",
            "Epoch 19/300\n",
            "11/11 [==============================] - 0s 31ms/step - loss: 1.1082\n",
            "Epoch 20/300\n",
            "11/11 [==============================] - 0s 29ms/step - loss: 1.1001\n",
            "Epoch 21/300\n",
            "11/11 [==============================] - 0s 30ms/step - loss: 1.0952\n",
            "Epoch 22/300\n",
            "11/11 [==============================] - 0s 29ms/step - loss: 1.1000\n",
            "Epoch 23/300\n",
            "11/11 [==============================] - 0s 30ms/step - loss: 1.0978\n",
            "Epoch 24/300\n",
            "11/11 [==============================] - 0s 30ms/step - loss: 1.1011\n",
            "Epoch 25/300\n",
            "11/11 [==============================] - 0s 29ms/step - loss: 1.0970\n",
            "Epoch 26/300\n",
            "11/11 [==============================] - 0s 29ms/step - loss: 1.0933\n",
            "Epoch 27/300\n",
            "11/11 [==============================] - 0s 30ms/step - loss: 1.0900\n",
            "Epoch 28/300\n",
            "11/11 [==============================] - 0s 31ms/step - loss: 1.0900\n",
            "Epoch 29/300\n",
            "11/11 [==============================] - 0s 29ms/step - loss: 1.0895\n",
            "Epoch 30/300\n",
            "11/11 [==============================] - 0s 33ms/step - loss: 1.0909\n",
            "Epoch 31/300\n",
            "11/11 [==============================] - 0s 30ms/step - loss: 1.0839\n",
            "Epoch 32/300\n",
            "11/11 [==============================] - 0s 29ms/step - loss: 1.0868\n",
            "Epoch 33/300\n",
            "11/11 [==============================] - 0s 30ms/step - loss: 1.0836\n",
            "Epoch 34/300\n",
            "11/11 [==============================] - 0s 30ms/step - loss: 1.0912\n",
            "Epoch 35/300\n",
            "11/11 [==============================] - 0s 30ms/step - loss: 1.0865\n",
            "Epoch 36/300\n",
            "11/11 [==============================] - 0s 30ms/step - loss: 1.0850\n",
            "Epoch 37/300\n",
            "11/11 [==============================] - 0s 30ms/step - loss: 1.0862\n",
            "Epoch 38/300\n",
            "11/11 [==============================] - 0s 30ms/step - loss: 1.0863\n",
            "Epoch 39/300\n",
            "11/11 [==============================] - 0s 32ms/step - loss: 1.0832\n",
            "Epoch 40/300\n",
            "11/11 [==============================] - 0s 29ms/step - loss: 1.0746\n",
            "Epoch 41/300\n",
            "11/11 [==============================] - 0s 30ms/step - loss: 1.0739\n",
            "Epoch 42/300\n",
            "11/11 [==============================] - 0s 31ms/step - loss: 1.0694\n",
            "Epoch 43/300\n",
            "11/11 [==============================] - 0s 29ms/step - loss: 1.0710\n",
            "Epoch 44/300\n",
            "11/11 [==============================] - 0s 30ms/step - loss: 1.0715\n",
            "Epoch 45/300\n",
            "11/11 [==============================] - 0s 30ms/step - loss: 1.0728\n",
            "Epoch 46/300\n",
            "11/11 [==============================] - 0s 30ms/step - loss: 1.0683\n",
            "Epoch 47/300\n",
            "11/11 [==============================] - 0s 30ms/step - loss: 1.0643\n",
            "Epoch 48/300\n",
            "11/11 [==============================] - 0s 30ms/step - loss: 1.0588\n",
            "Epoch 49/300\n",
            "11/11 [==============================] - 0s 29ms/step - loss: 1.0571\n",
            "Epoch 50/300\n",
            "11/11 [==============================] - 0s 30ms/step - loss: 1.0571\n",
            "Epoch 51/300\n",
            "11/11 [==============================] - 0s 30ms/step - loss: 1.0528\n",
            "Epoch 52/300\n",
            "11/11 [==============================] - 0s 30ms/step - loss: 1.0752\n",
            "Epoch 53/300\n",
            "11/11 [==============================] - 0s 29ms/step - loss: 1.0482\n",
            "Epoch 54/300\n",
            "11/11 [==============================] - 0s 29ms/step - loss: 1.0436\n",
            "Epoch 55/300\n",
            "11/11 [==============================] - 0s 32ms/step - loss: 1.0491\n",
            "Epoch 56/300\n",
            "11/11 [==============================] - 0s 29ms/step - loss: 1.0354\n",
            "Epoch 57/300\n",
            "11/11 [==============================] - 0s 29ms/step - loss: 1.0247\n",
            "Epoch 58/300\n",
            "11/11 [==============================] - 0s 32ms/step - loss: 1.0392\n",
            "Epoch 59/300\n",
            "11/11 [==============================] - 0s 28ms/step - loss: 1.0314\n",
            "Epoch 60/300\n",
            "11/11 [==============================] - 0s 30ms/step - loss: 1.0346\n",
            "Epoch 61/300\n",
            "11/11 [==============================] - 0s 30ms/step - loss: 1.0251\n",
            "Epoch 62/300\n",
            "11/11 [==============================] - 0s 30ms/step - loss: 1.0177\n",
            "Epoch 63/300\n",
            "11/11 [==============================] - 0s 30ms/step - loss: 1.0439\n",
            "Epoch 64/300\n",
            "11/11 [==============================] - 0s 30ms/step - loss: 1.0204\n",
            "Epoch 65/300\n",
            "11/11 [==============================] - 0s 29ms/step - loss: 1.0094\n",
            "Epoch 66/300\n",
            "11/11 [==============================] - 0s 30ms/step - loss: 1.0023\n",
            "Epoch 67/300\n",
            "11/11 [==============================] - 0s 29ms/step - loss: 1.0018\n",
            "Epoch 68/300\n",
            "11/11 [==============================] - 0s 30ms/step - loss: 1.0049\n",
            "Epoch 69/300\n",
            "11/11 [==============================] - 0s 30ms/step - loss: 1.0032\n",
            "Epoch 70/300\n",
            "11/11 [==============================] - 0s 31ms/step - loss: 0.9987\n",
            "Epoch 71/300\n",
            "11/11 [==============================] - 0s 30ms/step - loss: 1.0086\n",
            "Epoch 72/300\n",
            "11/11 [==============================] - 0s 30ms/step - loss: 0.9947\n",
            "Epoch 73/300\n",
            "11/11 [==============================] - 0s 31ms/step - loss: 1.0063\n",
            "Epoch 74/300\n",
            "11/11 [==============================] - 0s 30ms/step - loss: 1.0021\n",
            "Epoch 75/300\n",
            "11/11 [==============================] - 0s 31ms/step - loss: 0.9944\n",
            "Epoch 76/300\n",
            "11/11 [==============================] - 0s 31ms/step - loss: 0.9970\n",
            "Epoch 77/300\n",
            "11/11 [==============================] - 0s 30ms/step - loss: 0.9919\n",
            "Epoch 78/300\n",
            "11/11 [==============================] - 0s 32ms/step - loss: 0.9827\n",
            "Epoch 79/300\n",
            "11/11 [==============================] - 0s 31ms/step - loss: 0.9773\n",
            "Epoch 80/300\n",
            "11/11 [==============================] - 0s 31ms/step - loss: 0.9521\n",
            "Epoch 81/300\n",
            "11/11 [==============================] - 0s 32ms/step - loss: 0.9953\n",
            "Epoch 82/300\n",
            "11/11 [==============================] - 0s 29ms/step - loss: 0.9799\n",
            "Epoch 83/300\n",
            "11/11 [==============================] - 0s 29ms/step - loss: 0.9601\n",
            "Epoch 84/300\n",
            "11/11 [==============================] - 0s 33ms/step - loss: 0.9454\n",
            "Epoch 85/300\n",
            "11/11 [==============================] - 0s 31ms/step - loss: 1.0142\n",
            "Epoch 86/300\n",
            "11/11 [==============================] - 0s 30ms/step - loss: 1.0047\n",
            "Epoch 87/300\n",
            "11/11 [==============================] - 0s 31ms/step - loss: 0.9956\n",
            "Epoch 88/300\n",
            "11/11 [==============================] - 0s 29ms/step - loss: 0.9796\n",
            "Epoch 89/300\n",
            "11/11 [==============================] - 0s 30ms/step - loss: 0.9718\n",
            "Epoch 90/300\n",
            "11/11 [==============================] - 0s 30ms/step - loss: 0.9809\n",
            "Epoch 91/300\n",
            "11/11 [==============================] - 0s 30ms/step - loss: 0.9762\n",
            "Epoch 92/300\n",
            "11/11 [==============================] - 0s 31ms/step - loss: 0.9339\n",
            "Epoch 93/300\n",
            "11/11 [==============================] - 0s 30ms/step - loss: 0.9547\n",
            "Epoch 94/300\n",
            "11/11 [==============================] - 0s 29ms/step - loss: 0.9552\n",
            "Epoch 95/300\n",
            "11/11 [==============================] - 0s 30ms/step - loss: 0.9376\n",
            "Epoch 96/300\n",
            "11/11 [==============================] - 0s 32ms/step - loss: 0.9595\n",
            "Epoch 97/300\n",
            "11/11 [==============================] - 0s 30ms/step - loss: 0.9527\n",
            "Epoch 98/300\n",
            "11/11 [==============================] - 0s 29ms/step - loss: 0.9602\n",
            "Epoch 99/300\n",
            "11/11 [==============================] - 0s 30ms/step - loss: 0.9152\n",
            "Epoch 100/300\n",
            "11/11 [==============================] - 0s 30ms/step - loss: 0.9328\n",
            "Epoch 101/300\n",
            "11/11 [==============================] - 0s 30ms/step - loss: 0.9164\n",
            "Epoch 102/300\n",
            "11/11 [==============================] - 0s 31ms/step - loss: 0.9009\n",
            "Epoch 103/300\n",
            "11/11 [==============================] - 0s 31ms/step - loss: 0.9150\n",
            "Epoch 104/300\n",
            "11/11 [==============================] - 0s 29ms/step - loss: 0.9166\n",
            "Epoch 105/300\n",
            "11/11 [==============================] - 0s 31ms/step - loss: 0.8984\n",
            "Epoch 106/300\n",
            "11/11 [==============================] - 0s 30ms/step - loss: 0.8796\n",
            "Epoch 107/300\n",
            "11/11 [==============================] - 0s 31ms/step - loss: 0.8691\n",
            "Epoch 108/300\n",
            "11/11 [==============================] - 0s 31ms/step - loss: 0.8933\n",
            "Epoch 109/300\n",
            "11/11 [==============================] - 0s 31ms/step - loss: 0.8701\n",
            "Epoch 110/300\n",
            "11/11 [==============================] - 0s 31ms/step - loss: 0.8817\n",
            "Epoch 111/300\n",
            "11/11 [==============================] - 0s 30ms/step - loss: 0.9459\n",
            "Epoch 112/300\n",
            "11/11 [==============================] - 0s 30ms/step - loss: 0.8946\n",
            "Epoch 113/300\n",
            "11/11 [==============================] - 0s 30ms/step - loss: 0.8424\n",
            "Epoch 114/300\n",
            "11/11 [==============================] - 0s 32ms/step - loss: 0.8203\n",
            "Epoch 115/300\n",
            "11/11 [==============================] - 0s 31ms/step - loss: 0.8611\n",
            "Epoch 116/300\n",
            "11/11 [==============================] - 0s 31ms/step - loss: 0.8412\n",
            "Epoch 117/300\n",
            "11/11 [==============================] - 0s 30ms/step - loss: 0.8122\n",
            "Epoch 118/300\n",
            "11/11 [==============================] - 0s 29ms/step - loss: 0.8255\n",
            "Epoch 119/300\n",
            "11/11 [==============================] - 0s 34ms/step - loss: 0.8333\n",
            "Epoch 120/300\n",
            "11/11 [==============================] - 0s 31ms/step - loss: 0.8260\n",
            "Epoch 121/300\n",
            "11/11 [==============================] - 0s 30ms/step - loss: 0.7724\n",
            "Epoch 122/300\n",
            "11/11 [==============================] - 0s 30ms/step - loss: 0.7775\n",
            "Epoch 123/300\n",
            "11/11 [==============================] - 0s 36ms/step - loss: 0.7573\n",
            "Epoch 124/300\n",
            "11/11 [==============================] - 0s 30ms/step - loss: 0.7609\n",
            "Epoch 125/300\n",
            "11/11 [==============================] - 0s 32ms/step - loss: 0.7516\n",
            "Epoch 126/300\n",
            "11/11 [==============================] - 0s 29ms/step - loss: 0.7289\n",
            "Epoch 127/300\n",
            "11/11 [==============================] - 0s 30ms/step - loss: 0.7738\n",
            "Epoch 128/300\n",
            "11/11 [==============================] - 0s 31ms/step - loss: 0.7153\n",
            "Epoch 129/300\n",
            "11/11 [==============================] - 0s 30ms/step - loss: 0.7261\n",
            "Epoch 130/300\n",
            "11/11 [==============================] - 0s 30ms/step - loss: 0.7422\n",
            "Epoch 131/300\n",
            "11/11 [==============================] - 0s 31ms/step - loss: 0.7228\n",
            "Epoch 132/300\n",
            "11/11 [==============================] - 0s 29ms/step - loss: 0.7164\n",
            "Epoch 133/300\n",
            "11/11 [==============================] - 0s 31ms/step - loss: 0.6913\n",
            "Epoch 134/300\n",
            "11/11 [==============================] - 0s 30ms/step - loss: 0.6525\n",
            "Epoch 135/300\n",
            "11/11 [==============================] - 0s 29ms/step - loss: 0.8558\n",
            "Epoch 136/300\n",
            "11/11 [==============================] - 0s 31ms/step - loss: 0.9068\n",
            "Epoch 137/300\n",
            "11/11 [==============================] - 0s 31ms/step - loss: 0.8770\n",
            "Epoch 138/300\n",
            "11/11 [==============================] - 0s 30ms/step - loss: 0.7827\n",
            "Epoch 139/300\n",
            "11/11 [==============================] - 0s 30ms/step - loss: 0.7047\n",
            "Epoch 140/300\n",
            "11/11 [==============================] - 0s 33ms/step - loss: 0.7235\n",
            "Epoch 141/300\n",
            "11/11 [==============================] - 0s 31ms/step - loss: 0.8037\n",
            "Epoch 142/300\n",
            "11/11 [==============================] - 0s 30ms/step - loss: 0.7345\n",
            "Epoch 143/300\n",
            "11/11 [==============================] - 0s 32ms/step - loss: 0.7028\n",
            "Epoch 144/300\n",
            "11/11 [==============================] - 0s 30ms/step - loss: 0.7180\n",
            "Epoch 145/300\n",
            "11/11 [==============================] - 0s 30ms/step - loss: 0.6788\n",
            "Epoch 146/300\n",
            "11/11 [==============================] - 0s 32ms/step - loss: 0.6243\n",
            "Epoch 147/300\n",
            "11/11 [==============================] - 0s 31ms/step - loss: 0.6012\n",
            "Epoch 148/300\n",
            "11/11 [==============================] - 0s 30ms/step - loss: 0.6423\n",
            "Epoch 149/300\n",
            "11/11 [==============================] - 0s 31ms/step - loss: 0.5483\n",
            "Epoch 150/300\n",
            "11/11 [==============================] - 0s 30ms/step - loss: 0.5958\n",
            "Epoch 151/300\n",
            "11/11 [==============================] - 0s 32ms/step - loss: 0.6391\n",
            "Epoch 152/300\n",
            "11/11 [==============================] - 0s 34ms/step - loss: 0.6087\n",
            "Epoch 153/300\n",
            "11/11 [==============================] - 0s 31ms/step - loss: 0.6151\n",
            "Epoch 154/300\n",
            "11/11 [==============================] - 0s 32ms/step - loss: 0.6262\n",
            "Epoch 155/300\n",
            "11/11 [==============================] - 0s 32ms/step - loss: 0.6144\n",
            "Epoch 156/300\n",
            "11/11 [==============================] - 0s 31ms/step - loss: 0.5687\n",
            "Epoch 157/300\n",
            "11/11 [==============================] - 0s 31ms/step - loss: 0.5500\n",
            "Epoch 158/300\n",
            "11/11 [==============================] - 0s 33ms/step - loss: 0.5921\n",
            "Epoch 159/300\n",
            "11/11 [==============================] - 0s 30ms/step - loss: 0.5221\n",
            "Epoch 160/300\n",
            "11/11 [==============================] - 0s 32ms/step - loss: 0.5165\n",
            "Epoch 161/300\n",
            "11/11 [==============================] - 0s 31ms/step - loss: 0.5270\n",
            "Epoch 162/300\n",
            "11/11 [==============================] - 0s 32ms/step - loss: 0.4840\n",
            "Epoch 163/300\n",
            "11/11 [==============================] - 0s 30ms/step - loss: 0.4839\n",
            "Epoch 164/300\n",
            "11/11 [==============================] - 0s 31ms/step - loss: 0.4905\n",
            "Epoch 165/300\n",
            "11/11 [==============================] - 0s 31ms/step - loss: 0.4751\n",
            "Epoch 166/300\n",
            "11/11 [==============================] - 0s 32ms/step - loss: 0.4676\n",
            "Epoch 167/300\n",
            "11/11 [==============================] - 0s 33ms/step - loss: 0.4637\n",
            "Epoch 168/300\n",
            "11/11 [==============================] - 0s 31ms/step - loss: 0.4338\n",
            "Epoch 169/300\n",
            "11/11 [==============================] - 0s 32ms/step - loss: 0.4317\n",
            "Epoch 170/300\n",
            "11/11 [==============================] - 0s 31ms/step - loss: 0.4025\n",
            "Epoch 171/300\n",
            "11/11 [==============================] - 0s 32ms/step - loss: 0.4133\n",
            "Epoch 172/300\n",
            "11/11 [==============================] - 0s 31ms/step - loss: 0.4066\n",
            "Epoch 173/300\n",
            "11/11 [==============================] - 0s 29ms/step - loss: 0.5325\n",
            "Epoch 174/300\n",
            "11/11 [==============================] - 0s 30ms/step - loss: 0.5473\n",
            "Epoch 175/300\n",
            "11/11 [==============================] - 0s 32ms/step - loss: 0.5103\n",
            "Epoch 176/300\n",
            "11/11 [==============================] - 0s 31ms/step - loss: 0.4728\n",
            "Epoch 177/300\n",
            "11/11 [==============================] - 0s 30ms/step - loss: 0.4775\n",
            "Epoch 178/300\n",
            "11/11 [==============================] - 0s 32ms/step - loss: 0.5253\n",
            "Epoch 179/300\n",
            "11/11 [==============================] - 0s 30ms/step - loss: 0.4795\n",
            "Epoch 180/300\n",
            "11/11 [==============================] - 0s 32ms/step - loss: 0.4419\n",
            "Epoch 181/300\n",
            "11/11 [==============================] - 0s 33ms/step - loss: 0.3993\n",
            "Epoch 182/300\n",
            "11/11 [==============================] - 0s 31ms/step - loss: 0.4213\n",
            "Epoch 183/300\n",
            "11/11 [==============================] - 0s 30ms/step - loss: 0.3925\n",
            "Epoch 184/300\n",
            "11/11 [==============================] - 0s 32ms/step - loss: 0.3581\n",
            "Epoch 185/300\n",
            "11/11 [==============================] - 0s 31ms/step - loss: 0.3735\n",
            "Epoch 186/300\n",
            "11/11 [==============================] - 0s 31ms/step - loss: 0.3636\n",
            "Epoch 187/300\n",
            "11/11 [==============================] - 0s 31ms/step - loss: 0.3770\n",
            "Epoch 188/300\n",
            "11/11 [==============================] - 0s 30ms/step - loss: 0.3653\n",
            "Epoch 189/300\n",
            "11/11 [==============================] - 0s 31ms/step - loss: 0.3639\n",
            "Epoch 190/300\n",
            "11/11 [==============================] - 0s 32ms/step - loss: 0.3478\n",
            "Epoch 191/300\n",
            "11/11 [==============================] - 0s 30ms/step - loss: 0.3618\n",
            "Epoch 192/300\n",
            "11/11 [==============================] - 0s 32ms/step - loss: 0.3625\n",
            "Epoch 193/300\n",
            "11/11 [==============================] - 0s 31ms/step - loss: 0.3566\n",
            "Epoch 194/300\n",
            "11/11 [==============================] - 0s 34ms/step - loss: 0.3476\n",
            "Epoch 195/300\n",
            "11/11 [==============================] - 0s 30ms/step - loss: 0.3773\n",
            "Epoch 196/300\n",
            "11/11 [==============================] - 0s 32ms/step - loss: 0.3708\n",
            "Epoch 197/300\n",
            "11/11 [==============================] - 0s 31ms/step - loss: 0.3348\n",
            "Epoch 198/300\n",
            "11/11 [==============================] - 0s 32ms/step - loss: 0.3066\n",
            "Epoch 199/300\n",
            "11/11 [==============================] - 0s 34ms/step - loss: 0.3287\n",
            "Epoch 200/300\n",
            "11/11 [==============================] - 0s 32ms/step - loss: 0.3233\n",
            "Epoch 201/300\n",
            "11/11 [==============================] - 0s 32ms/step - loss: 0.3032\n",
            "Epoch 202/300\n",
            "11/11 [==============================] - 0s 31ms/step - loss: 0.2973\n",
            "Epoch 203/300\n",
            "11/11 [==============================] - 0s 31ms/step - loss: 0.2739\n",
            "Epoch 204/300\n",
            "11/11 [==============================] - 0s 33ms/step - loss: 0.2839\n",
            "Epoch 205/300\n",
            "11/11 [==============================] - 0s 33ms/step - loss: 0.2805\n",
            "Epoch 206/300\n",
            "11/11 [==============================] - 0s 30ms/step - loss: 0.2762\n",
            "Epoch 207/300\n",
            "11/11 [==============================] - 0s 31ms/step - loss: 0.2873\n",
            "Epoch 208/300\n",
            "11/11 [==============================] - 0s 31ms/step - loss: 0.2915\n",
            "Epoch 209/300\n",
            "11/11 [==============================] - 0s 32ms/step - loss: 0.2904\n",
            "Epoch 210/300\n",
            "11/11 [==============================] - 0s 31ms/step - loss: 0.2824\n",
            "Epoch 211/300\n",
            "11/11 [==============================] - 0s 34ms/step - loss: 0.2737\n",
            "Epoch 212/300\n",
            "11/11 [==============================] - 0s 31ms/step - loss: 0.2599\n",
            "Epoch 213/300\n",
            "11/11 [==============================] - 0s 33ms/step - loss: 0.2732\n",
            "Epoch 214/300\n",
            "11/11 [==============================] - 0s 33ms/step - loss: 0.3082\n",
            "Epoch 215/300\n",
            "11/11 [==============================] - 0s 30ms/step - loss: 0.3101\n",
            "Epoch 216/300\n",
            "11/11 [==============================] - 0s 32ms/step - loss: 0.3388\n",
            "Epoch 217/300\n",
            "11/11 [==============================] - 0s 32ms/step - loss: 0.3556\n",
            "Epoch 218/300\n",
            "11/11 [==============================] - 0s 31ms/step - loss: 0.3259\n",
            "Epoch 219/300\n",
            "11/11 [==============================] - 0s 30ms/step - loss: 0.2961\n",
            "Epoch 220/300\n",
            "11/11 [==============================] - 0s 32ms/step - loss: 0.2960\n",
            "Epoch 221/300\n",
            "11/11 [==============================] - 0s 32ms/step - loss: 0.2852\n",
            "Epoch 222/300\n",
            "11/11 [==============================] - 0s 32ms/step - loss: 0.2695\n",
            "Epoch 223/300\n",
            "11/11 [==============================] - 0s 32ms/step - loss: 0.2435\n",
            "Epoch 224/300\n",
            "11/11 [==============================] - 0s 32ms/step - loss: 0.2372\n",
            "Epoch 225/300\n",
            "11/11 [==============================] - 0s 33ms/step - loss: 0.2325\n",
            "Epoch 226/300\n",
            "11/11 [==============================] - 0s 31ms/step - loss: 0.2494\n",
            "Epoch 227/300\n",
            "11/11 [==============================] - 0s 31ms/step - loss: 0.2749\n",
            "Epoch 228/300\n",
            "11/11 [==============================] - 0s 31ms/step - loss: 0.2555\n",
            "Epoch 229/300\n",
            "11/11 [==============================] - 0s 31ms/step - loss: 0.2474\n",
            "Epoch 230/300\n",
            "11/11 [==============================] - 0s 32ms/step - loss: 0.2383\n",
            "Epoch 231/300\n",
            "11/11 [==============================] - 0s 30ms/step - loss: 0.2266\n",
            "Epoch 232/300\n",
            "11/11 [==============================] - 0s 31ms/step - loss: 0.2081\n",
            "Epoch 233/300\n",
            "11/11 [==============================] - 0s 32ms/step - loss: 0.2159\n",
            "Epoch 234/300\n",
            "11/11 [==============================] - 0s 31ms/step - loss: 0.2530\n",
            "Epoch 235/300\n",
            "11/11 [==============================] - 0s 32ms/step - loss: 0.2567\n",
            "Epoch 236/300\n",
            "11/11 [==============================] - 0s 32ms/step - loss: 0.2363\n",
            "Epoch 237/300\n",
            "11/11 [==============================] - 0s 31ms/step - loss: 0.2254\n",
            "Epoch 238/300\n",
            "11/11 [==============================] - 0s 32ms/step - loss: 0.1964\n",
            "Epoch 239/300\n",
            "11/11 [==============================] - 0s 31ms/step - loss: 0.1834\n",
            "Epoch 240/300\n",
            "11/11 [==============================] - 0s 30ms/step - loss: 0.1787\n",
            "Epoch 241/300\n",
            "11/11 [==============================] - 0s 30ms/step - loss: 0.1840\n",
            "Epoch 242/300\n",
            "11/11 [==============================] - 0s 33ms/step - loss: 0.1667\n",
            "Epoch 243/300\n",
            "11/11 [==============================] - 0s 31ms/step - loss: 0.1768\n",
            "Epoch 244/300\n",
            "11/11 [==============================] - 0s 31ms/step - loss: 0.1696\n",
            "Epoch 245/300\n",
            "11/11 [==============================] - 0s 32ms/step - loss: 0.2056\n",
            "Epoch 246/300\n",
            "11/11 [==============================] - 0s 30ms/step - loss: 0.2014\n",
            "Epoch 247/300\n",
            "11/11 [==============================] - 0s 32ms/step - loss: 0.1880\n",
            "Epoch 248/300\n",
            "11/11 [==============================] - 0s 32ms/step - loss: 0.1784\n",
            "Epoch 249/300\n",
            "11/11 [==============================] - 0s 31ms/step - loss: 0.1526\n",
            "Epoch 250/300\n",
            "11/11 [==============================] - 0s 34ms/step - loss: 0.1556\n",
            "Epoch 251/300\n",
            "11/11 [==============================] - 0s 34ms/step - loss: 0.1541\n",
            "Epoch 252/300\n",
            "11/11 [==============================] - 0s 30ms/step - loss: 0.1563\n",
            "Epoch 253/300\n",
            "11/11 [==============================] - 0s 31ms/step - loss: 0.1364\n",
            "Epoch 254/300\n",
            "11/11 [==============================] - 0s 31ms/step - loss: 0.1437\n",
            "Epoch 255/300\n",
            "11/11 [==============================] - 0s 31ms/step - loss: 0.1310\n",
            "Epoch 256/300\n",
            "11/11 [==============================] - 0s 32ms/step - loss: 0.1259\n",
            "Epoch 257/300\n",
            "11/11 [==============================] - 0s 37ms/step - loss: 0.1442\n",
            "Epoch 258/300\n",
            "11/11 [==============================] - 0s 31ms/step - loss: 0.1673\n",
            "Epoch 259/300\n",
            "11/11 [==============================] - 0s 31ms/step - loss: 0.1294\n",
            "Epoch 260/300\n",
            "11/11 [==============================] - 0s 30ms/step - loss: 0.1468\n",
            "Epoch 261/300\n",
            "11/11 [==============================] - 0s 30ms/step - loss: 0.1389\n",
            "Epoch 262/300\n",
            "11/11 [==============================] - 0s 30ms/step - loss: 0.1987\n",
            "Epoch 263/300\n",
            "11/11 [==============================] - 0s 32ms/step - loss: 0.1984\n",
            "Epoch 264/300\n",
            "11/11 [==============================] - 0s 31ms/step - loss: 0.2104\n",
            "Epoch 265/300\n",
            "11/11 [==============================] - 0s 31ms/step - loss: 0.1950\n",
            "Epoch 266/300\n",
            "11/11 [==============================] - 0s 30ms/step - loss: 0.2055\n",
            "Epoch 267/300\n",
            "11/11 [==============================] - 0s 31ms/step - loss: 0.1831\n",
            "Epoch 268/300\n",
            "11/11 [==============================] - 0s 31ms/step - loss: 0.1688\n",
            "Epoch 269/300\n",
            "11/11 [==============================] - 0s 32ms/step - loss: 0.1309\n",
            "Epoch 270/300\n",
            "11/11 [==============================] - 0s 34ms/step - loss: 0.1350\n",
            "Epoch 271/300\n",
            "11/11 [==============================] - 0s 30ms/step - loss: 0.1209\n",
            "Epoch 272/300\n",
            "11/11 [==============================] - 0s 31ms/step - loss: 0.1125\n",
            "Epoch 273/300\n",
            "11/11 [==============================] - 0s 31ms/step - loss: 0.1065\n",
            "Epoch 274/300\n",
            "11/11 [==============================] - 0s 31ms/step - loss: 0.1132\n",
            "Epoch 275/300\n",
            "11/11 [==============================] - 0s 31ms/step - loss: 0.1085\n",
            "Epoch 276/300\n",
            "11/11 [==============================] - 0s 35ms/step - loss: 0.1163\n",
            "Epoch 277/300\n",
            "11/11 [==============================] - 0s 30ms/step - loss: 0.1248\n",
            "Epoch 278/300\n",
            "11/11 [==============================] - 0s 30ms/step - loss: 0.1388\n",
            "Epoch 279/300\n",
            "11/11 [==============================] - 0s 31ms/step - loss: 0.1575\n",
            "Epoch 280/300\n",
            "11/11 [==============================] - 0s 30ms/step - loss: 0.1522\n",
            "Epoch 281/300\n",
            "11/11 [==============================] - 0s 31ms/step - loss: 0.1452\n",
            "Epoch 282/300\n",
            "11/11 [==============================] - 0s 32ms/step - loss: 0.1555\n",
            "Epoch 283/300\n",
            "11/11 [==============================] - 0s 32ms/step - loss: 0.1408\n",
            "Epoch 284/300\n",
            "11/11 [==============================] - 0s 32ms/step - loss: 0.1427\n",
            "Epoch 285/300\n",
            "11/11 [==============================] - 0s 32ms/step - loss: 0.1129\n",
            "Epoch 286/300\n",
            "11/11 [==============================] - 0s 31ms/step - loss: 0.1051\n",
            "Epoch 287/300\n",
            "11/11 [==============================] - 0s 34ms/step - loss: 0.0976\n",
            "Epoch 288/300\n",
            "11/11 [==============================] - 0s 31ms/step - loss: 0.0909\n",
            "Epoch 289/300\n",
            "11/11 [==============================] - 0s 29ms/step - loss: 0.0892\n",
            "Epoch 290/300\n",
            "11/11 [==============================] - 0s 31ms/step - loss: 0.0865\n",
            "Epoch 291/300\n",
            "11/11 [==============================] - 0s 31ms/step - loss: 0.0830\n",
            "Epoch 292/300\n",
            "11/11 [==============================] - 0s 30ms/step - loss: 0.0772\n",
            "Epoch 293/300\n",
            "11/11 [==============================] - 0s 31ms/step - loss: 0.0790\n",
            "Epoch 294/300\n",
            "11/11 [==============================] - 0s 32ms/step - loss: 0.0867\n",
            "Epoch 295/300\n",
            "11/11 [==============================] - 0s 31ms/step - loss: 0.0919\n",
            "Epoch 296/300\n",
            "11/11 [==============================] - 0s 32ms/step - loss: 0.0815\n",
            "Epoch 297/300\n",
            "11/11 [==============================] - 0s 32ms/step - loss: 0.0831\n",
            "Epoch 298/300\n",
            "11/11 [==============================] - 0s 31ms/step - loss: 0.0792\n",
            "Epoch 299/300\n",
            "11/11 [==============================] - 0s 32ms/step - loss: 0.0913\n",
            "Epoch 300/300\n",
            "11/11 [==============================] - 0s 31ms/step - loss: 0.0821\n"
          ]
        },
        {
          "output_type": "execute_result",
          "data": {
            "text/plain": [
              "<keras.callbacks.History at 0x7f1c0b14c090>"
            ]
          },
          "metadata": {},
          "execution_count": 38
        }
      ]
    },
    {
      "cell_type": "code",
      "metadata": {
        "id": "Mxt9f1REAa2F"
      },
      "source": [
        "input = pc1[-31:]\n",
        "x_input = input\n",
        "temp_input=list(x_input)\n",
        "lst_output=[]\n",
        "i=0\n",
        "while(i<367):\n",
        "    \n",
        "    if(len(temp_input)>3):\n",
        "        x_input=np.array(temp_input[1:])\n",
        "        #print(\"{} day input {}\".format(i,x_input))\n",
        "        #print(x_input)\n",
        "        x_input = x_input.reshape((1, n_steps, n_features))\n",
        "        #print(x_input)\n",
        "        yhat = model.predict(x_input, verbose=0)\n",
        "        #print(\"{} day output {}\".format(i,yhat))\n",
        "        temp_input.append(yhat[0][0])\n",
        "        temp_input=temp_input[1:]\n",
        "        #print(temp_input)\n",
        "        lst_output.append(yhat[0][0])\n",
        "        i=i+1\n",
        "    else:\n",
        "        x_input = x_input.reshape((1, n_steps, n_features))\n",
        "        yhat = model.predict(x_input, verbose=0)\n",
        "        print(yhat[0])\n",
        "        temp_input.append(yhat[0][0])\n",
        "        lst_output.append(yhat[0][0])\n",
        "        i=i+1"
      ],
      "execution_count": 39,
      "outputs": []
    },
    {
      "cell_type": "code",
      "metadata": {
        "colab": {
          "base_uri": "https://localhost:8080/",
          "height": 483
        },
        "id": "V0n3-gLpB_HY",
        "outputId": "b9532b32-fd31-4dbd-9f78-9a61264e677d"
      },
      "source": [
        "day_new=np.arange(1,368)\n",
        "day_pred=np.arange(367,734)\n",
        "\n",
        "plt.figure(figsize=(15,8))\n",
        "plt.plot(day_new,pc1)\n",
        "plt.plot(day_pred,lst_output)\n",
        "plt.ticklabel_format(style = 'plain')"
      ],
      "execution_count": 40,
      "outputs": [
        {
          "output_type": "display_data",
          "data": {
            "image/png": "[encoded data removed]",
            "text/plain": [
              "<Figure size 1080x576 with 1 Axes>"
            ]
          },
          "metadata": {
            "needs_background": "light"
          }
        }
      ]
    },
    {
      "cell_type": "code",
      "metadata": {
        "colab": {
          "base_uri": "https://localhost:8080/"
        },
        "id": "JSwJ2JhiCEiz",
        "outputId": "bb8549d5-220c-473e-942c-9653f8278d81"
      },
      "source": [
        "min(lst_output)"
      ],
      "execution_count": 41,
      "outputs": [
        {
          "output_type": "execute_result",
          "data": {
            "text/plain": [
              "-1.82518"
            ]
          },
          "metadata": {},
          "execution_count": 41
        }
      ]
    },
    {
      "cell_type": "code",
      "metadata": {
        "colab": {
          "base_uri": "https://localhost:8080/"
        },
        "id": "qPyI8NXmFIIj",
        "outputId": "67c20252-326c-4159-97ea-ca578f4a5672"
      },
      "source": [
        "max(lst_output)"
      ],
      "execution_count": 42,
      "outputs": [
        {
          "output_type": "execute_result",
          "data": {
            "text/plain": [
              "2.3168516"
            ]
          },
          "metadata": {},
          "execution_count": 42
        }
      ]
    },
    {
      "cell_type": "code",
      "metadata": {
        "colab": {
          "base_uri": "https://localhost:8080/",
          "height": 206
        },
        "id": "0Zvke_6BFKM3",
        "outputId": "945e049a-1bb3-482c-e50b-a1925cb11a6d"
      },
      "source": [
        "pred = pd.DataFrame(lst_output)\n",
        "pred.columns = ['Prediction']\n",
        "pred.head()"
      ],
      "execution_count": 43,
      "outputs": [
        {
          "output_type": "execute_result",
          "data": {
            "text/html": [
              "<div>\n",
              "<style scoped>\n",
              "    .dataframe tbody tr th:only-of-type {\n",
              "        vertical-align: middle;\n",
              "    }\n",
              "\n",
              "    .dataframe tbody tr th {\n",
              "        vertical-align: top;\n",
              "    }\n",
              "\n",
              "    .dataframe thead th {\n",
              "        text-align: right;\n",
              "    }\n",
              "</style>\n",
              "<table border=\"1\" class=\"dataframe\">\n",
              "  <thead>\n",
              "    <tr style=\"text-align: right;\">\n",
              "      <th></th>\n",
              "      <th>Prediction</th>\n",
              "    </tr>\n",
              "  </thead>\n",
              "  <tbody>\n",
              "    <tr>\n",
              "      <th>0</th>\n",
              "      <td>-1.825180</td>\n",
              "    </tr>\n",
              "    <tr>\n",
              "      <th>1</th>\n",
              "      <td>-0.484790</td>\n",
              "    </tr>\n",
              "    <tr>\n",
              "      <th>2</th>\n",
              "      <td>2.316852</td>\n",
              "    </tr>\n",
              "    <tr>\n",
              "      <th>3</th>\n",
              "      <td>-0.531732</td>\n",
              "    </tr>\n",
              "    <tr>\n",
              "      <th>4</th>\n",
              "      <td>0.866776</td>\n",
              "    </tr>\n",
              "  </tbody>\n",
              "</table>\n",
              "</div>"
            ],
            "text/plain": [
              "   Prediction\n",
              "0   -1.825180\n",
              "1   -0.484790\n",
              "2    2.316852\n",
              "3   -0.531732\n",
              "4    0.866776"
            ]
          },
          "metadata": {},
          "execution_count": 43
        }
      ]
    },
    {
      "cell_type": "code",
      "metadata": {
        "colab": {
          "base_uri": "https://localhost:8080/",
          "height": 237
        },
        "id": "bOC3frNWdwQL",
        "outputId": "2b82e5cf-2241-48ae-a927-6ca7bb878458"
      },
      "source": [
        "cldf = pd.read_excel('Clustered.xlsx')\n",
        "cldf = cldf.set_index('Obs')\n",
        "cldf.head()"
      ],
      "execution_count": 44,
      "outputs": [
        {
          "output_type": "execute_result",
          "data": {
            "text/html": [
              "<div>\n",
              "<style scoped>\n",
              "    .dataframe tbody tr th:only-of-type {\n",
              "        vertical-align: middle;\n",
              "    }\n",
              "\n",
              "    .dataframe tbody tr th {\n",
              "        vertical-align: top;\n",
              "    }\n",
              "\n",
              "    .dataframe thead th {\n",
              "        text-align: right;\n",
              "    }\n",
              "</style>\n",
              "<table border=\"1\" class=\"dataframe\">\n",
              "  <thead>\n",
              "    <tr style=\"text-align: right;\">\n",
              "      <th></th>\n",
              "      <th>Number of Defect</th>\n",
              "      <th>Std. Dev Processing</th>\n",
              "      <th>%Completion</th>\n",
              "      <th>Perfectly Cut</th>\n",
              "      <th>Defect Type</th>\n",
              "      <th>Cluster</th>\n",
              "    </tr>\n",
              "    <tr>\n",
              "      <th>Obs</th>\n",
              "      <th></th>\n",
              "      <th></th>\n",
              "      <th></th>\n",
              "      <th></th>\n",
              "      <th></th>\n",
              "      <th></th>\n",
              "    </tr>\n",
              "  </thead>\n",
              "  <tbody>\n",
              "    <tr>\n",
              "      <th>1</th>\n",
              "      <td>3</td>\n",
              "      <td>2.645751</td>\n",
              "      <td>108</td>\n",
              "      <td>0</td>\n",
              "      <td>1</td>\n",
              "      <td>1</td>\n",
              "    </tr>\n",
              "    <tr>\n",
              "      <th>2</th>\n",
              "      <td>5</td>\n",
              "      <td>1.414214</td>\n",
              "      <td>99</td>\n",
              "      <td>0</td>\n",
              "      <td>1</td>\n",
              "      <td>1</td>\n",
              "    </tr>\n",
              "    <tr>\n",
              "      <th>3</th>\n",
              "      <td>3</td>\n",
              "      <td>1.527525</td>\n",
              "      <td>109</td>\n",
              "      <td>0</td>\n",
              "      <td>1</td>\n",
              "      <td>1</td>\n",
              "    </tr>\n",
              "    <tr>\n",
              "      <th>4</th>\n",
              "      <td>3</td>\n",
              "      <td>1.732051</td>\n",
              "      <td>101</td>\n",
              "      <td>0</td>\n",
              "      <td>1</td>\n",
              "      <td>1</td>\n",
              "    </tr>\n",
              "    <tr>\n",
              "      <th>5</th>\n",
              "      <td>9</td>\n",
              "      <td>3.055050</td>\n",
              "      <td>75</td>\n",
              "      <td>1</td>\n",
              "      <td>1</td>\n",
              "      <td>0</td>\n",
              "    </tr>\n",
              "  </tbody>\n",
              "</table>\n",
              "</div>"
            ],
            "text/plain": [
              "     Number of Defect  Std. Dev Processing  ...  Defect Type  Cluster\n",
              "Obs                                         ...                      \n",
              "1                   3             2.645751  ...            1        1\n",
              "2                   5             1.414214  ...            1        1\n",
              "3                   3             1.527525  ...            1        1\n",
              "4                   3             1.732051  ...            1        1\n",
              "5                   9             3.055050  ...            1        0\n",
              "\n",
              "[5 rows x 6 columns]"
            ]
          },
          "metadata": {},
          "execution_count": 44
        }
      ]
    },
    {
      "cell_type": "code",
      "metadata": {
        "id": "L1BMaNpedzuv"
      },
      "source": [
        "X = cldf.drop('Cluster', axis=1)\n",
        "Y = cldf['Cluster']"
      ],
      "execution_count": 45,
      "outputs": []
    },
    {
      "cell_type": "code",
      "metadata": {
        "id": "T7H26xxveODQ"
      },
      "source": [
        "encoder = LabelEncoder()\n",
        "encoder.fit(Y)\n",
        "encoded_Y = encoder.transform(Y)\n",
        "dummy_y = np_utils.to_categorical(encoded_Y)"
      ],
      "execution_count": 46,
      "outputs": []
    },
    {
      "cell_type": "code",
      "metadata": {
        "id": "PmDJXEABeeku"
      },
      "source": [
        "def baseline_model():\n",
        "\tmodel = Sequential()\n",
        "\tmodel.add(Dense(500, input_dim=5, activation='relu'))\n",
        "\tmodel.add(Dense(100, activation='relu'))\n",
        "\tmodel.add(Dense(50, activation='relu'))\n",
        "\tmodel.add(Dense(3, activation='softmax'))\n",
        "\tmodel.compile(loss='categorical_crossentropy', optimizer='adam', metrics=['accuracy'])\n",
        "\treturn model"
      ],
      "execution_count": 47,
      "outputs": []
    },
    {
      "cell_type": "code",
      "metadata": {
        "id": "MVresQqLewPK"
      },
      "source": [
        "estimator = KerasClassifier(build_fn=baseline_model, epochs=200, batch_size=4, verbose=0)\n",
        "kfold = KFold(n_splits=10, shuffle=True)"
      ],
      "execution_count": 48,
      "outputs": []
    },
    {
      "cell_type": "code",
      "metadata": {
        "colab": {
          "base_uri": "https://localhost:8080/"
        },
        "id": "5twa4Iaze09V",
        "outputId": "b80fa172-c15b-401a-8e02-ed806a9e3e00"
      },
      "source": [
        "results_keras = cross_val_score(estimator, X, dummy_y, cv=kfold)\n",
        "print(\"Baseline: %.2f%% (%.2f%%)\" % (results_keras.mean()*100, results_keras.std()*100))"
      ],
      "execution_count": 49,
      "outputs": [
        {
          "output_type": "stream",
          "name": "stdout",
          "text": [
            "Baseline: 97.26% (2.76%)\n"
          ]
        }
      ]
    },
    {
      "cell_type": "code",
      "metadata": {
        "colab": {
          "base_uri": "https://localhost:8080/"
        },
        "id": "dbgVuNgpcU_x",
        "outputId": "f8f75fa1-3081-4b51-ae8f-1f18b20b1355"
      },
      "source": [
        "X_train, X_test, y_train, y_test = train_test_split(X, Y, test_size=0.30, random_state=40)\n",
        "print(X_train.shape) \n",
        "print(X_test.shape)"
      ],
      "execution_count": 50,
      "outputs": [
        {
          "output_type": "stream",
          "name": "stdout",
          "text": [
            "(256, 5)\n",
            "(111, 5)\n"
          ]
        }
      ]
    },
    {
      "cell_type": "code",
      "metadata": {
        "colab": {
          "base_uri": "https://localhost:8080/"
        },
        "id": "PY3FRnoleDDg",
        "outputId": "e4b9e1f5-e3c0-4d2a-ad02-acbb9a563656"
      },
      "source": [
        "estimator.fit(X_train, y_train)"
      ],
      "execution_count": 51,
      "outputs": [
        {
          "output_type": "execute_result",
          "data": {
            "text/plain": [
              "<keras.callbacks.History at 0x7f1bf7245250>"
            ]
          },
          "metadata": {},
          "execution_count": 51
        }
      ]
    },
    {
      "cell_type": "code",
      "metadata": {
        "colab": {
          "base_uri": "https://localhost:8080/"
        },
        "id": "I86kL6VQeJU4",
        "outputId": "b103cbdb-3758-4c2a-d57f-33a845cf36bb"
      },
      "source": [
        "pred_train= estimator.predict(X)\n",
        "scores = estimator.score(X, Y, verbose=0)\n",
        "print(scores)"
      ],
      "execution_count": 52,
      "outputs": [
        {
          "output_type": "stream",
          "name": "stdout",
          "text": [
            "0.9591280817985535\n"
          ]
        }
      ]
    },
    {
      "cell_type": "code",
      "metadata": {
        "colab": {
          "base_uri": "https://localhost:8080/"
        },
        "id": "0sN3iABMrOJG",
        "outputId": "3b7b66f0-7fad-4c4f-d88d-18f9de04d618"
      },
      "source": [
        "model = LogisticRegression(multi_class='ovr')\n",
        "model.fit(X_train, y_train)"
      ],
      "execution_count": 53,
      "outputs": [
        {
          "output_type": "execute_result",
          "data": {
            "text/plain": [
              "LogisticRegression(C=1.0, class_weight=None, dual=False, fit_intercept=True,\n",
              "                   intercept_scaling=1, l1_ratio=None, max_iter=100,\n",
              "                   multi_class='ovr', n_jobs=None, penalty='l2',\n",
              "                   random_state=None, solver='lbfgs', tol=0.0001, verbose=0,\n",
              "                   warm_start=False)"
            ]
          },
          "metadata": {},
          "execution_count": 53
        }
      ]
    },
    {
      "cell_type": "code",
      "metadata": {
        "colab": {
          "base_uri": "https://localhost:8080/"
        },
        "id": "NT0rlMurxVS9",
        "outputId": "50433c37-8185-4e76-baa5-9da2c5d49a42"
      },
      "source": [
        "model.score(X_test, y_test)"
      ],
      "execution_count": 54,
      "outputs": [
        {
          "output_type": "execute_result",
          "data": {
            "text/plain": [
              "0.972972972972973"
            ]
          },
          "metadata": {},
          "execution_count": 54
        }
      ]
    },
    {
      "cell_type": "code",
      "metadata": {
        "colab": {
          "base_uri": "https://localhost:8080/"
        },
        "id": "uFcRkxEkrVx8",
        "outputId": "72f44911-afa1-44ac-f193-803d4f7e5b4e"
      },
      "source": [
        "results_LogReg = cross_val_score(model, X, Y, cv=kfold)\n",
        "print(\"Baseline: %.2f%% (%.2f%%)\" % (results_LogReg.mean()*100, results_LogReg.std()*100))"
      ],
      "execution_count": 55,
      "outputs": [
        {
          "output_type": "stream",
          "name": "stdout",
          "text": [
            "Baseline: 98.09% (1.74%)\n"
          ]
        }
      ]
    },
    {
      "cell_type": "code",
      "metadata": {
        "colab": {
          "base_uri": "https://localhost:8080/"
        },
        "id": "6rr3EyRHrezm",
        "outputId": "24762c8c-430a-48ca-aab8-d958e927e350"
      },
      "source": [
        "clf = GradientBoostingClassifier()\n",
        "clf.fit(X_train, y_train)"
      ],
      "execution_count": 56,
      "outputs": [
        {
          "output_type": "execute_result",
          "data": {
            "text/plain": [
              "GradientBoostingClassifier(ccp_alpha=0.0, criterion='friedman_mse', init=None,\n",
              "                           learning_rate=0.1, loss='deviance', max_depth=3,\n",
              "                           max_features=None, max_leaf_nodes=None,\n",
              "                           min_impurity_decrease=0.0, min_impurity_split=None,\n",
              "                           min_samples_leaf=1, min_samples_split=2,\n",
              "                           min_weight_fraction_leaf=0.0, n_estimators=100,\n",
              "                           n_iter_no_change=None, presort='deprecated',\n",
              "                           random_state=None, subsample=1.0, tol=0.0001,\n",
              "                           validation_fraction=0.1, verbose=0,\n",
              "                           warm_start=False)"
            ]
          },
          "metadata": {},
          "execution_count": 56
        }
      ]
    },
    {
      "cell_type": "code",
      "metadata": {
        "colab": {
          "base_uri": "https://localhost:8080/"
        },
        "id": "bg7FPEYitW88",
        "outputId": "0483fb06-98a1-4fb5-b3ad-663b619a20ef"
      },
      "source": [
        "results_GB = cross_val_score(clf, X, Y, cv=kfold)\n",
        "print(\"Baseline: %.2f%% (%.2f%%)\" % (results_GB.mean()*100, results_GB.std()*100))"
      ],
      "execution_count": 57,
      "outputs": [
        {
          "output_type": "stream",
          "name": "stdout",
          "text": [
            "Baseline: 97.55% (1.90%)\n"
          ]
        }
      ]
    },
    {
      "cell_type": "code",
      "metadata": {
        "colab": {
          "base_uri": "https://localhost:8080/"
        },
        "id": "8vtGUee8j-VR",
        "outputId": "8c9656f6-9c7f-452f-e79f-ef70eb19443b"
      },
      "source": [
        "clf.score(X_test, y_test)"
      ],
      "execution_count": 58,
      "outputs": [
        {
          "output_type": "execute_result",
          "data": {
            "text/plain": [
              "0.963963963963964"
            ]
          },
          "metadata": {},
          "execution_count": 58
        }
      ]
    },
    {
      "cell_type": "code",
      "metadata": {
        "colab": {
          "base_uri": "https://localhost:8080/"
        },
        "id": "grOSUjiMtcVy",
        "outputId": "e5303035-f355-4c45-83be-dde09e216f70"
      },
      "source": [
        "per = Perceptron()\n",
        "per.fit(X_train, y_train)"
      ],
      "execution_count": 59,
      "outputs": [
        {
          "output_type": "execute_result",
          "data": {
            "text/plain": [
              "Perceptron(alpha=0.0001, class_weight=None, early_stopping=False, eta0=1.0,\n",
              "           fit_intercept=True, max_iter=1000, n_iter_no_change=5, n_jobs=None,\n",
              "           penalty=None, random_state=0, shuffle=True, tol=0.001,\n",
              "           validation_fraction=0.1, verbose=0, warm_start=False)"
            ]
          },
          "metadata": {},
          "execution_count": 59
        }
      ]
    },
    {
      "cell_type": "code",
      "metadata": {
        "colab": {
          "base_uri": "https://localhost:8080/"
        },
        "id": "QMUzPrlEw5Jg",
        "outputId": "80837a09-2997-4186-fb48-e69339b56e90"
      },
      "source": [
        "results_per = cross_val_score(per, X, Y, cv=kfold)\n",
        "print(\"Baseline: %.2f%% (%.2f%%)\" % (results_per.mean()*100, results_per.std()*100))"
      ],
      "execution_count": 60,
      "outputs": [
        {
          "output_type": "stream",
          "name": "stdout",
          "text": [
            "Baseline: 77.72% (19.04%)\n"
          ]
        }
      ]
    },
    {
      "cell_type": "code",
      "metadata": {
        "colab": {
          "base_uri": "https://localhost:8080/"
        },
        "id": "kOrNhzQWw9mV",
        "outputId": "7103f000-a7f5-46d3-f1dc-daf5ea27a4b2"
      },
      "source": [
        "per.score(X_test, y_test)"
      ],
      "execution_count": 61,
      "outputs": [
        {
          "output_type": "execute_result",
          "data": {
            "text/plain": [
              "0.7207207207207207"
            ]
          },
          "metadata": {},
          "execution_count": 61
        }
      ]
    },
    {
      "cell_type": "code",
      "metadata": {
        "id": "BP8oF5mvkL1G"
      },
      "source": [
        "y_est = estimator.predict(X)\n",
        "y_log = model.predict(X_test)\n",
        "y_clf = clf.predict(X_test)\n",
        "y_per = per.predict(X_test)"
      ],
      "execution_count": 62,
      "outputs": []
    },
    {
      "cell_type": "code",
      "metadata": {
        "id": "hkyUI_jsk-iB"
      },
      "source": [
        "def accuracy(y_true, y_pred):\n",
        "    # Intitializing variable to store count of correctly predicted classes\n",
        "    correct_predictions = 0\n",
        "    \n",
        "    for yt, yp in zip(y_true, y_pred):\n",
        "        \n",
        "        if yt == yp:\n",
        "            \n",
        "            correct_predictions += 1\n",
        "    \n",
        "    #returns accuracy\n",
        "    return correct_predictions / len(y_true)"
      ],
      "execution_count": 63,
      "outputs": []
    },
    {
      "cell_type": "code",
      "metadata": {
        "colab": {
          "base_uri": "https://localhost:8080/"
        },
        "id": "hp6ChHh9l9GB",
        "outputId": "8830799c-e3b7-4026-ad48-00d89e148998"
      },
      "source": [
        "print(accuracy(Y, y_est))\n",
        "print(accuracy(y_test, y_log))\n",
        "print(accuracy(y_test, y_clf))\n",
        "print(accuracy(y_test, y_per))"
      ],
      "execution_count": 64,
      "outputs": [
        {
          "output_type": "stream",
          "name": "stdout",
          "text": [
            "0.9591280653950953\n",
            "0.972972972972973\n",
            "0.963963963963964\n",
            "0.7207207207207207\n"
          ]
        }
      ]
    }
  ]
}