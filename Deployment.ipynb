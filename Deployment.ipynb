{
  "nbformat": 4,
  "nbformat_minor": 0,
  "metadata": {
    "colab": {
      "name": "Deployment.ipynb",
      "provenance": [],
      "authorship_tag": "ABX9TyOtpdl0EiDa73M4qjn82OjR",
      "include_colab_link": true
    },
    "kernelspec": {
      "name": "python3",
      "display_name": "Python 3"
    },
    "language_info": {
      "name": "python"
    }
  },
  "cells": [
    {
      "cell_type": "markdown",
      "metadata": {
        "id": "view-in-github",
        "colab_type": "text"
      },
      "source": [
        "<a href=\"https://colab.research.google.com/github/DanielAdif/Machine-Performance-Evaluation/blob/main/Deployment.ipynb\" target=\"_parent\"><img src=\"https://colab.research.google.com/assets/colab-badge.svg\" alt=\"Open In Colab\"/></a>"
      ]
    },
    {
      "cell_type": "code",
      "metadata": {
        "id": "u7Jx6RRJFUoB"
      },
      "source": [
        "#Important Library\n",
        "import pandas as pd\n",
        "import numpy as np\n",
        "import matplotlib.pyplot as plt\n",
        "import seaborn as sns\n",
        "import plotly.express as px\n",
        "pd. set_option('display.max_rows', 500)\n",
        "\n",
        "#Sci-kit Learn Library\n",
        "from sklearn import preprocessing\n",
        "from sklearn.model_selection import cross_val_score\n",
        "from sklearn.model_selection import KFold\n",
        "from sklearn.preprocessing import LabelEncoder\n",
        "from sklearn.pipeline import Pipeline\n",
        "from sklearn.cluster import KMeans\n",
        "from sklearn.feature_selection import mutual_info_classif\n",
        "from sklearn.decomposition import PCA\n",
        "from sklearn.model_selection import train_test_split\n",
        "from sklearn.metrics import mean_squared_error\n",
        "from math import sqrt\n",
        "from sklearn.linear_model import LogisticRegression\n",
        "from sklearn.ensemble import GradientBoostingClassifier\n",
        "from sklearn.linear_model import Perceptron\n",
        "\n",
        "#Deep Learning Library\n",
        "from tensorflow.keras.models import Sequential\n",
        "from tensorflow.keras.layers import LSTM\n",
        "from tensorflow.keras.layers import Dense\n",
        "from tensorflow.keras.layers import Flatten\n",
        "from keras.wrappers.scikit_learn import KerasClassifier\n",
        "from keras.utils import np_utils\n",
        "from keras.layers import Dropout"
      ],
      "execution_count": null,
      "outputs": []
    },
    {
      "cell_type": "code",
      "metadata": {
        "colab": {
          "base_uri": "https://localhost:8080/",
          "height": 237
        },
        "id": "NqVJjcamFglo",
        "outputId": "1fde1d9b-4d76-491a-a703-dd3648c4307f"
      },
      "source": [
        "df = pd.read_excel('Clustered.xlsx')\n",
        "df = df.set_index('Obs')\n",
        "df.head()"
      ],
      "execution_count": null,
      "outputs": [
        {
          "output_type": "execute_result",
          "data": {
            "text/html": [
              "<div>\n",
              "<style scoped>\n",
              "    .dataframe tbody tr th:only-of-type {\n",
              "        vertical-align: middle;\n",
              "    }\n",
              "\n",
              "    .dataframe tbody tr th {\n",
              "        vertical-align: top;\n",
              "    }\n",
              "\n",
              "    .dataframe thead th {\n",
              "        text-align: right;\n",
              "    }\n",
              "</style>\n",
              "<table border=\"1\" class=\"dataframe\">\n",
              "  <thead>\n",
              "    <tr style=\"text-align: right;\">\n",
              "      <th></th>\n",
              "      <th>Number of Defect</th>\n",
              "      <th>Std. Dev Processing</th>\n",
              "      <th>%Completion</th>\n",
              "      <th>Perfectly Cut</th>\n",
              "      <th>Defect Type</th>\n",
              "      <th>Cluster</th>\n",
              "    </tr>\n",
              "    <tr>\n",
              "      <th>Obs</th>\n",
              "      <th></th>\n",
              "      <th></th>\n",
              "      <th></th>\n",
              "      <th></th>\n",
              "      <th></th>\n",
              "      <th></th>\n",
              "    </tr>\n",
              "  </thead>\n",
              "  <tbody>\n",
              "    <tr>\n",
              "      <th>1</th>\n",
              "      <td>3</td>\n",
              "      <td>2.645751</td>\n",
              "      <td>108</td>\n",
              "      <td>0</td>\n",
              "      <td>1</td>\n",
              "      <td>1</td>\n",
              "    </tr>\n",
              "    <tr>\n",
              "      <th>2</th>\n",
              "      <td>5</td>\n",
              "      <td>1.414214</td>\n",
              "      <td>99</td>\n",
              "      <td>0</td>\n",
              "      <td>1</td>\n",
              "      <td>1</td>\n",
              "    </tr>\n",
              "    <tr>\n",
              "      <th>3</th>\n",
              "      <td>3</td>\n",
              "      <td>1.527525</td>\n",
              "      <td>109</td>\n",
              "      <td>0</td>\n",
              "      <td>1</td>\n",
              "      <td>1</td>\n",
              "    </tr>\n",
              "    <tr>\n",
              "      <th>4</th>\n",
              "      <td>3</td>\n",
              "      <td>1.732051</td>\n",
              "      <td>101</td>\n",
              "      <td>0</td>\n",
              "      <td>1</td>\n",
              "      <td>1</td>\n",
              "    </tr>\n",
              "    <tr>\n",
              "      <th>5</th>\n",
              "      <td>9</td>\n",
              "      <td>3.055050</td>\n",
              "      <td>75</td>\n",
              "      <td>1</td>\n",
              "      <td>1</td>\n",
              "      <td>2</td>\n",
              "    </tr>\n",
              "  </tbody>\n",
              "</table>\n",
              "</div>"
            ],
            "text/plain": [
              "     Number of Defect  Std. Dev Processing  ...  Defect Type  Cluster\n",
              "Obs                                         ...                      \n",
              "1                   3             2.645751  ...            1        1\n",
              "2                   5             1.414214  ...            1        1\n",
              "3                   3             1.527525  ...            1        1\n",
              "4                   3             1.732051  ...            1        1\n",
              "5                   9             3.055050  ...            1        2\n",
              "\n",
              "[5 rows x 6 columns]"
            ]
          },
          "metadata": {},
          "execution_count": 2
        }
      ]
    },
    {
      "cell_type": "code",
      "metadata": {
        "id": "rFDKAKHdGNYe"
      },
      "source": [
        "X = df.drop('Cluster', axis = 1)\n",
        "y = df['Cluster']"
      ],
      "execution_count": null,
      "outputs": []
    },
    {
      "cell_type": "code",
      "metadata": {
        "id": "-D3yVl1gHQ2J"
      },
      "source": [
        "encoder = LabelEncoder()\n",
        "encoder.fit(y)\n",
        "encoded_Y = encoder.transform(y)\n",
        "dummy_y = np_utils.to_categorical(encoded_Y)"
      ],
      "execution_count": null,
      "outputs": []
    },
    {
      "cell_type": "code",
      "metadata": {
        "id": "HinkFqo_LDpB"
      },
      "source": [
        "model = Sequential()\n",
        "model.add(Dense(500, input_dim=5, activation='relu'))\n",
        "model.add(Dense(100, activation='relu'))\n",
        "model.add(Dense(50, activation='relu'))\n",
        "model.add(Dropout(rate = 0.1))\n",
        "model.add(Dense(3, activation='softmax'))\n",
        "model.compile(loss='categorical_crossentropy', optimizer='adam', metrics=['accuracy'])"
      ],
      "execution_count": null,
      "outputs": []
    },
    {
      "cell_type": "code",
      "metadata": {
        "id": "kX0JX2JhLQwA"
      },
      "source": [
        "X_train, X_test, y_train, y_test = train_test_split(X, dummy_y, test_size=0.3)"
      ],
      "execution_count": null,
      "outputs": []
    },
    {
      "cell_type": "code",
      "metadata": {
        "colab": {
          "base_uri": "https://localhost:8080/"
        },
        "id": "P8EyA52qLd2R",
        "outputId": "5ff385ea-eaf1-4736-ee77-3348b73f851d"
      },
      "source": [
        "model.fit(X_train, y_train, batch_size=10, epochs=300)"
      ],
      "execution_count": null,
      "outputs": [
        {
          "output_type": "stream",
          "name": "stdout",
          "text": [
            "Epoch 1/300\n",
            "26/26 [==============================] - 1s 2ms/step - loss: 1.0691 - accuracy: 0.5195\n",
            "Epoch 2/300\n",
            "26/26 [==============================] - 0s 2ms/step - loss: 0.5792 - accuracy: 0.7539\n",
            "Epoch 3/300\n",
            "26/26 [==============================] - 0s 3ms/step - loss: 0.4283 - accuracy: 0.8281\n",
            "Epoch 4/300\n",
            "26/26 [==============================] - 0s 2ms/step - loss: 0.4401 - accuracy: 0.8086\n",
            "Epoch 5/300\n",
            "26/26 [==============================] - 0s 2ms/step - loss: 0.3442 - accuracy: 0.8516\n",
            "Epoch 6/300\n",
            "26/26 [==============================] - 0s 2ms/step - loss: 0.2529 - accuracy: 0.8984\n",
            "Epoch 7/300\n",
            "26/26 [==============================] - 0s 2ms/step - loss: 0.2857 - accuracy: 0.8633\n",
            "Epoch 8/300\n",
            "26/26 [==============================] - 0s 2ms/step - loss: 0.2392 - accuracy: 0.9219\n",
            "Epoch 9/300\n",
            "26/26 [==============================] - 0s 3ms/step - loss: 0.2543 - accuracy: 0.9102\n",
            "Epoch 10/300\n",
            "26/26 [==============================] - 0s 3ms/step - loss: 0.1802 - accuracy: 0.9336\n",
            "Epoch 11/300\n",
            "26/26 [==============================] - 0s 3ms/step - loss: 0.1843 - accuracy: 0.9180\n",
            "Epoch 12/300\n",
            "26/26 [==============================] - 0s 3ms/step - loss: 0.1649 - accuracy: 0.9258\n",
            "Epoch 13/300\n",
            "26/26 [==============================] - 0s 3ms/step - loss: 0.2285 - accuracy: 0.9023\n",
            "Epoch 14/300\n",
            "26/26 [==============================] - 0s 2ms/step - loss: 0.1359 - accuracy: 0.9492\n",
            "Epoch 15/300\n",
            "26/26 [==============================] - 0s 2ms/step - loss: 0.1730 - accuracy: 0.9297\n",
            "Epoch 16/300\n",
            "26/26 [==============================] - 0s 2ms/step - loss: 0.1846 - accuracy: 0.9258\n",
            "Epoch 17/300\n",
            "26/26 [==============================] - 0s 3ms/step - loss: 0.2886 - accuracy: 0.8984\n",
            "Epoch 18/300\n",
            "26/26 [==============================] - 0s 2ms/step - loss: 0.1656 - accuracy: 0.9414\n",
            "Epoch 19/300\n",
            "26/26 [==============================] - 0s 3ms/step - loss: 0.1418 - accuracy: 0.9414\n",
            "Epoch 20/300\n",
            "26/26 [==============================] - 0s 3ms/step - loss: 0.1844 - accuracy: 0.9141\n",
            "Epoch 21/300\n",
            "26/26 [==============================] - 0s 2ms/step - loss: 0.1611 - accuracy: 0.9336\n",
            "Epoch 22/300\n",
            "26/26 [==============================] - 0s 3ms/step - loss: 0.1290 - accuracy: 0.9492\n",
            "Epoch 23/300\n",
            "26/26 [==============================] - 0s 2ms/step - loss: 0.1922 - accuracy: 0.9180\n",
            "Epoch 24/300\n",
            "26/26 [==============================] - 0s 2ms/step - loss: 0.1380 - accuracy: 0.9453\n",
            "Epoch 25/300\n",
            "26/26 [==============================] - 0s 3ms/step - loss: 0.1980 - accuracy: 0.9180\n",
            "Epoch 26/300\n",
            "26/26 [==============================] - 0s 3ms/step - loss: 0.1559 - accuracy: 0.9297\n",
            "Epoch 27/300\n",
            "26/26 [==============================] - 0s 2ms/step - loss: 0.2255 - accuracy: 0.9180\n",
            "Epoch 28/300\n",
            "26/26 [==============================] - 0s 3ms/step - loss: 0.1014 - accuracy: 0.9648\n",
            "Epoch 29/300\n",
            "26/26 [==============================] - 0s 2ms/step - loss: 0.1100 - accuracy: 0.9570\n",
            "Epoch 30/300\n",
            "26/26 [==============================] - 0s 2ms/step - loss: 0.1041 - accuracy: 0.9570\n",
            "Epoch 31/300\n",
            "26/26 [==============================] - 0s 3ms/step - loss: 0.1074 - accuracy: 0.9531\n",
            "Epoch 32/300\n",
            "26/26 [==============================] - 0s 2ms/step - loss: 0.1641 - accuracy: 0.9375\n",
            "Epoch 33/300\n",
            "26/26 [==============================] - 0s 2ms/step - loss: 0.1797 - accuracy: 0.9336\n",
            "Epoch 34/300\n",
            "26/26 [==============================] - 0s 2ms/step - loss: 0.0875 - accuracy: 0.9727\n",
            "Epoch 35/300\n",
            "26/26 [==============================] - 0s 2ms/step - loss: 0.1032 - accuracy: 0.9492\n",
            "Epoch 36/300\n",
            "26/26 [==============================] - 0s 3ms/step - loss: 0.1809 - accuracy: 0.9258\n",
            "Epoch 37/300\n",
            "26/26 [==============================] - 0s 2ms/step - loss: 0.0763 - accuracy: 0.9805\n",
            "Epoch 38/300\n",
            "26/26 [==============================] - 0s 3ms/step - loss: 0.1265 - accuracy: 0.9609\n",
            "Epoch 39/300\n",
            "26/26 [==============================] - 0s 2ms/step - loss: 0.1398 - accuracy: 0.9375\n",
            "Epoch 40/300\n",
            "26/26 [==============================] - 0s 2ms/step - loss: 0.1894 - accuracy: 0.9219\n",
            "Epoch 41/300\n",
            "26/26 [==============================] - 0s 3ms/step - loss: 0.1424 - accuracy: 0.9375\n",
            "Epoch 42/300\n",
            "26/26 [==============================] - 0s 3ms/step - loss: 0.0843 - accuracy: 0.9648\n",
            "Epoch 43/300\n",
            "26/26 [==============================] - 0s 3ms/step - loss: 0.0742 - accuracy: 0.9609\n",
            "Epoch 44/300\n",
            "26/26 [==============================] - 0s 2ms/step - loss: 0.0719 - accuracy: 0.9766\n",
            "Epoch 45/300\n",
            "26/26 [==============================] - 0s 3ms/step - loss: 0.1334 - accuracy: 0.9492\n",
            "Epoch 46/300\n",
            "26/26 [==============================] - 0s 3ms/step - loss: 0.0949 - accuracy: 0.9648\n",
            "Epoch 47/300\n",
            "26/26 [==============================] - 0s 3ms/step - loss: 0.0919 - accuracy: 0.9492\n",
            "Epoch 48/300\n",
            "26/26 [==============================] - 0s 3ms/step - loss: 0.1194 - accuracy: 0.9531\n",
            "Epoch 49/300\n",
            "26/26 [==============================] - 0s 2ms/step - loss: 0.0967 - accuracy: 0.9609\n",
            "Epoch 50/300\n",
            "26/26 [==============================] - 0s 2ms/step - loss: 0.0635 - accuracy: 0.9805\n",
            "Epoch 51/300\n",
            "26/26 [==============================] - 0s 2ms/step - loss: 0.1009 - accuracy: 0.9570\n",
            "Epoch 52/300\n",
            "26/26 [==============================] - 0s 2ms/step - loss: 0.0735 - accuracy: 0.9648\n",
            "Epoch 53/300\n",
            "26/26 [==============================] - 0s 3ms/step - loss: 0.0970 - accuracy: 0.9570\n",
            "Epoch 54/300\n",
            "26/26 [==============================] - 0s 3ms/step - loss: 0.0913 - accuracy: 0.9648\n",
            "Epoch 55/300\n",
            "26/26 [==============================] - 0s 2ms/step - loss: 0.0947 - accuracy: 0.9648\n",
            "Epoch 56/300\n",
            "26/26 [==============================] - 0s 2ms/step - loss: 0.1181 - accuracy: 0.9531\n",
            "Epoch 57/300\n",
            "26/26 [==============================] - 0s 3ms/step - loss: 0.1012 - accuracy: 0.9531\n",
            "Epoch 58/300\n",
            "26/26 [==============================] - 0s 3ms/step - loss: 0.0824 - accuracy: 0.9648\n",
            "Epoch 59/300\n",
            "26/26 [==============================] - 0s 3ms/step - loss: 0.0713 - accuracy: 0.9844\n",
            "Epoch 60/300\n",
            "26/26 [==============================] - 0s 3ms/step - loss: 0.0442 - accuracy: 0.9883\n",
            "Epoch 61/300\n",
            "26/26 [==============================] - 0s 2ms/step - loss: 0.0715 - accuracy: 0.9727\n",
            "Epoch 62/300\n",
            "26/26 [==============================] - 0s 2ms/step - loss: 0.1066 - accuracy: 0.9570\n",
            "Epoch 63/300\n",
            "26/26 [==============================] - 0s 3ms/step - loss: 0.1007 - accuracy: 0.9492\n",
            "Epoch 64/300\n",
            "26/26 [==============================] - 0s 3ms/step - loss: 0.0817 - accuracy: 0.9648\n",
            "Epoch 65/300\n",
            "26/26 [==============================] - 0s 3ms/step - loss: 0.1212 - accuracy: 0.9531\n",
            "Epoch 66/300\n",
            "26/26 [==============================] - 0s 2ms/step - loss: 0.1106 - accuracy: 0.9492\n",
            "Epoch 67/300\n",
            "26/26 [==============================] - 0s 2ms/step - loss: 0.0821 - accuracy: 0.9648\n",
            "Epoch 68/300\n",
            "26/26 [==============================] - 0s 3ms/step - loss: 0.0819 - accuracy: 0.9609\n",
            "Epoch 69/300\n",
            "26/26 [==============================] - 0s 3ms/step - loss: 0.1755 - accuracy: 0.9375\n",
            "Epoch 70/300\n",
            "26/26 [==============================] - 0s 2ms/step - loss: 0.0970 - accuracy: 0.9492\n",
            "Epoch 71/300\n",
            "26/26 [==============================] - 0s 2ms/step - loss: 0.0900 - accuracy: 0.9609\n",
            "Epoch 72/300\n",
            "26/26 [==============================] - 0s 2ms/step - loss: 0.0723 - accuracy: 0.9688\n",
            "Epoch 73/300\n",
            "26/26 [==============================] - 0s 2ms/step - loss: 0.0870 - accuracy: 0.9727\n",
            "Epoch 74/300\n",
            "26/26 [==============================] - 0s 3ms/step - loss: 0.0632 - accuracy: 0.9727\n",
            "Epoch 75/300\n",
            "26/26 [==============================] - 0s 2ms/step - loss: 0.0723 - accuracy: 0.9648\n",
            "Epoch 76/300\n",
            "26/26 [==============================] - 0s 3ms/step - loss: 0.0659 - accuracy: 0.9727\n",
            "Epoch 77/300\n",
            "26/26 [==============================] - 0s 3ms/step - loss: 0.0482 - accuracy: 0.9727\n",
            "Epoch 78/300\n",
            "26/26 [==============================] - 0s 3ms/step - loss: 0.0871 - accuracy: 0.9648\n",
            "Epoch 79/300\n",
            "26/26 [==============================] - 0s 3ms/step - loss: 0.0667 - accuracy: 0.9727\n",
            "Epoch 80/300\n",
            "26/26 [==============================] - 0s 3ms/step - loss: 0.1200 - accuracy: 0.9570\n",
            "Epoch 81/300\n",
            "26/26 [==============================] - 0s 3ms/step - loss: 0.0629 - accuracy: 0.9727\n",
            "Epoch 82/300\n",
            "26/26 [==============================] - 0s 3ms/step - loss: 0.0908 - accuracy: 0.9570\n",
            "Epoch 83/300\n",
            "26/26 [==============================] - 0s 2ms/step - loss: 0.1943 - accuracy: 0.9180\n",
            "Epoch 84/300\n",
            "26/26 [==============================] - 0s 2ms/step - loss: 0.1144 - accuracy: 0.9531\n",
            "Epoch 85/300\n",
            "26/26 [==============================] - 0s 3ms/step - loss: 0.1061 - accuracy: 0.9609\n",
            "Epoch 86/300\n",
            "26/26 [==============================] - 0s 2ms/step - loss: 0.1931 - accuracy: 0.9414\n",
            "Epoch 87/300\n",
            "26/26 [==============================] - 0s 3ms/step - loss: 0.0765 - accuracy: 0.9727\n",
            "Epoch 88/300\n",
            "26/26 [==============================] - 0s 2ms/step - loss: 0.0650 - accuracy: 0.9727\n",
            "Epoch 89/300\n",
            "26/26 [==============================] - 0s 2ms/step - loss: 0.0612 - accuracy: 0.9766\n",
            "Epoch 90/300\n",
            "26/26 [==============================] - 0s 3ms/step - loss: 0.1041 - accuracy: 0.9297\n",
            "Epoch 91/300\n",
            "26/26 [==============================] - 0s 3ms/step - loss: 0.0660 - accuracy: 0.9688\n",
            "Epoch 92/300\n",
            "26/26 [==============================] - 0s 3ms/step - loss: 0.0576 - accuracy: 0.9727\n",
            "Epoch 93/300\n",
            "26/26 [==============================] - 0s 2ms/step - loss: 0.0669 - accuracy: 0.9766\n",
            "Epoch 94/300\n",
            "26/26 [==============================] - 0s 2ms/step - loss: 0.0953 - accuracy: 0.9570\n",
            "Epoch 95/300\n",
            "26/26 [==============================] - 0s 2ms/step - loss: 0.1394 - accuracy: 0.9492\n",
            "Epoch 96/300\n",
            "26/26 [==============================] - 0s 3ms/step - loss: 0.1039 - accuracy: 0.9453\n",
            "Epoch 97/300\n",
            "26/26 [==============================] - 0s 2ms/step - loss: 0.0671 - accuracy: 0.9688\n",
            "Epoch 98/300\n",
            "26/26 [==============================] - 0s 2ms/step - loss: 0.0712 - accuracy: 0.9531\n",
            "Epoch 99/300\n",
            "26/26 [==============================] - 0s 2ms/step - loss: 0.0507 - accuracy: 0.9766\n",
            "Epoch 100/300\n",
            "26/26 [==============================] - 0s 2ms/step - loss: 0.0448 - accuracy: 0.9766\n",
            "Epoch 101/300\n",
            "26/26 [==============================] - 0s 3ms/step - loss: 0.0751 - accuracy: 0.9727\n",
            "Epoch 102/300\n",
            "26/26 [==============================] - 0s 2ms/step - loss: 0.0554 - accuracy: 0.9883\n",
            "Epoch 103/300\n",
            "26/26 [==============================] - 0s 3ms/step - loss: 0.0543 - accuracy: 0.9766\n",
            "Epoch 104/300\n",
            "26/26 [==============================] - 0s 2ms/step - loss: 0.0374 - accuracy: 0.9844\n",
            "Epoch 105/300\n",
            "26/26 [==============================] - 0s 2ms/step - loss: 0.0608 - accuracy: 0.9727\n",
            "Epoch 106/300\n",
            "26/26 [==============================] - 0s 2ms/step - loss: 0.0737 - accuracy: 0.9688\n",
            "Epoch 107/300\n",
            "26/26 [==============================] - 0s 3ms/step - loss: 0.0464 - accuracy: 0.9805\n",
            "Epoch 108/300\n",
            "26/26 [==============================] - 0s 2ms/step - loss: 0.0518 - accuracy: 0.9727\n",
            "Epoch 109/300\n",
            "26/26 [==============================] - 0s 2ms/step - loss: 0.0742 - accuracy: 0.9688\n",
            "Epoch 110/300\n",
            "26/26 [==============================] - 0s 2ms/step - loss: 0.0779 - accuracy: 0.9727\n",
            "Epoch 111/300\n",
            "26/26 [==============================] - 0s 3ms/step - loss: 0.0821 - accuracy: 0.9727\n",
            "Epoch 112/300\n",
            "26/26 [==============================] - 0s 2ms/step - loss: 0.0729 - accuracy: 0.9648\n",
            "Epoch 113/300\n",
            "26/26 [==============================] - 0s 3ms/step - loss: 0.0523 - accuracy: 0.9727\n",
            "Epoch 114/300\n",
            "26/26 [==============================] - 0s 2ms/step - loss: 0.0707 - accuracy: 0.9727\n",
            "Epoch 115/300\n",
            "26/26 [==============================] - 0s 2ms/step - loss: 0.1017 - accuracy: 0.9609\n",
            "Epoch 116/300\n",
            "26/26 [==============================] - 0s 3ms/step - loss: 0.1147 - accuracy: 0.9492\n",
            "Epoch 117/300\n",
            "26/26 [==============================] - 0s 2ms/step - loss: 0.0977 - accuracy: 0.9609\n",
            "Epoch 118/300\n",
            "26/26 [==============================] - 0s 3ms/step - loss: 0.0524 - accuracy: 0.9805\n",
            "Epoch 119/300\n",
            "26/26 [==============================] - 0s 2ms/step - loss: 0.0469 - accuracy: 0.9766\n",
            "Epoch 120/300\n",
            "26/26 [==============================] - 0s 3ms/step - loss: 0.0910 - accuracy: 0.9570\n",
            "Epoch 121/300\n",
            "26/26 [==============================] - 0s 2ms/step - loss: 0.0738 - accuracy: 0.9688\n",
            "Epoch 122/300\n",
            "26/26 [==============================] - 0s 3ms/step - loss: 0.1035 - accuracy: 0.9414\n",
            "Epoch 123/300\n",
            "26/26 [==============================] - 0s 3ms/step - loss: 0.0524 - accuracy: 0.9805\n",
            "Epoch 124/300\n",
            "26/26 [==============================] - 0s 2ms/step - loss: 0.0529 - accuracy: 0.9727\n",
            "Epoch 125/300\n",
            "26/26 [==============================] - 0s 3ms/step - loss: 0.0548 - accuracy: 0.9805\n",
            "Epoch 126/300\n",
            "26/26 [==============================] - 0s 3ms/step - loss: 0.0444 - accuracy: 0.9727\n",
            "Epoch 127/300\n",
            "26/26 [==============================] - 0s 2ms/step - loss: 0.0477 - accuracy: 0.9727\n",
            "Epoch 128/300\n",
            "26/26 [==============================] - 0s 3ms/step - loss: 0.0619 - accuracy: 0.9688\n",
            "Epoch 129/300\n",
            "26/26 [==============================] - 0s 3ms/step - loss: 0.0540 - accuracy: 0.9648\n",
            "Epoch 130/300\n",
            "26/26 [==============================] - 0s 3ms/step - loss: 0.1055 - accuracy: 0.9531\n",
            "Epoch 131/300\n",
            "26/26 [==============================] - 0s 2ms/step - loss: 0.0899 - accuracy: 0.9453\n",
            "Epoch 132/300\n",
            "26/26 [==============================] - 0s 2ms/step - loss: 0.0869 - accuracy: 0.9531\n",
            "Epoch 133/300\n",
            "26/26 [==============================] - 0s 2ms/step - loss: 0.1731 - accuracy: 0.9453\n",
            "Epoch 134/300\n",
            "26/26 [==============================] - 0s 3ms/step - loss: 0.1383 - accuracy: 0.9414\n",
            "Epoch 135/300\n",
            "26/26 [==============================] - 0s 3ms/step - loss: 0.0560 - accuracy: 0.9766\n",
            "Epoch 136/300\n",
            "26/26 [==============================] - 0s 3ms/step - loss: 0.0491 - accuracy: 0.9766\n",
            "Epoch 137/300\n",
            "26/26 [==============================] - 0s 2ms/step - loss: 0.0537 - accuracy: 0.9727\n",
            "Epoch 138/300\n",
            "26/26 [==============================] - 0s 3ms/step - loss: 0.0901 - accuracy: 0.9648\n",
            "Epoch 139/300\n",
            "26/26 [==============================] - 0s 2ms/step - loss: 0.0516 - accuracy: 0.9766\n",
            "Epoch 140/300\n",
            "26/26 [==============================] - 0s 2ms/step - loss: 0.0553 - accuracy: 0.9766\n",
            "Epoch 141/300\n",
            "26/26 [==============================] - 0s 2ms/step - loss: 0.0387 - accuracy: 0.9844\n",
            "Epoch 142/300\n",
            "26/26 [==============================] - 0s 3ms/step - loss: 0.0988 - accuracy: 0.9609\n",
            "Epoch 143/300\n",
            "26/26 [==============================] - 0s 3ms/step - loss: 0.0592 - accuracy: 0.9766\n",
            "Epoch 144/300\n",
            "26/26 [==============================] - 0s 3ms/step - loss: 0.0460 - accuracy: 0.9805\n",
            "Epoch 145/300\n",
            "26/26 [==============================] - 0s 3ms/step - loss: 0.0623 - accuracy: 0.9648\n",
            "Epoch 146/300\n",
            "26/26 [==============================] - 0s 2ms/step - loss: 0.0550 - accuracy: 0.9805\n",
            "Epoch 147/300\n",
            "26/26 [==============================] - 0s 2ms/step - loss: 0.0385 - accuracy: 0.9844\n",
            "Epoch 148/300\n",
            "26/26 [==============================] - 0s 3ms/step - loss: 0.0556 - accuracy: 0.9805\n",
            "Epoch 149/300\n",
            "26/26 [==============================] - 0s 2ms/step - loss: 0.0574 - accuracy: 0.9844\n",
            "Epoch 150/300\n",
            "26/26 [==============================] - 0s 2ms/step - loss: 0.0466 - accuracy: 0.9844\n",
            "Epoch 151/300\n",
            "26/26 [==============================] - 0s 3ms/step - loss: 0.0443 - accuracy: 0.9844\n",
            "Epoch 152/300\n",
            "26/26 [==============================] - 0s 2ms/step - loss: 0.0368 - accuracy: 0.9805\n",
            "Epoch 153/300\n",
            "26/26 [==============================] - 0s 2ms/step - loss: 0.0541 - accuracy: 0.9805\n",
            "Epoch 154/300\n",
            "26/26 [==============================] - 0s 2ms/step - loss: 0.0856 - accuracy: 0.9688\n",
            "Epoch 155/300\n",
            "26/26 [==============================] - 0s 3ms/step - loss: 0.0585 - accuracy: 0.9727\n",
            "Epoch 156/300\n",
            "26/26 [==============================] - 0s 2ms/step - loss: 0.0569 - accuracy: 0.9766\n",
            "Epoch 157/300\n",
            "26/26 [==============================] - 0s 3ms/step - loss: 0.0575 - accuracy: 0.9727\n",
            "Epoch 158/300\n",
            "26/26 [==============================] - 0s 3ms/step - loss: 0.0699 - accuracy: 0.9805\n",
            "Epoch 159/300\n",
            "26/26 [==============================] - 0s 3ms/step - loss: 0.0799 - accuracy: 0.9570\n",
            "Epoch 160/300\n",
            "26/26 [==============================] - 0s 3ms/step - loss: 0.0830 - accuracy: 0.9609\n",
            "Epoch 161/300\n",
            "26/26 [==============================] - 0s 2ms/step - loss: 0.0369 - accuracy: 0.9922\n",
            "Epoch 162/300\n",
            "26/26 [==============================] - 0s 2ms/step - loss: 0.0484 - accuracy: 0.9766\n",
            "Epoch 163/300\n",
            "26/26 [==============================] - 0s 3ms/step - loss: 0.0542 - accuracy: 0.9688\n",
            "Epoch 164/300\n",
            "26/26 [==============================] - 0s 2ms/step - loss: 0.0701 - accuracy: 0.9805\n",
            "Epoch 165/300\n",
            "26/26 [==============================] - 0s 3ms/step - loss: 0.0892 - accuracy: 0.9727\n",
            "Epoch 166/300\n",
            "26/26 [==============================] - 0s 2ms/step - loss: 0.0487 - accuracy: 0.9766\n",
            "Epoch 167/300\n",
            "26/26 [==============================] - 0s 2ms/step - loss: 0.0442 - accuracy: 0.9844\n",
            "Epoch 168/300\n",
            "26/26 [==============================] - 0s 2ms/step - loss: 0.0546 - accuracy: 0.9727\n",
            "Epoch 169/300\n",
            "26/26 [==============================] - 0s 3ms/step - loss: 0.0403 - accuracy: 0.9805\n",
            "Epoch 170/300\n",
            "26/26 [==============================] - 0s 3ms/step - loss: 0.0507 - accuracy: 0.9766\n",
            "Epoch 171/300\n",
            "26/26 [==============================] - 0s 3ms/step - loss: 0.0496 - accuracy: 0.9688\n",
            "Epoch 172/300\n",
            "26/26 [==============================] - 0s 3ms/step - loss: 0.0305 - accuracy: 0.9883\n",
            "Epoch 173/300\n",
            "26/26 [==============================] - 0s 3ms/step - loss: 0.0548 - accuracy: 0.9727\n",
            "Epoch 174/300\n",
            "26/26 [==============================] - 0s 3ms/step - loss: 0.0363 - accuracy: 0.9805\n",
            "Epoch 175/300\n",
            "26/26 [==============================] - 0s 3ms/step - loss: 0.0481 - accuracy: 0.9805\n",
            "Epoch 176/300\n",
            "26/26 [==============================] - 0s 2ms/step - loss: 0.0578 - accuracy: 0.9727\n",
            "Epoch 177/300\n",
            "26/26 [==============================] - 0s 2ms/step - loss: 0.0802 - accuracy: 0.9648\n",
            "Epoch 178/300\n",
            "26/26 [==============================] - 0s 3ms/step - loss: 0.0494 - accuracy: 0.9727\n",
            "Epoch 179/300\n",
            "26/26 [==============================] - 0s 2ms/step - loss: 0.0629 - accuracy: 0.9648\n",
            "Epoch 180/300\n",
            "26/26 [==============================] - 0s 3ms/step - loss: 0.0529 - accuracy: 0.9727\n",
            "Epoch 181/300\n",
            "26/26 [==============================] - 0s 2ms/step - loss: 0.0544 - accuracy: 0.9805\n",
            "Epoch 182/300\n",
            "26/26 [==============================] - 0s 2ms/step - loss: 0.0254 - accuracy: 0.9922\n",
            "Epoch 183/300\n",
            "26/26 [==============================] - 0s 2ms/step - loss: 0.0712 - accuracy: 0.9688\n",
            "Epoch 184/300\n",
            "26/26 [==============================] - 0s 3ms/step - loss: 0.0852 - accuracy: 0.9688\n",
            "Epoch 185/300\n",
            "26/26 [==============================] - 0s 3ms/step - loss: 0.1257 - accuracy: 0.9531\n",
            "Epoch 186/300\n",
            "26/26 [==============================] - 0s 3ms/step - loss: 0.0629 - accuracy: 0.9727\n",
            "Epoch 187/300\n",
            "26/26 [==============================] - 0s 3ms/step - loss: 0.0414 - accuracy: 0.9883\n",
            "Epoch 188/300\n",
            "26/26 [==============================] - 0s 3ms/step - loss: 0.0464 - accuracy: 0.9766\n",
            "Epoch 189/300\n",
            "26/26 [==============================] - 0s 3ms/step - loss: 0.0861 - accuracy: 0.9727\n",
            "Epoch 190/300\n",
            "26/26 [==============================] - 0s 3ms/step - loss: 0.0729 - accuracy: 0.9688\n",
            "Epoch 191/300\n",
            "26/26 [==============================] - 0s 3ms/step - loss: 0.0525 - accuracy: 0.9766\n",
            "Epoch 192/300\n",
            "26/26 [==============================] - 0s 3ms/step - loss: 0.0484 - accuracy: 0.9727\n",
            "Epoch 193/300\n",
            "26/26 [==============================] - 0s 2ms/step - loss: 0.0421 - accuracy: 0.9805\n",
            "Epoch 194/300\n",
            "26/26 [==============================] - 0s 2ms/step - loss: 0.0492 - accuracy: 0.9805\n",
            "Epoch 195/300\n",
            "26/26 [==============================] - 0s 2ms/step - loss: 0.0575 - accuracy: 0.9805\n",
            "Epoch 196/300\n",
            "26/26 [==============================] - 0s 3ms/step - loss: 0.0631 - accuracy: 0.9766\n",
            "Epoch 197/300\n",
            "26/26 [==============================] - 0s 3ms/step - loss: 0.0553 - accuracy: 0.9688\n",
            "Epoch 198/300\n",
            "26/26 [==============================] - 0s 3ms/step - loss: 0.0449 - accuracy: 0.9805\n",
            "Epoch 199/300\n",
            "26/26 [==============================] - 0s 3ms/step - loss: 0.0533 - accuracy: 0.9727\n",
            "Epoch 200/300\n",
            "26/26 [==============================] - 0s 3ms/step - loss: 0.0387 - accuracy: 0.9883\n",
            "Epoch 201/300\n",
            "26/26 [==============================] - 0s 3ms/step - loss: 0.0651 - accuracy: 0.9805\n",
            "Epoch 202/300\n",
            "26/26 [==============================] - 0s 2ms/step - loss: 0.0369 - accuracy: 0.9805\n",
            "Epoch 203/300\n",
            "26/26 [==============================] - 0s 3ms/step - loss: 0.0316 - accuracy: 0.9844\n",
            "Epoch 204/300\n",
            "26/26 [==============================] - 0s 3ms/step - loss: 0.0834 - accuracy: 0.9727\n",
            "Epoch 205/300\n",
            "26/26 [==============================] - 0s 3ms/step - loss: 0.0782 - accuracy: 0.9688\n",
            "Epoch 206/300\n",
            "26/26 [==============================] - 0s 3ms/step - loss: 0.0814 - accuracy: 0.9648\n",
            "Epoch 207/300\n",
            "26/26 [==============================] - 0s 3ms/step - loss: 0.0588 - accuracy: 0.9766\n",
            "Epoch 208/300\n",
            "26/26 [==============================] - 0s 3ms/step - loss: 0.0792 - accuracy: 0.9688\n",
            "Epoch 209/300\n",
            "26/26 [==============================] - 0s 2ms/step - loss: 0.0564 - accuracy: 0.9727\n",
            "Epoch 210/300\n",
            "26/26 [==============================] - 0s 2ms/step - loss: 0.0650 - accuracy: 0.9688\n",
            "Epoch 211/300\n",
            "26/26 [==============================] - 0s 3ms/step - loss: 0.0428 - accuracy: 0.9844\n",
            "Epoch 212/300\n",
            "26/26 [==============================] - 0s 3ms/step - loss: 0.0419 - accuracy: 0.9766\n",
            "Epoch 213/300\n",
            "26/26 [==============================] - 0s 3ms/step - loss: 0.0634 - accuracy: 0.9766\n",
            "Epoch 214/300\n",
            "26/26 [==============================] - 0s 3ms/step - loss: 0.0632 - accuracy: 0.9570\n",
            "Epoch 215/300\n",
            "26/26 [==============================] - 0s 3ms/step - loss: 0.0576 - accuracy: 0.9727\n",
            "Epoch 216/300\n",
            "26/26 [==============================] - 0s 3ms/step - loss: 0.0621 - accuracy: 0.9570\n",
            "Epoch 217/300\n",
            "26/26 [==============================] - 0s 3ms/step - loss: 0.0357 - accuracy: 0.9883\n",
            "Epoch 218/300\n",
            "26/26 [==============================] - 0s 3ms/step - loss: 0.0555 - accuracy: 0.9805\n",
            "Epoch 219/300\n",
            "26/26 [==============================] - 0s 3ms/step - loss: 0.0410 - accuracy: 0.9844\n",
            "Epoch 220/300\n",
            "26/26 [==============================] - 0s 2ms/step - loss: 0.0389 - accuracy: 0.9844\n",
            "Epoch 221/300\n",
            "26/26 [==============================] - 0s 3ms/step - loss: 0.0682 - accuracy: 0.9609\n",
            "Epoch 222/300\n",
            "26/26 [==============================] - 0s 3ms/step - loss: 0.0633 - accuracy: 0.9688\n",
            "Epoch 223/300\n",
            "26/26 [==============================] - 0s 3ms/step - loss: 0.0298 - accuracy: 0.9922\n",
            "Epoch 224/300\n",
            "26/26 [==============================] - 0s 3ms/step - loss: 0.0438 - accuracy: 0.9727\n",
            "Epoch 225/300\n",
            "26/26 [==============================] - 0s 3ms/step - loss: 0.0663 - accuracy: 0.9727\n",
            "Epoch 226/300\n",
            "26/26 [==============================] - 0s 3ms/step - loss: 0.0345 - accuracy: 0.9883\n",
            "Epoch 227/300\n",
            "26/26 [==============================] - 0s 3ms/step - loss: 0.0620 - accuracy: 0.9805\n",
            "Epoch 228/300\n",
            "26/26 [==============================] - 0s 3ms/step - loss: 0.0399 - accuracy: 0.9844\n",
            "Epoch 229/300\n",
            "26/26 [==============================] - 0s 3ms/step - loss: 0.0466 - accuracy: 0.9727\n",
            "Epoch 230/300\n",
            "26/26 [==============================] - 0s 3ms/step - loss: 0.0318 - accuracy: 0.9844\n",
            "Epoch 231/300\n",
            "26/26 [==============================] - 0s 2ms/step - loss: 0.0562 - accuracy: 0.9805\n",
            "Epoch 232/300\n",
            "26/26 [==============================] - 0s 3ms/step - loss: 0.0486 - accuracy: 0.9648\n",
            "Epoch 233/300\n",
            "26/26 [==============================] - 0s 3ms/step - loss: 0.0535 - accuracy: 0.9727\n",
            "Epoch 234/300\n",
            "26/26 [==============================] - 0s 3ms/step - loss: 0.0596 - accuracy: 0.9844\n",
            "Epoch 235/300\n",
            "26/26 [==============================] - 0s 3ms/step - loss: 0.0475 - accuracy: 0.9844\n",
            "Epoch 236/300\n",
            "26/26 [==============================] - 0s 3ms/step - loss: 0.0365 - accuracy: 0.9805\n",
            "Epoch 237/300\n",
            "26/26 [==============================] - 0s 3ms/step - loss: 0.0418 - accuracy: 0.9766\n",
            "Epoch 238/300\n",
            "26/26 [==============================] - 0s 3ms/step - loss: 0.0416 - accuracy: 0.9766\n",
            "Epoch 239/300\n",
            "26/26 [==============================] - 0s 3ms/step - loss: 0.0358 - accuracy: 0.9805\n",
            "Epoch 240/300\n",
            "26/26 [==============================] - 0s 3ms/step - loss: 0.0340 - accuracy: 0.9805\n",
            "Epoch 241/300\n",
            "26/26 [==============================] - 0s 3ms/step - loss: 0.0316 - accuracy: 0.9844\n",
            "Epoch 242/300\n",
            "26/26 [==============================] - 0s 3ms/step - loss: 0.0909 - accuracy: 0.9648\n",
            "Epoch 243/300\n",
            "26/26 [==============================] - 0s 3ms/step - loss: 0.0534 - accuracy: 0.9727\n",
            "Epoch 244/300\n",
            "26/26 [==============================] - 0s 3ms/step - loss: 0.0554 - accuracy: 0.9805\n",
            "Epoch 245/300\n",
            "26/26 [==============================] - 0s 3ms/step - loss: 0.0422 - accuracy: 0.9883\n",
            "Epoch 246/300\n",
            "26/26 [==============================] - 0s 3ms/step - loss: 0.0390 - accuracy: 0.9844\n",
            "Epoch 247/300\n",
            "26/26 [==============================] - 0s 3ms/step - loss: 0.0494 - accuracy: 0.9727\n",
            "Epoch 248/300\n",
            "26/26 [==============================] - 0s 3ms/step - loss: 0.0351 - accuracy: 0.9805\n",
            "Epoch 249/300\n",
            "26/26 [==============================] - 0s 3ms/step - loss: 0.0455 - accuracy: 0.9727\n",
            "Epoch 250/300\n",
            "26/26 [==============================] - 0s 3ms/step - loss: 0.0481 - accuracy: 0.9844\n",
            "Epoch 251/300\n",
            "26/26 [==============================] - 0s 3ms/step - loss: 0.0457 - accuracy: 0.9805\n",
            "Epoch 252/300\n",
            "26/26 [==============================] - 0s 3ms/step - loss: 0.0412 - accuracy: 0.9766\n",
            "Epoch 253/300\n",
            "26/26 [==============================] - 0s 3ms/step - loss: 0.0307 - accuracy: 0.9922\n",
            "Epoch 254/300\n",
            "26/26 [==============================] - 0s 3ms/step - loss: 0.0636 - accuracy: 0.9688\n",
            "Epoch 255/300\n",
            "26/26 [==============================] - 0s 3ms/step - loss: 0.0319 - accuracy: 0.9883\n",
            "Epoch 256/300\n",
            "26/26 [==============================] - 0s 3ms/step - loss: 0.0575 - accuracy: 0.9727\n",
            "Epoch 257/300\n",
            "26/26 [==============================] - 0s 3ms/step - loss: 0.0404 - accuracy: 0.9844\n",
            "Epoch 258/300\n",
            "26/26 [==============================] - 0s 3ms/step - loss: 0.0636 - accuracy: 0.9688\n",
            "Epoch 259/300\n",
            "26/26 [==============================] - 0s 3ms/step - loss: 0.0633 - accuracy: 0.9766\n",
            "Epoch 260/300\n",
            "26/26 [==============================] - 0s 3ms/step - loss: 0.0414 - accuracy: 0.9805\n",
            "Epoch 261/300\n",
            "26/26 [==============================] - 0s 3ms/step - loss: 0.0318 - accuracy: 0.9922\n",
            "Epoch 262/300\n",
            "26/26 [==============================] - 0s 3ms/step - loss: 0.0354 - accuracy: 0.9844\n",
            "Epoch 263/300\n",
            "26/26 [==============================] - 0s 3ms/step - loss: 0.0364 - accuracy: 0.9883\n",
            "Epoch 264/300\n",
            "26/26 [==============================] - 0s 3ms/step - loss: 0.0616 - accuracy: 0.9688\n",
            "Epoch 265/300\n",
            "26/26 [==============================] - 0s 3ms/step - loss: 0.0547 - accuracy: 0.9727\n",
            "Epoch 266/300\n",
            "26/26 [==============================] - 0s 3ms/step - loss: 0.0392 - accuracy: 0.9766\n",
            "Epoch 267/300\n",
            "26/26 [==============================] - 0s 3ms/step - loss: 0.0404 - accuracy: 0.9844\n",
            "Epoch 268/300\n",
            "26/26 [==============================] - 0s 3ms/step - loss: 0.0565 - accuracy: 0.9805\n",
            "Epoch 269/300\n",
            "26/26 [==============================] - 0s 3ms/step - loss: 0.1827 - accuracy: 0.9375\n",
            "Epoch 270/300\n",
            "26/26 [==============================] - 0s 3ms/step - loss: 0.0743 - accuracy: 0.9727\n",
            "Epoch 271/300\n",
            "26/26 [==============================] - 0s 3ms/step - loss: 0.0398 - accuracy: 0.9844\n",
            "Epoch 272/300\n",
            "26/26 [==============================] - 0s 3ms/step - loss: 0.0463 - accuracy: 0.9727\n",
            "Epoch 273/300\n",
            "26/26 [==============================] - 0s 3ms/step - loss: 0.0639 - accuracy: 0.9688\n",
            "Epoch 274/300\n",
            "26/26 [==============================] - 0s 2ms/step - loss: 0.0356 - accuracy: 0.9844\n",
            "Epoch 275/300\n",
            "26/26 [==============================] - 0s 3ms/step - loss: 0.0739 - accuracy: 0.9688\n",
            "Epoch 276/300\n",
            "26/26 [==============================] - 0s 3ms/step - loss: 0.0341 - accuracy: 0.9805\n",
            "Epoch 277/300\n",
            "26/26 [==============================] - 0s 3ms/step - loss: 0.0334 - accuracy: 0.9844\n",
            "Epoch 278/300\n",
            "26/26 [==============================] - 0s 3ms/step - loss: 0.0354 - accuracy: 0.9805\n",
            "Epoch 279/300\n",
            "26/26 [==============================] - 0s 3ms/step - loss: 0.0428 - accuracy: 0.9844\n",
            "Epoch 280/300\n",
            "26/26 [==============================] - 0s 3ms/step - loss: 0.0309 - accuracy: 0.9922\n",
            "Epoch 281/300\n",
            "26/26 [==============================] - 0s 3ms/step - loss: 0.0525 - accuracy: 0.9805\n",
            "Epoch 282/300\n",
            "26/26 [==============================] - 0s 3ms/step - loss: 0.0871 - accuracy: 0.9648\n",
            "Epoch 283/300\n",
            "26/26 [==============================] - 0s 3ms/step - loss: 0.0611 - accuracy: 0.9688\n",
            "Epoch 284/300\n",
            "26/26 [==============================] - 0s 3ms/step - loss: 0.0465 - accuracy: 0.9805\n",
            "Epoch 285/300\n",
            "26/26 [==============================] - 0s 3ms/step - loss: 0.0395 - accuracy: 0.9766\n",
            "Epoch 286/300\n",
            "26/26 [==============================] - 0s 3ms/step - loss: 0.0481 - accuracy: 0.9688\n",
            "Epoch 287/300\n",
            "26/26 [==============================] - 0s 3ms/step - loss: 0.0304 - accuracy: 0.9844\n",
            "Epoch 288/300\n",
            "26/26 [==============================] - 0s 3ms/step - loss: 0.0342 - accuracy: 0.9844\n",
            "Epoch 289/300\n",
            "26/26 [==============================] - 0s 3ms/step - loss: 0.0312 - accuracy: 0.9844\n",
            "Epoch 290/300\n",
            "26/26 [==============================] - 0s 3ms/step - loss: 0.0434 - accuracy: 0.9766\n",
            "Epoch 291/300\n",
            "26/26 [==============================] - 0s 3ms/step - loss: 0.0331 - accuracy: 0.9844\n",
            "Epoch 292/300\n",
            "26/26 [==============================] - 0s 2ms/step - loss: 0.0333 - accuracy: 0.9844\n",
            "Epoch 293/300\n",
            "26/26 [==============================] - 0s 3ms/step - loss: 0.0463 - accuracy: 0.9805\n",
            "Epoch 294/300\n",
            "26/26 [==============================] - 0s 2ms/step - loss: 0.0365 - accuracy: 0.9805\n",
            "Epoch 295/300\n",
            "26/26 [==============================] - 0s 3ms/step - loss: 0.0457 - accuracy: 0.9766\n",
            "Epoch 296/300\n",
            "26/26 [==============================] - 0s 3ms/step - loss: 0.0435 - accuracy: 0.9805\n",
            "Epoch 297/300\n",
            "26/26 [==============================] - 0s 3ms/step - loss: 0.0425 - accuracy: 0.9805\n",
            "Epoch 298/300\n",
            "26/26 [==============================] - 0s 3ms/step - loss: 0.0347 - accuracy: 0.9805\n",
            "Epoch 299/300\n",
            "26/26 [==============================] - 0s 3ms/step - loss: 0.0471 - accuracy: 0.9688\n",
            "Epoch 300/300\n",
            "26/26 [==============================] - 0s 3ms/step - loss: 0.0362 - accuracy: 0.9805\n"
          ]
        },
        {
          "output_type": "execute_result",
          "data": {
            "text/plain": [
              "<keras.callbacks.History at 0x7f8d1023bed0>"
            ]
          },
          "metadata": {},
          "execution_count": 41
        }
      ]
    },
    {
      "cell_type": "code",
      "metadata": {
        "colab": {
          "base_uri": "https://localhost:8080/"
        },
        "id": "RT5uJsfUMTSs",
        "outputId": "338c91c6-d9d3-4425-8a01-325f31a8648f"
      },
      "source": [
        "model.evaluate(X_test, y_test)"
      ],
      "execution_count": null,
      "outputs": [
        {
          "output_type": "stream",
          "name": "stdout",
          "text": [
            "4/4 [==============================] - 0s 3ms/step - loss: 0.0717 - accuracy: 0.9820\n"
          ]
        },
        {
          "output_type": "execute_result",
          "data": {
            "text/plain": [
              "[0.07166693359613419, 0.9819819927215576]"
            ]
          },
          "metadata": {},
          "execution_count": 42
        }
      ]
    },
    {
      "cell_type": "code",
      "metadata": {
        "colab": {
          "base_uri": "https://localhost:8080/"
        },
        "id": "DeUb6FruNR18",
        "outputId": "e69351a2-2f93-4ec1-a1e3-9e475078669e"
      },
      "source": [
        "X_new = [[3, 0.7, 100, 0, 0]]\n",
        "y_proba = model.predict(X_new)\n",
        "y_proba.round(2)"
      ],
      "execution_count": null,
      "outputs": [
        {
          "output_type": "execute_result",
          "data": {
            "text/plain": [
              "array([[0., 1., 0.]], dtype=float32)"
            ]
          },
          "metadata": {},
          "execution_count": 43
        }
      ]
    },
    {
      "cell_type": "code",
      "metadata": {
        "colab": {
          "base_uri": "https://localhost:8080/"
        },
        "id": "YMOJhgCwNsgb",
        "outputId": "4d42d105-1ce1-465c-91f3-a71810ad0c14"
      },
      "source": [
        "y_pred = model.predict(X_new)\n",
        "classes_x=np.argmax(y_pred,axis=1)\n",
        "classes_x"
      ],
      "execution_count": null,
      "outputs": [
        {
          "output_type": "execute_result",
          "data": {
            "text/plain": [
              "array([1])"
            ]
          },
          "metadata": {},
          "execution_count": 44
        }
      ]
    },
    {
      "cell_type": "code",
      "metadata": {
        "id": "FB-LvhSPQZMu"
      },
      "source": [
        "from sklearn.model_selection import GridSearchCV\n",
        "def baseline_model():\n",
        "  model = Sequential()\n",
        "  model.add(Dense(500, input_dim=5, activation='relu'))\n",
        "  model.add(Dense(100, activation='relu'))\n",
        "  model.add(Dense(50, activation='relu'))\n",
        "  model.add(Dropout(rate = 0.1))\n",
        "  model.add(Dense(3, activation='softmax'))\n",
        "  model.compile(loss='categorical_crossentropy', optimizer='adam', metrics=['accuracy'])\n",
        "  return model"
      ],
      "execution_count": null,
      "outputs": []
    },
    {
      "cell_type": "code",
      "metadata": {
        "id": "_5K3OIRgUuhO"
      },
      "source": [
        "estimator = KerasClassifier(build_fn=baseline_model, epochs=200, batch_size=4, verbose=0)\n",
        "kfold = KFold(n_splits=10, shuffle=True)"
      ],
      "execution_count": null,
      "outputs": []
    },
    {
      "cell_type": "code",
      "metadata": {
        "colab": {
          "base_uri": "https://localhost:8080/"
        },
        "id": "sNQCcjXYVNuw",
        "outputId": "4d88069a-70a9-4ebd-94fa-c2ccc9a13bbd"
      },
      "source": [
        "results_keras = cross_val_score(estimator, X, dummy_y, cv=kfold)\n",
        "print(\"Baseline: %.2f%% (%.2f%%)\" % (results_keras.mean()*100, results_keras.std()*100))"
      ],
      "execution_count": null,
      "outputs": [
        {
          "output_type": "stream",
          "name": "stdout",
          "text": [
            "Baseline: 94.27% (4.32%)\n"
          ]
        }
      ]
    },
    {
      "cell_type": "code",
      "metadata": {
        "colab": {
          "base_uri": "https://localhost:8080/"
        },
        "id": "JocwR5dhVPAW",
        "outputId": "30b8a95d-dc27-4717-9e0f-5f7c85be563c"
      },
      "source": [
        "estimator.fit(X_train, y_train)"
      ],
      "execution_count": null,
      "outputs": [
        {
          "output_type": "execute_result",
          "data": {
            "text/plain": [
              "<keras.callbacks.History at 0x7f8d0a34b910>"
            ]
          },
          "metadata": {},
          "execution_count": 66
        }
      ]
    },
    {
      "cell_type": "code",
      "metadata": {
        "colab": {
          "base_uri": "https://localhost:8080/"
        },
        "id": "-zRzrAvomMdh",
        "outputId": "ce6a71de-ded7-49ae-bfc3-eb8fd1d21d13"
      },
      "source": [
        "X_new = X_test[:3]\n",
        "y_proba = estimator.predict(X_new)\n",
        "y_proba.round(2)"
      ],
      "execution_count": null,
      "outputs": [
        {
          "output_type": "execute_result",
          "data": {
            "text/plain": [
              "array([1, 0, 2])"
            ]
          },
          "metadata": {},
          "execution_count": 67
        }
      ]
    },
    {
      "cell_type": "code",
      "metadata": {
        "colab": {
          "base_uri": "https://localhost:8080/"
        },
        "id": "INL_ujRImbzy",
        "outputId": "5d807792-276f-4e09-d10e-734342012dec"
      },
      "source": [
        "y_pred = estimator.predict(X_new)\n",
        "y_test"
      ],
      "execution_count": null,
      "outputs": [
        {
          "output_type": "execute_result",
          "data": {
            "text/plain": [
              "array([1, 0, 2])"
            ]
          },
          "metadata": {},
          "execution_count": 71
        }
      ]
    },
    {
      "cell_type": "code",
      "metadata": {
        "colab": {
          "base_uri": "https://localhost:8080/"
        },
        "id": "2xK1yjonmhqf",
        "outputId": "4813b0f9-708d-46b7-c685-b7bd8265d5f8"
      },
      "source": [
        "y_test[:3]"
      ],
      "execution_count": null,
      "outputs": [
        {
          "output_type": "execute_result",
          "data": {
            "text/plain": [
              "array([[0., 1., 0.],\n",
              "       [1., 0., 0.],\n",
              "       [0., 0., 1.]], dtype=float32)"
            ]
          },
          "metadata": {},
          "execution_count": 72
        }
      ]
    }
  ]
}